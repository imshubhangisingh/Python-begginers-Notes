{
  "nbformat": 4,
  "nbformat_minor": 0,
  "metadata": {
    "colab": {
      "provenance": [],
      "include_colab_link": true
    },
    "kernelspec": {
      "name": "python3",
      "display_name": "Python 3"
    },
    "language_info": {
      "name": "python"
    }
  },
  "cells": [
    {
      "cell_type": "markdown",
      "metadata": {
        "id": "view-in-github",
        "colab_type": "text"
      },
      "source": [
        "<a href=\"https://colab.research.google.com/github/imshubhangisingh/Python-begginers-Notes/blob/main/2)Beginner_functions_2.ipynb\" target=\"_parent\"><img src=\"https://colab.research.google.com/assets/colab-badge.svg\" alt=\"Open In Colab\"/></a>"
      ]
    },
    {
      "cell_type": "code",
      "source": [
        "# https://pythontutor.com/visualize.html#mode=edit"
      ],
      "metadata": {
        "id": "08pADSRRwyt8"
      },
      "execution_count": null,
      "outputs": []
    },
    {
      "cell_type": "markdown",
      "source": [
        "###**Quiz-1**\n",
        "```python\n",
        "function random():\n",
        "    return True\n",
        "random()\n",
        "```\n",
        "```\n",
        "    function random():\n",
        "             ^\n",
        "SyntaxError: invalid syntax\n",
        "```\n",
        "```\n",
        "Options:\n",
        "A. True\n",
        "B. 1\n",
        "C. None\n",
        "D. Error <<<<---\n",
        "```"
      ],
      "metadata": {
        "id": "-38PwrDlSUWG"
      }
    },
    {
      "cell_type": "code",
      "source": [
        "def random():\n",
        "    return True\n",
        "random()"
      ],
      "metadata": {
        "colab": {
          "base_uri": "https://localhost:8080/"
        },
        "id": "PuSZqqKYTXYn",
        "outputId": "062e8ebf-6282-44cb-8e65-f4a81bb53756"
      },
      "execution_count": null,
      "outputs": [
        {
          "output_type": "execute_result",
          "data": {
            "text/plain": [
              "True"
            ]
          },
          "metadata": {},
          "execution_count": 2
        }
      ]
    },
    {
      "cell_type": "markdown",
      "source": [
        "###**Quiz-2**\n",
        "```python\n",
        "def abc:\n",
        "    return \"I am a function!\"\n",
        "abc()\n",
        "```\n",
        "```\n",
        "Options:\n",
        "A. \"I am a function\"\n",
        "B. 'I am a function'\n",
        "C. '''I am a function'''\n",
        "D. None of the above <<<----\n",
        "```\n",
        "\n",
        "> ---------------------------\n",
        "\n",
        "```python\n",
        "def abc():\n",
        "    return \"I am a function!\"\n",
        "abc()\n",
        "```\n",
        "```\n",
        "Options:\n",
        "A. \"I am a function\"\n",
        "B. 'I am a function'\n",
        "C. '''I am a function'''\n",
        "D. None of the above <<<----\n",
        "```"
      ],
      "metadata": {
        "id": "hefnqLuTTnYK"
      }
    },
    {
      "cell_type": "code",
      "source": [
        "temp = 10\n",
        "def abc():\n",
        "    return \"I am a function!\"\n",
        "abc()\n",
        "temp = 10"
      ],
      "metadata": {
        "id": "4lu1Zc4GULGE"
      },
      "execution_count": null,
      "outputs": []
    },
    {
      "cell_type": "code",
      "source": [
        "output_of_print = print()\n",
        "print(output_of_print)"
      ],
      "metadata": {
        "colab": {
          "base_uri": "https://localhost:8080/"
        },
        "id": "5qjjiX7LUxFG",
        "outputId": "de0ce287-6fe5-4816-8705-95de44edc3c7"
      },
      "execution_count": null,
      "outputs": [
        {
          "output_type": "stream",
          "name": "stdout",
          "text": [
            "\n",
            "None\n"
          ]
        }
      ]
    },
    {
      "cell_type": "markdown",
      "source": [
        "###**Quiz-3**\n",
        "```python\n",
        "a = 10\n",
        "def calculator(number):\n",
        "    print(number * 10)\n",
        "\n",
        "calculator(a)\n",
        "print(number)\n",
        "print(a)\n",
        "```\n",
        "```\n",
        "Options:\n",
        "A. Error\n",
        "\n",
        "B.\n",
        "100\n",
        "10\n",
        "10\n",
        "\n",
        "C.\n",
        "100\n",
        "10\n",
        "100\n",
        "\n",
        "D.\n",
        "100\n",
        "100\n",
        "100\n",
        "```"
      ],
      "metadata": {
        "id": "4R1op9ZBUrc0"
      }
    },
    {
      "cell_type": "code",
      "source": [
        "a = 10\n",
        "def calculator(number):\n",
        "    print(number * 10)\n",
        "\n",
        "calculator(a)\n",
        "print(number)\n",
        "print(a)"
      ],
      "metadata": {
        "colab": {
          "base_uri": "https://localhost:8080/",
          "height": 236
        },
        "id": "0DbbKOcLUXGk",
        "outputId": "fd2ab173-3fff-4d2b-c09d-10fcf505e347"
      },
      "execution_count": null,
      "outputs": [
        {
          "output_type": "stream",
          "name": "stdout",
          "text": [
            "100\n"
          ]
        },
        {
          "output_type": "error",
          "ename": "NameError",
          "evalue": "ignored",
          "traceback": [
            "\u001b[0;31m---------------------------------------------------------------------------\u001b[0m",
            "\u001b[0;31mNameError\u001b[0m                                 Traceback (most recent call last)",
            "\u001b[0;32m<ipython-input-8-d85accb3108c>\u001b[0m in \u001b[0;36m<cell line: 6>\u001b[0;34m()\u001b[0m\n\u001b[1;32m      4\u001b[0m \u001b[0;34m\u001b[0m\u001b[0m\n\u001b[1;32m      5\u001b[0m \u001b[0mcalculator\u001b[0m\u001b[0;34m(\u001b[0m\u001b[0ma\u001b[0m\u001b[0;34m)\u001b[0m\u001b[0;34m\u001b[0m\u001b[0;34m\u001b[0m\u001b[0m\n\u001b[0;32m----> 6\u001b[0;31m \u001b[0mprint\u001b[0m\u001b[0;34m(\u001b[0m\u001b[0mnumber\u001b[0m\u001b[0;34m)\u001b[0m\u001b[0;34m\u001b[0m\u001b[0;34m\u001b[0m\u001b[0m\n\u001b[0m\u001b[1;32m      7\u001b[0m \u001b[0mprint\u001b[0m\u001b[0;34m(\u001b[0m\u001b[0ma\u001b[0m\u001b[0;34m)\u001b[0m\u001b[0;34m\u001b[0m\u001b[0;34m\u001b[0m\u001b[0m\n",
            "\u001b[0;31mNameError\u001b[0m: name 'number' is not defined"
          ]
        }
      ]
    },
    {
      "cell_type": "code",
      "source": [
        "a = 10# global >> anyone/evertone\n",
        "def random(x,y,z):\n",
        "    total = x+y+z\n",
        "    print(total)\n",
        "print(random(1,2,3))\n",
        "# print(total) # these are local to function, they stay in function scope and are not available outside\n",
        "# print(x,y,z)"
      ],
      "metadata": {
        "colab": {
          "base_uri": "https://localhost:8080/",
          "height": 236
        },
        "id": "eZVnl_nLWtgK",
        "outputId": "0e3c839c-84fd-4722-9f4a-3a2e8257c0c9"
      },
      "execution_count": null,
      "outputs": [
        {
          "output_type": "stream",
          "name": "stdout",
          "text": [
            "6\n",
            "None\n"
          ]
        },
        {
          "output_type": "error",
          "ename": "NameError",
          "evalue": "ignored",
          "traceback": [
            "\u001b[0;31m---------------------------------------------------------------------------\u001b[0m",
            "\u001b[0;31mNameError\u001b[0m                                 Traceback (most recent call last)",
            "\u001b[0;32m<ipython-input-11-9e87ef4a7704>\u001b[0m in \u001b[0;36m<cell line: 6>\u001b[0;34m()\u001b[0m\n\u001b[1;32m      4\u001b[0m     \u001b[0mprint\u001b[0m\u001b[0;34m(\u001b[0m\u001b[0mtotal\u001b[0m\u001b[0;34m)\u001b[0m\u001b[0;34m\u001b[0m\u001b[0;34m\u001b[0m\u001b[0m\n\u001b[1;32m      5\u001b[0m \u001b[0mprint\u001b[0m\u001b[0;34m(\u001b[0m\u001b[0mrandom\u001b[0m\u001b[0;34m(\u001b[0m\u001b[0;36m1\u001b[0m\u001b[0;34m,\u001b[0m\u001b[0;36m2\u001b[0m\u001b[0;34m,\u001b[0m\u001b[0;36m3\u001b[0m\u001b[0;34m)\u001b[0m\u001b[0;34m)\u001b[0m\u001b[0;34m\u001b[0m\u001b[0;34m\u001b[0m\u001b[0m\n\u001b[0;32m----> 6\u001b[0;31m \u001b[0mprint\u001b[0m\u001b[0;34m(\u001b[0m\u001b[0mx\u001b[0m\u001b[0;34m,\u001b[0m\u001b[0my\u001b[0m\u001b[0;34m,\u001b[0m\u001b[0mz\u001b[0m\u001b[0;34m)\u001b[0m\u001b[0;34m\u001b[0m\u001b[0;34m\u001b[0m\u001b[0m\n\u001b[0m",
            "\u001b[0;31mNameError\u001b[0m: name 'x' is not defined"
          ]
        }
      ]
    },
    {
      "cell_type": "code",
      "source": [
        "a = 10# global >> anyone/evertone\n",
        "def random(x,y,z):\n",
        "    total = x+y+z\n",
        "    print(\"total inside random\",total)\n",
        "    print(a)# a is global, can acees the value here\n",
        "print(random(1,2,3))"
      ],
      "metadata": {
        "colab": {
          "base_uri": "https://localhost:8080/"
        },
        "id": "3E8rOiTYXScP",
        "outputId": "ab911f35-1a4e-4d3c-d7ba-0e06c3fddd63"
      },
      "execution_count": null,
      "outputs": [
        {
          "output_type": "stream",
          "name": "stdout",
          "text": [
            "total inside random 6\n",
            "10\n",
            "None\n"
          ]
        }
      ]
    },
    {
      "cell_type": "code",
      "source": [
        "a = 10# global >> anyone/evertone\n",
        "def random(x,y,z):\n",
        "    total = x+y+z\n",
        "    print(total)\n",
        "    print(a)# a is global, can acees the value here\n",
        "    return total\n",
        "total = random(1,2,3)\n",
        "print(total)"
      ],
      "metadata": {
        "colab": {
          "base_uri": "https://localhost:8080/"
        },
        "id": "DMEiOCwIXfYk",
        "outputId": "d31a49cc-3f1d-4b6a-b1b2-f69392df3208"
      },
      "execution_count": null,
      "outputs": [
        {
          "output_type": "stream",
          "name": "stdout",
          "text": [
            "6\n",
            "10\n",
            "6\n"
          ]
        }
      ]
    },
    {
      "cell_type": "code",
      "source": [
        "print(total)"
      ],
      "metadata": {
        "colab": {
          "base_uri": "https://localhost:8080/"
        },
        "id": "RPdUxu3dXq4F",
        "outputId": "5c4213e2-22db-4272-ef12-859ea1f9db21"
      },
      "execution_count": null,
      "outputs": [
        {
          "output_type": "stream",
          "name": "stdout",
          "text": [
            "6\n"
          ]
        }
      ]
    },
    {
      "cell_type": "code",
      "source": [
        "# Local, global, built-in"
      ],
      "metadata": {
        "id": "mAXCqfZSbzbX"
      },
      "execution_count": null,
      "outputs": []
    },
    {
      "cell_type": "code",
      "source": [
        "def func():\n",
        "    randomVar = 10\n",
        "    return randomVar\n",
        "print(func())\n",
        "newVar = func()\n",
        "print(newVar)"
      ],
      "metadata": {
        "colab": {
          "base_uri": "https://localhost:8080/"
        },
        "id": "09bHfDhUcIQc",
        "outputId": "3e64396e-f0cc-4702-8026-28acf6b022d7"
      },
      "execution_count": null,
      "outputs": [
        {
          "output_type": "stream",
          "name": "stdout",
          "text": [
            "10\n",
            "10\n"
          ]
        }
      ]
    },
    {
      "cell_type": "code",
      "source": [
        "a = 10# global >> anyone/evertone\n",
        "def random(x,y,z):\n",
        "    total = x+y+z\n",
        "    print(\"total inside random\",total)\n",
        "    a = 5 # this is trying tot  create a variable called a\n",
        "    print(\"second a print\", a)# a is local\n",
        "    return a\n",
        "another_var = random(1,2,3)\n",
        "# a = random(1,2,3)\n",
        "print(another_var)\n",
        "print(\"a in global is\", a)"
      ],
      "metadata": {
        "colab": {
          "base_uri": "https://localhost:8080/"
        },
        "id": "UKAY7de3ee71",
        "outputId": "f3eb5111-c656-4406-db67-fe0ac192cb22"
      },
      "execution_count": null,
      "outputs": [
        {
          "output_type": "stream",
          "name": "stdout",
          "text": [
            "total inside random 6\n",
            "second a print 5\n",
            "5\n",
            "a in global is 10\n"
          ]
        }
      ]
    },
    {
      "cell_type": "code",
      "source": [
        "a = 10# global >> anyone/evertone\n",
        "def random(x,y,z):\n",
        "    total = x+y+z\n",
        "    print(\"total inside random\",total)\n",
        "    global a\n",
        "    a = 5 # this is NOT trying to create a variable called a, working with the goal a\n",
        "    print(\"second a print\", a)# a is local\n",
        "    return a\n",
        "another_var = random(1,2,3)\n",
        "# a = random(1,2,3)\n",
        "print(another_var)\n",
        "print(\"a in global is\", a)"
      ],
      "metadata": {
        "colab": {
          "base_uri": "https://localhost:8080/"
        },
        "id": "noSH9frMfLsS",
        "outputId": "7fbe89be-1cea-4a22-c82f-5d9c4905a077"
      },
      "execution_count": null,
      "outputs": [
        {
          "output_type": "stream",
          "name": "stdout",
          "text": [
            "total inside random 6\n",
            "second a print 5\n",
            "5\n",
            "a in global is 5\n"
          ]
        }
      ]
    },
    {
      "cell_type": "markdown",
      "source": [
        "###**Quiz-4**\n",
        "```python\n",
        "a = 10\n",
        "def calculator(number):\n",
        "    print(number * 10)\n",
        "\n",
        "calculator(a)\n",
        "print(a)\n",
        "```\n",
        "```\n",
        "Options:\n",
        "A.\n",
        "100\n",
        "100\n",
        "\n",
        "B.\n",
        "100\n",
        "10\n",
        "\n",
        "C.\n",
        "10\n",
        "100\n",
        "\n",
        "D.\n",
        "10\n",
        "10\n",
        "```"
      ],
      "metadata": {
        "id": "UoTW8bGpiGlW"
      }
    },
    {
      "cell_type": "code",
      "source": [
        "# How many return statements can a function have? >> Any number\n",
        "# How many return statements can be executed in a function at a time? >> 1"
      ],
      "metadata": {
        "id": "Y1aniLK7iG-1"
      },
      "execution_count": null,
      "outputs": []
    },
    {
      "cell_type": "code",
      "source": [
        "def smallesMultiple(n):\n",
        "    if n%2==0:\n",
        "        return 2\n",
        "    elif n%3==0:\n",
        "        return 3\n",
        "    elif n%5==0:\n",
        "        return 5\n",
        "    elif n%7==0:\n",
        "        return 7\n",
        "    elif n%11==0:\n",
        "        return 1\n",
        "print(smallesMultiple(49))"
      ],
      "metadata": {
        "colab": {
          "base_uri": "https://localhost:8080/"
        },
        "id": "A26jxt0JlFVg",
        "outputId": "8cb6bf78-d3c3-4a5c-a47d-c4cd7882184c"
      },
      "execution_count": null,
      "outputs": [
        {
          "output_type": "stream",
          "name": "stdout",
          "text": [
            "7\n"
          ]
        }
      ]
    },
    {
      "cell_type": "code",
      "source": [
        "def iLikeRturns(n):\n",
        "    return 1\n",
        "    return 1\n",
        "    return 1\n",
        "    return 10\n",
        "    return 1\n",
        "    return 1\n",
        "    return 111\n",
        "    return 1\n",
        "print(iLikeRturns(49))"
      ],
      "metadata": {
        "colab": {
          "base_uri": "https://localhost:8080/"
        },
        "id": "2WQrtueBlXCQ",
        "outputId": "304c5d8c-496e-4914-9014-151c41b97554"
      },
      "execution_count": null,
      "outputs": [
        {
          "output_type": "stream",
          "name": "stdout",
          "text": [
            "1\n"
          ]
        }
      ]
    },
    {
      "cell_type": "code",
      "source": [
        "def introduce_my_family(my_name, father, mother, brother, sister):\n",
        "    print(\"My name is\", my_name)\n",
        "    print(\"My father is\", father)\n",
        "    print(\"My mother is\", mother)\n",
        "    print(\"My brother is\", brother)\n",
        "    print(\"My sister is\", sister)"
      ],
      "metadata": {
        "id": "Xc4xQdLNloXN"
      },
      "execution_count": null,
      "outputs": []
    },
    {
      "cell_type": "code",
      "source": [
        "introduce_my_family(\"Kuldeep\", \"Tom Cruise\", \"Taylor Swift\", \"Robert Downey\", \"Salena Gomez\")"
      ],
      "metadata": {
        "colab": {
          "base_uri": "https://localhost:8080/"
        },
        "id": "0-aou6M4mCWr",
        "outputId": "8e92963a-baf2-4565-ab74-44584c484624"
      },
      "execution_count": null,
      "outputs": [
        {
          "output_type": "stream",
          "name": "stdout",
          "text": [
            "My name is Kuldeep\n",
            "My father is Tom Cruise\n",
            "My mother is Taylor Swift\n",
            "My brother is Robert Downey\n",
            "My sister is Salena Gomez\n"
          ]
        }
      ]
    },
    {
      "cell_type": "code",
      "source": [
        "# positional arguments, so position matters\n",
        "introduce_my_family(\"Taylor Swift\", \"Tom Cruise\", \"Kuldeep\", \"Robert Downey\", \"Salena Gomez\")"
      ],
      "metadata": {
        "colab": {
          "base_uri": "https://localhost:8080/"
        },
        "id": "a2vYEQfkmK9O",
        "outputId": "1dd5d3f6-f832-4e2b-8bce-5d70d6497323"
      },
      "execution_count": null,
      "outputs": [
        {
          "output_type": "stream",
          "name": "stdout",
          "text": [
            "My name is Taylor Swift\n",
            "My father is Tom Cruise\n",
            "My mother is Kuldeep\n",
            "My brother is Robert Downey\n",
            "My sister is Salena Gomez\n"
          ]
        }
      ]
    },
    {
      "cell_type": "code",
      "source": [
        "def introduce_my_family(my_name, father, mother, brother, sister):\n",
        "    print(\"My name is\", my_name)\n",
        "    print(\"My father is\", father)\n",
        "    print(\"My mother is\", mother)\n",
        "    print(\"My brother is\", brother)\n",
        "    print(\"My sister is\", sister)"
      ],
      "metadata": {
        "id": "ON23atUHmXbG"
      },
      "execution_count": null,
      "outputs": []
    },
    {
      "cell_type": "code",
      "source": [
        "# keyword arguments\n",
        "introduce_my_family(my_name=\"Kuldeep\", father=\"Tom Cruise\", mother=\"Taylor Swift\", brother=\"Robert Downey\", sister=\"Salena Gomez\")\n"
      ],
      "metadata": {
        "colab": {
          "base_uri": "https://localhost:8080/"
        },
        "id": "_DBDA_jnmpk0",
        "outputId": "03271b59-98ff-4f53-c003-2bb3ab2a1f2f"
      },
      "execution_count": null,
      "outputs": [
        {
          "output_type": "stream",
          "name": "stdout",
          "text": [
            "My name is Kuldeep\n",
            "My father is Tom Cruise\n",
            "My mother is Taylor Swift\n",
            "My brother is Robert Downey\n",
            "My sister is Salena Gomez\n"
          ]
        }
      ]
    },
    {
      "cell_type": "code",
      "source": [
        "introduce_my_family(father=\"Tom Cruise\", mother=\"Taylor Swift\",my_name=\"Kuldeep\",  brother=\"Robert Downey\", sister=\"Salena Gomez\")\n"
      ],
      "metadata": {
        "colab": {
          "base_uri": "https://localhost:8080/"
        },
        "id": "T_-AOp4tnBH-",
        "outputId": "a38c1ec8-b47b-438b-a274-ceb95cd59fe2"
      },
      "execution_count": null,
      "outputs": [
        {
          "output_type": "stream",
          "name": "stdout",
          "text": [
            "My name is Kuldeep\n",
            "My father is Tom Cruise\n",
            "My mother is Taylor Swift\n",
            "My brother is Robert Downey\n",
            "My sister is Salena Gomez\n"
          ]
        }
      ]
    },
    {
      "cell_type": "code",
      "source": [
        "introduce_my_family(my_name=\"Kuldeep\",  mother=\"Taylor Swift\", brother=\"Robert Downey\",father=\"Tom Cruise\", sister=\"Salena Gomez\")"
      ],
      "metadata": {
        "colab": {
          "base_uri": "https://localhost:8080/"
        },
        "id": "GXX4JIYvnCDL",
        "outputId": "2879c116-36f1-43de-ae8e-0983e6084db3"
      },
      "execution_count": null,
      "outputs": [
        {
          "output_type": "stream",
          "name": "stdout",
          "text": [
            "My name is Kuldeep\n",
            "My father is Tom Cruise\n",
            "My mother is Taylor Swift\n",
            "My brother is Robert Downey\n",
            "My sister is Salena Gomez\n"
          ]
        }
      ]
    },
    {
      "cell_type": "code",
      "source": [
        "def random(a,b,c,d):\n",
        "    print(\"a==>\", a)\n",
        "    print(\"b==>\", b)\n",
        "    print(\"c==>\", c)\n",
        "    print(\"d==>\", d)"
      ],
      "metadata": {
        "id": "ZcPXgJ2InQFu"
      },
      "execution_count": null,
      "outputs": []
    },
    {
      "cell_type": "code",
      "source": [
        "# positional arguments\n",
        "random(1,2,3,4)"
      ],
      "metadata": {
        "colab": {
          "base_uri": "https://localhost:8080/"
        },
        "id": "bZP_Zbh-na7k",
        "outputId": "9c372064-b9af-4b82-be2d-ea8facef5824"
      },
      "execution_count": null,
      "outputs": [
        {
          "output_type": "stream",
          "name": "stdout",
          "text": [
            "a==> 1\n",
            "b==> 2\n",
            "c==> 3\n",
            "d==> 4\n"
          ]
        }
      ]
    },
    {
      "cell_type": "code",
      "source": [
        "# keyword arguments\n",
        "random(a=1,b=2,c=3,d=4)"
      ],
      "metadata": {
        "colab": {
          "base_uri": "https://localhost:8080/"
        },
        "id": "FNv29I_jnePX",
        "outputId": "f0b1c89a-12b1-4a39-d3d0-ec8edf8004c7"
      },
      "execution_count": null,
      "outputs": [
        {
          "output_type": "stream",
          "name": "stdout",
          "text": [
            "a==> 1\n",
            "b==> 2\n",
            "c==> 3\n",
            "d==> 4\n"
          ]
        }
      ]
    },
    {
      "cell_type": "code",
      "source": [
        "# keyword arguments\n",
        "random(c=3,b=2,d=4, a=1)"
      ],
      "metadata": {
        "colab": {
          "base_uri": "https://localhost:8080/"
        },
        "id": "MswN50hfnlrX",
        "outputId": "cfe8dcf0-26fd-4872-d914-95e70930b9dd"
      },
      "execution_count": null,
      "outputs": [
        {
          "output_type": "stream",
          "name": "stdout",
          "text": [
            "a==> 1\n",
            "b==> 2\n",
            "c==> 3\n",
            "d==> 4\n"
          ]
        }
      ]
    },
    {
      "cell_type": "code",
      "source": [
        "def random(a,b,c,d):\n",
        "    print(\"a==>\", a)\n",
        "    print(\"b==>\", b)\n",
        "    print(\"c==>\", c)\n",
        "    print(\"d==>\", d)"
      ],
      "metadata": {
        "id": "RIrflCtAnsKm"
      },
      "execution_count": null,
      "outputs": []
    },
    {
      "cell_type": "code",
      "source": [
        "random(1,2,d=4,c=3)"
      ],
      "metadata": {
        "colab": {
          "base_uri": "https://localhost:8080/"
        },
        "id": "uuQeTDLanz-9",
        "outputId": "5096c7ee-5591-403b-fa62-d9a122bef806"
      },
      "execution_count": null,
      "outputs": [
        {
          "output_type": "stream",
          "name": "stdout",
          "text": [
            "a==> 1\n",
            "b==> 2\n",
            "c==> 3\n",
            "d==> 4\n"
          ]
        }
      ]
    },
    {
      "cell_type": "code",
      "source": [
        "random(1,2,a=4,c=3)"
      ],
      "metadata": {
        "colab": {
          "base_uri": "https://localhost:8080/",
          "height": 166
        },
        "id": "ZWJ9ZAgqn_eP",
        "outputId": "0f2a1cca-6b28-412a-f8b7-57969f45e350"
      },
      "execution_count": null,
      "outputs": [
        {
          "output_type": "error",
          "ename": "TypeError",
          "evalue": "ignored",
          "traceback": [
            "\u001b[0;31m---------------------------------------------------------------------------\u001b[0m",
            "\u001b[0;31mTypeError\u001b[0m                                 Traceback (most recent call last)",
            "\u001b[0;32m<ipython-input-40-46ea443f6edd>\u001b[0m in \u001b[0;36m<cell line: 1>\u001b[0;34m()\u001b[0m\n\u001b[0;32m----> 1\u001b[0;31m \u001b[0mrandom\u001b[0m\u001b[0;34m(\u001b[0m\u001b[0;36m1\u001b[0m\u001b[0;34m,\u001b[0m\u001b[0;36m2\u001b[0m\u001b[0;34m,\u001b[0m\u001b[0ma\u001b[0m\u001b[0;34m=\u001b[0m\u001b[0;36m4\u001b[0m\u001b[0;34m,\u001b[0m\u001b[0mc\u001b[0m\u001b[0;34m=\u001b[0m\u001b[0;36m3\u001b[0m\u001b[0;34m)\u001b[0m\u001b[0;34m\u001b[0m\u001b[0;34m\u001b[0m\u001b[0m\n\u001b[0m",
            "\u001b[0;31mTypeError\u001b[0m: random() got multiple values for argument 'a'"
          ]
        }
      ]
    },
    {
      "cell_type": "code",
      "source": [
        "random(a=4,c=3, 1,2)"
      ],
      "metadata": {
        "colab": {
          "base_uri": "https://localhost:8080/",
          "height": 132
        },
        "id": "-FAoVQAXoc8d",
        "outputId": "4cfd3f57-e5bd-4f92-d2b2-c442f8dcd14b"
      },
      "execution_count": null,
      "outputs": [
        {
          "output_type": "error",
          "ename": "SyntaxError",
          "evalue": "ignored",
          "traceback": [
            "\u001b[0;36m  File \u001b[0;32m\"<ipython-input-41-086c727d4caa>\"\u001b[0;36m, line \u001b[0;32m1\u001b[0m\n\u001b[0;31m    random(a=4,c=3, 1,2)\u001b[0m\n\u001b[0m                       ^\u001b[0m\n\u001b[0;31mSyntaxError\u001b[0m\u001b[0;31m:\u001b[0m positional argument follows keyword argument\n"
          ]
        }
      ]
    },
    {
      "cell_type": "code",
      "source": [
        "random(1,a=4,c=3,2)"
      ],
      "metadata": {
        "colab": {
          "base_uri": "https://localhost:8080/",
          "height": 132
        },
        "id": "d4lWs-SrorHJ",
        "outputId": "144da000-4964-4f4b-8a47-9daa73c7157f"
      },
      "execution_count": null,
      "outputs": [
        {
          "output_type": "error",
          "ename": "SyntaxError",
          "evalue": "ignored",
          "traceback": [
            "\u001b[0;36m  File \u001b[0;32m\"<ipython-input-42-1c4659be7f41>\"\u001b[0;36m, line \u001b[0;32m1\u001b[0m\n\u001b[0;31m    random(1,a=4,c=3,2)\u001b[0m\n\u001b[0m                      ^\u001b[0m\n\u001b[0;31mSyntaxError\u001b[0m\u001b[0;31m:\u001b[0m positional argument follows keyword argument\n"
          ]
        }
      ]
    },
    {
      "cell_type": "code",
      "source": [
        "def simple_interst(p,r,t):\n",
        "    interest = p*r*t/100\n",
        "    return interest"
      ],
      "metadata": {
        "id": "YtXWKrZqosx-"
      },
      "execution_count": null,
      "outputs": []
    },
    {
      "cell_type": "code",
      "source": [
        "print(simple_interst(100,5,2)) # positional arguments\n",
        "print(simple_interst(p =100,t = 2,r = 5)) # keyword arguments\n",
        "print(simple_interst(100,t = 2,r = 5)) # positional+keyword arguments"
      ],
      "metadata": {
        "colab": {
          "base_uri": "https://localhost:8080/"
        },
        "id": "XLbVsdITpA0M",
        "outputId": "8a35ad0c-3670-4f7e-d85d-4614ff90f5aa"
      },
      "execution_count": null,
      "outputs": [
        {
          "output_type": "stream",
          "name": "stdout",
          "text": [
            "10.0\n",
            "10.0\n",
            "10.0\n"
          ]
        }
      ]
    },
    {
      "cell_type": "code",
      "source": [
        "def simple_interst(p,r,t=10):\n",
        "    interest = p*r*t/100\n",
        "    return interest"
      ],
      "metadata": {
        "id": "wAStd4LIpEGv"
      },
      "execution_count": null,
      "outputs": []
    },
    {
      "cell_type": "code",
      "source": [
        "print(simple_interst(100,5,2)) # positional arguments\n",
        "print(simple_interst(p =100,t = 2,r = 5)) # keyword arguments\n",
        "print(simple_interst(100,t = 2,r = 5)) # positional+keyword arguments"
      ],
      "metadata": {
        "colab": {
          "base_uri": "https://localhost:8080/"
        },
        "id": "MmH0KMQ2p3w3",
        "outputId": "80b7a0f8-aae2-40fe-8ba9-fefb7b394322"
      },
      "execution_count": null,
      "outputs": [
        {
          "output_type": "stream",
          "name": "stdout",
          "text": [
            "10.0\n",
            "10.0\n",
            "10.0\n"
          ]
        }
      ]
    },
    {
      "cell_type": "code",
      "source": [
        "print(simple_interst(100,5)) # positional arguments\n",
        "print(simple_interst(p =100,r = 5)) # keyword arguments\n",
        "print(simple_interst(100,r = 5)) # positional+keyword arguments"
      ],
      "metadata": {
        "colab": {
          "base_uri": "https://localhost:8080/"
        },
        "id": "C_Mkhtp7p7Ui",
        "outputId": "ef3959bd-66e2-4019-c0f6-67b45a3097c7"
      },
      "execution_count": null,
      "outputs": [
        {
          "output_type": "stream",
          "name": "stdout",
          "text": [
            "50.0\n",
            "50.0\n",
            "50.0\n"
          ]
        }
      ]
    },
    {
      "cell_type": "code",
      "source": [
        "def simple_interst(p,t=10, r):\n",
        "    interest = p*r*t/100\n",
        "    return interest"
      ],
      "metadata": {
        "colab": {
          "base_uri": "https://localhost:8080/",
          "height": 132
        },
        "id": "5PDL7sfFp9m2",
        "outputId": "249d9c2d-63de-4caf-947d-2dbda4b39106"
      },
      "execution_count": null,
      "outputs": [
        {
          "output_type": "error",
          "ename": "SyntaxError",
          "evalue": "ignored",
          "traceback": [
            "\u001b[0;36m  File \u001b[0;32m\"<ipython-input-50-df2fba08df48>\"\u001b[0;36m, line \u001b[0;32m1\u001b[0m\n\u001b[0;31m    def simple_interst(p,t=10, r):\u001b[0m\n\u001b[0m                               ^\u001b[0m\n\u001b[0;31mSyntaxError\u001b[0m\u001b[0;31m:\u001b[0m non-default argument follows default argument\n"
          ]
        }
      ]
    },
    {
      "cell_type": "code",
      "source": [
        "def simple_interst(p=100,r=10,t=10):\n",
        "    interest = p*r*t/100\n",
        "    return interest"
      ],
      "metadata": {
        "id": "a41LfcmMqNgn"
      },
      "execution_count": null,
      "outputs": []
    },
    {
      "cell_type": "code",
      "source": [
        "print(simple_interst())"
      ],
      "metadata": {
        "colab": {
          "base_uri": "https://localhost:8080/"
        },
        "id": "yKBMxBPVqZkI",
        "outputId": "c973e727-608b-4b49-8b11-6b52b2b7b827"
      },
      "execution_count": null,
      "outputs": [
        {
          "output_type": "stream",
          "name": "stdout",
          "text": [
            "100.0\n"
          ]
        }
      ]
    },
    {
      "cell_type": "code",
      "source": [
        "print(\n",
        "'''\n",
        "Question 1 -\n",
        "Create a date printing function -\n",
        "Should take 4 arguments -> day, month, year and style\n",
        "\n",
        "Styling Logic -\n",
        "style -> 0 -> d/m/y\n",
        "style -> 1 -> m/d/y\n",
        "style -> any other value -> Invalid Style\n",
        "\n",
        "default style is 0.\n",
        "'''\n",
        "\n",
        ")"
      ],
      "metadata": {
        "colab": {
          "base_uri": "https://localhost:8080/"
        },
        "id": "Bn18GiPJqbru",
        "outputId": "ef9eb758-3b11-4dbd-8b99-e4d6c6d8fc03"
      },
      "execution_count": null,
      "outputs": [
        {
          "output_type": "stream",
          "name": "stdout",
          "text": [
            "\n",
            "Question 1 - \n",
            "Create a date printing function - \n",
            "Should take 4 arguments -> day, month, year and style\n",
            "\n",
            "Styling Logic - \n",
            "style -> 0 -> d/m/y\n",
            "style -> 1 -> m/d/y\n",
            "style -> any other value -> Invalid Style\n",
            "\n",
            "default style is 0.\n",
            "\n"
          ]
        }
      ]
    },
    {
      "cell_type": "code",
      "source": [
        "def print_date(day, month, year , style=0):\n",
        "    if style==0: #style -> 0 -> d/m/y\n",
        "        print(day, month, year, sep=\"/\")\n",
        "    elif style==1: #style -> 1 -> m/d/y\n",
        "        print(month, day, year, sep=\"/\")\n",
        "    else:\n",
        "        print(\"Invalid Style\")"
      ],
      "metadata": {
        "id": "w9bysxWkqir2"
      },
      "execution_count": null,
      "outputs": []
    },
    {
      "cell_type": "code",
      "source": [
        "print_date(day=23, month=\"05\", year=2023)"
      ],
      "metadata": {
        "colab": {
          "base_uri": "https://localhost:8080/"
        },
        "id": "z2BbgC4qsL3y",
        "outputId": "5c53fed0-2c50-4324-be79-e5c700e43d62"
      },
      "execution_count": null,
      "outputs": [
        {
          "output_type": "stream",
          "name": "stdout",
          "text": [
            "23/05/2023\n"
          ]
        }
      ]
    },
    {
      "cell_type": "code",
      "source": [
        "print_date(day=23, month=\"05\", year=2023, style=1)"
      ],
      "metadata": {
        "colab": {
          "base_uri": "https://localhost:8080/"
        },
        "id": "mcA3BeOlsTOm",
        "outputId": "b00f2853-14e3-4cf9-d9b0-0bb7c2a9b744"
      },
      "execution_count": null,
      "outputs": [
        {
          "output_type": "stream",
          "name": "stdout",
          "text": [
            "05/23/2023\n"
          ]
        }
      ]
    },
    {
      "cell_type": "code",
      "source": [
        "print_date(day=23, month=\"05\", year=2023, style=2)"
      ],
      "metadata": {
        "colab": {
          "base_uri": "https://localhost:8080/"
        },
        "id": "ojocZr2wsUpf",
        "outputId": "8d7f8c36-0b68-4ab5-94bf-e785638cd57a"
      },
      "execution_count": null,
      "outputs": [
        {
          "output_type": "stream",
          "name": "stdout",
          "text": [
            "Invalid Style\n"
          ]
        }
      ]
    },
    {
      "cell_type": "markdown",
      "source": [
        "###Quiz-5\n",
        "```python\n",
        "a = 57\n",
        "def simple_function(a):\n",
        "    if a <= 10:\n",
        "        return \"SMALL\"\n",
        "    elif a > 10:\n",
        "        return \"BIG\"\n",
        "    \n",
        "output = simple_function(a)\n",
        "```\n",
        "What is `output`:\n",
        "```\n",
        "Options:\n",
        "A. BIG <<<<<\n",
        "B. SMALL\n",
        "C. Error - Two return statements\n",
        "D. None\n",
        "```"
      ],
      "metadata": {
        "id": "Fxno5lBfsdI8"
      }
    },
    {
      "cell_type": "code",
      "source": [
        "# return a\n",
        "# return \"BIG\""
      ],
      "metadata": {
        "id": "ICMEfq9EsWR4"
      },
      "execution_count": null,
      "outputs": []
    },
    {
      "cell_type": "markdown",
      "source": [
        "What will be the output of the following code?\n",
        "```python\n",
        "def multiply(num1=3, num2):\n",
        "    return num1 * num2\n",
        "\n",
        "print(multiply(2, 4))\n",
        "```\n",
        "A. `8`\n",
        "\n",
        "B. `TypeError`\n",
        "\n",
        "C. `6`\n",
        "\n",
        "D. `SyntaxError` <<<<<"
      ],
      "metadata": {
        "id": "ytU5OSD8tlY7"
      }
    },
    {
      "cell_type": "code",
      "source": [
        "def multiply(num1=3, num2):\n",
        "    return num1 * num2\n",
        "\n",
        "print(multiply(2, 4))"
      ],
      "metadata": {
        "colab": {
          "base_uri": "https://localhost:8080/",
          "height": 132
        },
        "id": "7bMPIXoqt-OB",
        "outputId": "43166c41-6eb0-4f52-ffe7-1dcd0cae1c0a"
      },
      "execution_count": null,
      "outputs": [
        {
          "output_type": "error",
          "ename": "SyntaxError",
          "evalue": "ignored",
          "traceback": [
            "\u001b[0;36m  File \u001b[0;32m\"<ipython-input-59-f42fbf0805a4>\"\u001b[0;36m, line \u001b[0;32m1\u001b[0m\n\u001b[0;31m    def multiply(num1=3, num2):\u001b[0m\n\u001b[0m                         ^\u001b[0m\n\u001b[0;31mSyntaxError\u001b[0m\u001b[0;31m:\u001b[0m non-default argument follows default argument\n"
          ]
        }
      ]
    },
    {
      "cell_type": "code",
      "source": [
        "# SyntaxError: non-default argument follows default argument"
      ],
      "metadata": {
        "id": "mHN4Iubxtl6P"
      },
      "execution_count": null,
      "outputs": []
    },
    {
      "cell_type": "markdown",
      "source": [
        "What will be the output of the following code?\n",
        "```python\n",
        "def function(var):\n",
        "    print(var)\n",
        "\n",
        "function(3)\n",
        "\n",
        "var = 5\n",
        "function(var)\n",
        "```\n",
        "\n",
        "A. <<<<<<<<<\n",
        "```\n",
        "3\n",
        "5\n",
        "```\n",
        "B.\n",
        "```\n",
        "3\n",
        "3\n",
        "```\n",
        "\n",
        "C.\n",
        "```\n",
        "5\n",
        "5\n",
        "```\n",
        "D.\n",
        "```\n",
        "5\n",
        "3\n",
        "```"
      ],
      "metadata": {
        "id": "qGoVs5byuFLO"
      }
    },
    {
      "cell_type": "markdown",
      "source": [
        "What will be the output of the following code?\n",
        "```python\n",
        "x = 10\n",
        "def function():\n",
        "    x = 5\n",
        "    print(x)\n",
        "function()\n",
        "print(x)\n",
        "```\n",
        "A.\n",
        "```\n",
        "10\n",
        "5\n",
        "```\n",
        "B. <<<<<<\n",
        "```\n",
        "5\n",
        "10\n",
        "```\n",
        "\n",
        "C.\n",
        "```\n",
        "5\n",
        "5\n",
        "```\n",
        "D.\n",
        "```\n",
        "10\n",
        "10\n",
        "```"
      ],
      "metadata": {
        "id": "K0oYiTJ2u7TE"
      }
    },
    {
      "cell_type": "markdown",
      "source": [
        "What will be the output of the following code?\n",
        "```python\n",
        "def function(var=5):\n",
        "    var = var + 1\n",
        "    print(var)\n",
        "\n",
        "function()\n",
        "function(10)\n",
        "```\n",
        "A.  <<<<<\n",
        "```\n",
        "6\n",
        "11\n",
        "```\n",
        "B.\n",
        "```\n",
        "6\n",
        "10\n",
        "```\n",
        "C.\n",
        "```\n",
        "5\n",
        "10\n",
        "```\n",
        "D.\n",
        "```\n",
        "5\n",
        "11\n",
        "```"
      ],
      "metadata": {
        "id": "PoUYUS4-vn0T"
      }
    },
    {
      "cell_type": "code",
      "source": [],
      "metadata": {
        "id": "R39sAoQevp2g"
      },
      "execution_count": null,
      "outputs": []
    }
  ]
}