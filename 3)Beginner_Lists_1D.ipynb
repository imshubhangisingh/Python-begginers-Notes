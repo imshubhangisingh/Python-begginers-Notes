{
  "nbformat": 4,
  "nbformat_minor": 0,
  "metadata": {
    "colab": {
      "provenance": [],
      "include_colab_link": true
    },
    "kernelspec": {
      "name": "python3",
      "display_name": "Python 3"
    },
    "language_info": {
      "name": "python"
    }
  },
  "cells": [
    {
      "cell_type": "markdown",
      "metadata": {
        "id": "view-in-github",
        "colab_type": "text"
      },
      "source": [
        "<a href=\"https://colab.research.google.com/github/imshubhangisingh/Python-begginers-Notes/blob/main/3)Beginner_Lists_1D.ipynb\" target=\"_parent\"><img src=\"https://colab.research.google.com/assets/colab-badge.svg\" alt=\"Open In Colab\"/></a>"
      ]
    },
    {
      "cell_type": "markdown",
      "source": [
        "<center>\n",
        "\n",
        "![](https://inventyourshit.com/wp-content/uploads/2020/11/4l8rtu.jpg)\n",
        "\n",
        "</center>"
      ],
      "metadata": {
        "id": "R5SOTaA0itLx"
      }
    },
    {
      "cell_type": "code",
      "execution_count": null,
      "metadata": {
        "id": "lk5ftNY9iPEp"
      },
      "outputs": [],
      "source": [
        "### PTYHON LISTS 🐍\n",
        "# 1 Why Python lists?\n",
        "# 2 How to create python lists?\n",
        "# 3 what Python lists::: functionality and concepts revolving python lists\n",
        "## THE END 💥💥💥 QUIZ 👈👈👈👈"
      ]
    },
    {
      "cell_type": "code",
      "source": [
        "# data types\n",
        "# str, int, float, bool, None"
      ],
      "metadata": {
        "id": "CSJwLC9CmA1Y"
      },
      "execution_count": null,
      "outputs": []
    },
    {
      "cell_type": "code",
      "source": [
        "# planet 🌍🌏🌎 EARTH\n",
        "name = \"A wonder world\"\n",
        "rank = 4\n",
        "diameter = 12713.6\n",
        "haveWeFoundAliens = True\n",
        "\n",
        "print(name, type(name))\n",
        "print(rank, type(rank))\n",
        "print(diameter, type(diameter))\n",
        "print(haveWeFoundAliens, type(haveWeFoundAliens))"
      ],
      "metadata": {
        "colab": {
          "base_uri": "https://localhost:8080/"
        },
        "id": "qlFhP8cTmhon",
        "outputId": "763310ae-b0db-4b2b-80fe-481973b1eabd"
      },
      "execution_count": null,
      "outputs": [
        {
          "output_type": "stream",
          "name": "stdout",
          "text": [
            "A wonder world <class 'str'>\n",
            "4 <class 'int'>\n",
            "12713.6 <class 'float'>\n",
            "True <class 'bool'>\n"
          ]
        }
      ]
    },
    {
      "cell_type": "code",
      "source": [
        "# total planets that we have >>> 8\n",
        "# for one planet >> 4 var, 4 lines of code\n",
        "# 8 planets >> 4*8=32 var"
      ],
      "metadata": {
        "id": "EXjmUk7YnWqD"
      },
      "execution_count": null,
      "outputs": []
    },
    {
      "cell_type": "code",
      "source": [
        "# SBI\n",
        "# name, age, bankBal, criminalOrNot\n",
        "# 1 customer >> 4 var\n",
        "# 10 mill customers >> 40 mill var"
      ],
      "metadata": {
        "id": "72gubecrnmXQ"
      },
      "execution_count": null,
      "outputs": []
    },
    {
      "cell_type": "code",
      "source": [
        "# simple data types like str, int, float, bool, None, alweays store a single value"
      ],
      "metadata": {
        "id": "LcE8qlvVn9ZK"
      },
      "execution_count": null,
      "outputs": []
    },
    {
      "cell_type": "code",
      "source": [
        "# data Structure 👉 store data and then allow efficient access to that data\n",
        "# 1️⃣ Python🐍 Lists"
      ],
      "metadata": {
        "id": "ek-RuLCeoEKI"
      },
      "execution_count": null,
      "outputs": []
    },
    {
      "cell_type": "code",
      "source": [
        "# Python Lists\n",
        "# ✅ []\n",
        "# ❌ () OR {}\n",
        "myEmptyList = []\n",
        "print(myEmptyList, type(myEmptyList))\n",
        "\n",
        "\n",
        "player = [\"Ronaldo\", 37, 185.5, True, None]\n",
        "print(player, type(player))"
      ],
      "metadata": {
        "colab": {
          "base_uri": "https://localhost:8080/"
        },
        "id": "eQxmmI2hoxNR",
        "outputId": "c6360f45-5160-4f9d-ec5f-566d01c97c2c"
      },
      "execution_count": null,
      "outputs": [
        {
          "output_type": "stream",
          "name": "stdout",
          "text": [
            "[] <class 'list'>\n",
            "['Ronaldo', 37, 185.5, True, None] <class 'list'>\n"
          ]
        }
      ]
    },
    {
      "cell_type": "code",
      "source": [
        "grocceryList = [3, 'chairs', 3, 'tables', 1.5, 'Apples', [\"Ronaldo\", 37, 185.5, True, None]]\n",
        "print(grocceryList)\n",
        "print( type(player))"
      ],
      "metadata": {
        "colab": {
          "base_uri": "https://localhost:8080/"
        },
        "id": "I7pEYI0Npa-I",
        "outputId": "0984118e-cda6-4908-973d-9b8d13820178"
      },
      "execution_count": null,
      "outputs": [
        {
          "output_type": "stream",
          "name": "stdout",
          "text": [
            "[3, 'chairs', 3, 'tables', 1.5, 'Apples', ['Ronaldo', 37, 185.5, True, None]]\n",
            "<class 'list'>\n"
          ]
        }
      ]
    },
    {
      "cell_type": "code",
      "source": [
        "# python lists allow duplicates\n",
        "# python lists maintain order\n",
        "# python lists can store anything"
      ],
      "metadata": {
        "id": "Abp_pOUaqC5g"
      },
      "execution_count": null,
      "outputs": []
    },
    {
      "cell_type": "code",
      "source": [
        "# use order\n",
        "# 0 -indexing\n",
        "\n",
        "#######         0          1      2      3        4\n",
        "avengers = ['iron-man', 'thor', 'cap', 'hulk', 'groot']\n",
        "print(avengers)\n",
        "\n",
        "print(avengers[0])\n",
        "print(avengers[1])\n",
        "print(avengers[2])\n",
        "print(avengers[3])\n",
        "print(avengers[4])"
      ],
      "metadata": {
        "colab": {
          "base_uri": "https://localhost:8080/"
        },
        "id": "TQApA6PRq-8N",
        "outputId": "546ea900-9c8a-467b-ee81-499381690e73"
      },
      "execution_count": null,
      "outputs": [
        {
          "output_type": "stream",
          "name": "stdout",
          "text": [
            "['iron-man', 'thor', 'cap', 'hulk', 'groot']\n",
            "iron-man\n",
            "thor\n",
            "cap\n",
            "hulk\n",
            "groot\n"
          ]
        }
      ]
    },
    {
      "cell_type": "code",
      "source": [
        "# index of the last value\n",
        "# 1 find size of the list, eg n (there are n elements)\n",
        "# 2 n-1 is the index for the last value\n",
        "# get the size of the list\n",
        "print(len(avengers))\n",
        "print(\"last index is\", len(avengers)-1)\n",
        "print(\"last value is\", avengers[len(avengers)-1])"
      ],
      "metadata": {
        "colab": {
          "base_uri": "https://localhost:8080/"
        },
        "id": "JXCu17dar0IB",
        "outputId": "fa92aaaa-16e6-4312-a321-a822fac11fdc"
      },
      "execution_count": null,
      "outputs": [
        {
          "output_type": "stream",
          "name": "stdout",
          "text": [
            "5\n",
            "last index is 4\n",
            "last value is groot\n"
          ]
        }
      ]
    },
    {
      "cell_type": "code",
      "source": [
        "# use order\n",
        "# 0 -indexing\n",
        "\n",
        "#0/+ive ind    0          1      2      3        4\n",
        "avengers = ['iron-man', 'thor', 'cap', 'hulk', 'groot']\n",
        "# -ive ind    -5          -4      -3      -2        -1\n",
        "print(avengers)\n",
        "\n",
        "print(avengers[0], avengers[-5])\n",
        "print(avengers[1], avengers[-4])\n",
        "print(avengers[2], avengers[-3])\n",
        "print(avengers[3], avengers[-2])\n",
        "print(avengers[4], avengers[-1])"
      ],
      "metadata": {
        "colab": {
          "base_uri": "https://localhost:8080/"
        },
        "id": "PiRuiaKItL7Z",
        "outputId": "13906bcb-176a-4c71-acab-48688f16da65"
      },
      "execution_count": null,
      "outputs": [
        {
          "output_type": "stream",
          "name": "stdout",
          "text": [
            "['iron-man', 'thor', 'cap', 'hulk', 'groot']\n",
            "iron-man iron-man\n",
            "thor thor\n",
            "cap cap\n",
            "hulk hulk\n",
            "groot groot\n"
          ]
        }
      ]
    },
    {
      "cell_type": "code",
      "source": [
        "avengers = ['iron-man', 'thor', 'cap', 'hulk', 'groot']\n",
        "\n",
        "print(avengers[1])\n",
        "print(avengers[-3])\n",
        "# print(avengers[10]) # IndexError: list index out of range\n",
        "print(avengers[0])\n",
        "print(avengers[-0])"
      ],
      "metadata": {
        "colab": {
          "base_uri": "https://localhost:8080/"
        },
        "id": "zqv4K8g_u8x6",
        "outputId": "3e2afe6e-56fd-4bc4-aeda-97eb5be4ea61"
      },
      "execution_count": null,
      "outputs": [
        {
          "output_type": "stream",
          "name": "stdout",
          "text": [
            "thor\n",
            "cap\n",
            "iron-man\n",
            "iron-man\n"
          ]
        }
      ]
    },
    {
      "cell_type": "code",
      "source": [
        "print(0==0)\n",
        "print(0==-1*0)\n",
        "print(0==-0)"
      ],
      "metadata": {
        "colab": {
          "base_uri": "https://localhost:8080/"
        },
        "id": "KLvI4zT2vppK",
        "outputId": "a0f6ed07-08e2-45bd-af18-f2935e7f0397"
      },
      "execution_count": null,
      "outputs": [
        {
          "output_type": "stream",
          "name": "stdout",
          "text": [
            "True\n",
            "True\n",
            "True\n"
          ]
        }
      ]
    },
    {
      "cell_type": "code",
      "source": [
        "runs = [45, 67, 89, 12, 34, 56, 100] # virat kohli's runs\n",
        "# Mr Virat thinks he does well in even +ive-indexed matches\n",
        "# you are asked by Mr Virat to calculate the total runs of the even matches\n"
      ],
      "metadata": {
        "id": "-Y6Cjzf5wAXA"
      },
      "execution_count": null,
      "outputs": []
    },
    {
      "cell_type": "code",
      "source": [
        "runs = [45, 67, 89, 12, 34, 56, 100]\n",
        "##      0    1  2   3   4   5     6\n",
        "print(runs[0]+ runs[2]+ runs[4]+ runs[6])"
      ],
      "metadata": {
        "colab": {
          "base_uri": "https://localhost:8080/"
        },
        "id": "O4biX6y4w6dV",
        "outputId": "caeb7075-dfae-47f6-cb6d-8f815bd796ed"
      },
      "execution_count": null,
      "outputs": [
        {
          "output_type": "stream",
          "name": "stdout",
          "text": [
            "268\n"
          ]
        }
      ]
    },
    {
      "cell_type": "code",
      "source": [
        "runs = [45, 67, 89, 12, 34, 56, 100]\n",
        "\n",
        "total = 0 # 4 start the total from 0\n",
        "# 1 first thing is loop over all the indexes\n",
        "for i in range(len(runs)): #>> 0,1...len*(runs-1)\n",
        "    if i%2==0: # 3 only print, when the index is even\n",
        "        print(i, runs[i]) # 2 use index and get the corresponding run\n",
        "        total = total + runs[i] # 5 add runs to the sum when ind is even\n",
        "\n",
        "print('total was', total)"
      ],
      "metadata": {
        "colab": {
          "base_uri": "https://localhost:8080/"
        },
        "id": "eZn-2LwKxEI6",
        "outputId": "16c84b10-253e-4fdf-cfd3-58b0b0500cbc"
      },
      "execution_count": null,
      "outputs": [
        {
          "output_type": "stream",
          "name": "stdout",
          "text": [
            "0 45\n",
            "2 89\n",
            "4 34\n",
            "6 100\n",
            "total was 268\n"
          ]
        }
      ]
    },
    {
      "cell_type": "code",
      "source": [
        "# adding to a python list\n",
        "avengers = ['iron-man', 'thor', 'cap', 'hulk', 'groot']\n",
        "print(avengers)\n",
        "# append>> adds a single value at a time at the end of the list\n",
        "avengers.append(\"gamora\")\n",
        "print(avengers)\n",
        "# insert>> give me the index, in-front of which you want to add the value(a single value)\n",
        "avengers.insert(1, \"loki\")\n",
        "print(avengers)\n"
      ],
      "metadata": {
        "colab": {
          "base_uri": "https://localhost:8080/"
        },
        "id": "-mSV9YlcxY3Z",
        "outputId": "9a84790c-43c8-429f-b7ba-ba1912b18694"
      },
      "execution_count": null,
      "outputs": [
        {
          "output_type": "stream",
          "name": "stdout",
          "text": [
            "['iron-man', 'thor', 'cap', 'hulk', 'groot']\n",
            "['iron-man', 'thor', 'cap', 'hulk', 'groot', 'gamora']\n",
            "['iron-man', 'loki', 'thor', 'cap', 'hulk', 'groot', 'gamora']\n"
          ]
        }
      ]
    },
    {
      "cell_type": "code",
      "source": [
        "avengers = ['iron-man', 'thor', 'cap', 'hulk', 'groot']\n",
        "print(avengers)\n",
        "\n",
        "DC = [\"super man\", \"wonder woman\", \"flash\", \"Aqua man\"]\n",
        "print(DC)\n",
        "\n",
        "# extend >> add elements of 1 python list at the end of another python list\n",
        "avengers.extend(DC) # avengers = avengers+DC\n",
        "print(\"AVENGERS: \",avengers)\n",
        "print(\"DC: \",DC)"
      ],
      "metadata": {
        "colab": {
          "base_uri": "https://localhost:8080/"
        },
        "id": "rzruQl-01Gir",
        "outputId": "1e5006c4-2da5-419a-9a1e-00b9a3c15d83"
      },
      "execution_count": null,
      "outputs": [
        {
          "output_type": "stream",
          "name": "stdout",
          "text": [
            "['iron-man', 'thor', 'cap', 'hulk', 'groot']\n",
            "['super man', 'wonder woman', 'flash', 'Aqua man']\n",
            "AVENGERS:  ['iron-man', 'thor', 'cap', 'hulk', 'groot', 'super man', 'wonder woman', 'flash', 'Aqua man']\n",
            "DC:  ['super man', 'wonder woman', 'flash', 'Aqua man']\n"
          ]
        }
      ]
    },
    {
      "cell_type": "code",
      "source": [
        "avengers = ['iron-man', 'thor', 'cap', 'hulk', 'groot']\n",
        "print(avengers)\n",
        "\n",
        "DC = [\"super man\", \"wonder woman\", \"flash\", \"Aqua man\"]\n",
        "print(DC)\n",
        "\n",
        "avengers = avengers+DC\n",
        "print(avengers)"
      ],
      "metadata": {
        "colab": {
          "base_uri": "https://localhost:8080/"
        },
        "id": "F5e4EV7M2O8K",
        "outputId": "c0114108-702c-40b7-bc29-5177f7f11a57"
      },
      "execution_count": null,
      "outputs": [
        {
          "output_type": "stream",
          "name": "stdout",
          "text": [
            "['iron-man', 'thor', 'cap', 'hulk', 'groot']\n",
            "['super man', 'wonder woman', 'flash', 'Aqua man']\n",
            "['iron-man', 'thor', 'cap', 'hulk', 'groot', 'super man', 'wonder woman', 'flash', 'Aqua man']\n"
          ]
        }
      ]
    },
    {
      "cell_type": "code",
      "source": [
        "a = [1,1,2,2,3,3]\n",
        "b = [1,1,2,2,3,3]\n",
        "print(a+b)"
      ],
      "metadata": {
        "colab": {
          "base_uri": "https://localhost:8080/"
        },
        "id": "bvmevU0j3Yp-",
        "outputId": "63986a0c-5950-46e1-9933-d260f41f096d"
      },
      "execution_count": null,
      "outputs": [
        {
          "output_type": "stream",
          "name": "stdout",
          "text": [
            "[1, 1, 2, 2, 3, 3, 1, 1, 2, 2, 3, 3]\n"
          ]
        }
      ]
    },
    {
      "cell_type": "code",
      "source": [
        "for i in range(5):\n",
        "    print(i)"
      ],
      "metadata": {
        "colab": {
          "base_uri": "https://localhost:8080/"
        },
        "id": "6Os1Cs-z4SGc",
        "outputId": "8c50f2de-63d7-454f-cd6e-8928034db4ea"
      },
      "execution_count": null,
      "outputs": [
        {
          "output_type": "stream",
          "name": "stdout",
          "text": [
            "0\n",
            "1\n",
            "2\n",
            "3\n",
            "4\n"
          ]
        }
      ]
    },
    {
      "cell_type": "code",
      "source": [
        "# interating through a python list\n",
        "avengers = ['iron-man', 'thor', 'cap', 'hulk', 'groot']\n",
        "print(avengers)\n",
        "\n",
        "for i in avengers:\n",
        "    print(i)"
      ],
      "metadata": {
        "colab": {
          "base_uri": "https://localhost:8080/"
        },
        "id": "iNiUW24t3cvy",
        "outputId": "81df9cdf-319b-4250-ea17-baca3538f53b"
      },
      "execution_count": null,
      "outputs": [
        {
          "output_type": "stream",
          "name": "stdout",
          "text": [
            "['iron-man', 'thor', 'cap', 'hulk', 'groot']\n",
            "iron-man\n",
            "thor\n",
            "cap\n",
            "hulk\n",
            "groot\n"
          ]
        }
      ]
    },
    {
      "cell_type": "code",
      "source": [
        "runs = [45, 67, 89, 12, 34, 56, 100] # virat kohli's runs\n",
        "# sums of the runs\n",
        "# avg of the runs\n",
        "# min run\n",
        "# max run\n",
        "\n",
        "min_runs=runs[0]\n",
        "max_runs =runs[0]"
      ],
      "metadata": {
        "id": "6bgLcwg54qFP"
      },
      "execution_count": null,
      "outputs": []
    },
    {
      "cell_type": "code",
      "source": [
        "# min and max\n",
        "min_runs=runs[0]\n",
        "max_runs =runs[0]\n",
        "for everRun in runs:\n",
        "    # for max run\n",
        "    if everRun>max_runs:\n",
        "        max_runs = everRun\n",
        "    # for the min run\n",
        "    if everRun<min_runs:\n",
        "        min_runs = everRun\n",
        "\n",
        "print(\"min run: \", min_runs)\n",
        "print(\"max run: \", max_runs)"
      ],
      "metadata": {
        "colab": {
          "base_uri": "https://localhost:8080/"
        },
        "id": "LtSxdPar6jO9",
        "outputId": "3fb58184-6270-407b-c2a3-7f0e074a6de6"
      },
      "execution_count": null,
      "outputs": [
        {
          "output_type": "stream",
          "name": "stdout",
          "text": [
            "min run:  12\n",
            "max run:  100\n"
          ]
        }
      ]
    },
    {
      "cell_type": "code",
      "source": [
        "# min and max\n",
        "min_runs=10000000\n",
        "max_runs =-10\n",
        "for everRun in runs:\n",
        "    # for max run\n",
        "    if everRun>max_runs:\n",
        "        max_runs = everRun\n",
        "    # for the min run\n",
        "    if everRun<min_runs:\n",
        "        min_runs = everRun\n",
        "\n",
        "print(\"min run: \", min_runs)\n",
        "print(\"max run: \", max_runs)"
      ],
      "metadata": {
        "colab": {
          "base_uri": "https://localhost:8080/"
        },
        "id": "AypsCtKv7kls",
        "outputId": "f680a0a5-909b-4e2c-9646-ffea6c81bccb"
      },
      "execution_count": null,
      "outputs": [
        {
          "output_type": "stream",
          "name": "stdout",
          "text": [
            "min run:  12\n",
            "max run:  100\n"
          ]
        }
      ]
    },
    {
      "cell_type": "code",
      "source": [
        "# sum\n",
        "total = 0\n",
        "for everRun in runs:\n",
        "    total = total + everRun\n",
        "print(\"sum of the runs is: \",total)\n",
        "print(\"avg of the runs is: \", total/len(runs))"
      ],
      "metadata": {
        "colab": {
          "base_uri": "https://localhost:8080/"
        },
        "id": "uVbUZLxt6Dsb",
        "outputId": "b2569a1f-de42-4c4d-8dc0-7b949ccb6681"
      },
      "execution_count": null,
      "outputs": [
        {
          "output_type": "stream",
          "name": "stdout",
          "text": [
            "sum of the runs is:  403\n",
            "avg of the runs is:  57.57142857142857\n"
          ]
        }
      ]
    },
    {
      "cell_type": "code",
      "source": [
        "# sum =10 # TypeError: 'int' object is not callable"
      ],
      "metadata": {
        "id": "UG9OSV1a8p2c"
      },
      "execution_count": null,
      "outputs": []
    },
    {
      "cell_type": "code",
      "source": [
        "# sum, min, max\n",
        "runs = [45, 67, 89, 12, 34, 56, 100]\n",
        "print(sum(runs))\n",
        "print(sum(runs)/len(runs))\n",
        "print(min(runs))\n",
        "print(max(runs))"
      ],
      "metadata": {
        "colab": {
          "base_uri": "https://localhost:8080/"
        },
        "id": "sRun1CeO6PX7",
        "outputId": "39397b9e-f968-4b31-b5e7-e36a1e6fd2ce"
      },
      "execution_count": null,
      "outputs": [
        {
          "output_type": "stream",
          "name": "stdout",
          "text": [
            "403\n",
            "57.57142857142857\n",
            "12\n",
            "100\n"
          ]
        }
      ]
    },
    {
      "cell_type": "code",
      "source": [
        "runs = [45, 67, 89, 12, 34, 56, 100]\n",
        "count = 0\n",
        "for i in runs:\n",
        "    count+=1\n",
        "print(\"count is: \",count)\n",
        "print(\"count is: \",len(runs))"
      ],
      "metadata": {
        "colab": {
          "base_uri": "https://localhost:8080/"
        },
        "id": "L8kqTHCk8Ppk",
        "outputId": "b0a84a98-0da9-4a7b-eeff-017280dae041"
      },
      "execution_count": null,
      "outputs": [
        {
          "output_type": "stream",
          "name": "stdout",
          "text": [
            "count is:  7\n",
            "count is:  7\n"
          ]
        }
      ]
    },
    {
      "cell_type": "code",
      "source": [
        "# sort\n",
        "runs = [45, 67, 89, 12, 34, 56, 100]\n",
        "print(runs)\n",
        "runs.sort()\n",
        "print(runs)\n",
        "runs.sort(reverse=True)\n",
        "print(runs)"
      ],
      "metadata": {
        "colab": {
          "base_uri": "https://localhost:8080/"
        },
        "id": "PutCtL8f-fnu",
        "outputId": "0a00f035-2dab-4c5f-deb6-ad28043e3294"
      },
      "execution_count": null,
      "outputs": [
        {
          "output_type": "stream",
          "name": "stdout",
          "text": [
            "[45, 67, 89, 12, 34, 56, 100]\n",
            "[12, 34, 45, 56, 67, 89, 100]\n",
            "[100, 89, 67, 56, 45, 34, 12]\n"
          ]
        }
      ]
    },
    {
      "cell_type": "code",
      "source": [
        "avengers = ['iron-man', 'thor', 'cap', 'hulk', 'groot']\n",
        "print(avengers)\n",
        "\n",
        "avengers.sort()\n",
        "print(avengers)\n",
        "avengers.sort(reverse=True)\n",
        "print(avengers)"
      ],
      "metadata": {
        "colab": {
          "base_uri": "https://localhost:8080/"
        },
        "id": "58sdbDf__k1s",
        "outputId": "ccdb53ef-d1b6-4376-b9a4-de04f6faf604"
      },
      "execution_count": null,
      "outputs": [
        {
          "output_type": "stream",
          "name": "stdout",
          "text": [
            "['iron-man', 'thor', 'cap', 'hulk', 'groot']\n",
            "['cap', 'groot', 'hulk', 'iron-man', 'thor']\n",
            "['thor', 'iron-man', 'hulk', 'groot', 'cap']\n"
          ]
        }
      ]
    },
    {
      "cell_type": "code",
      "source": [
        "# sort\n",
        "runs = [45, 67.5, 89, 12, 34.7, 56, 100]\n",
        "print(runs)\n",
        "runs.sort()\n",
        "print(runs)\n",
        "runs.sort(reverse=True)\n",
        "print(runs)"
      ],
      "metadata": {
        "colab": {
          "base_uri": "https://localhost:8080/"
        },
        "id": "2n9Fu7XF_8cP",
        "outputId": "6035e550-67d3-41be-a4de-c0d8414ca1ca"
      },
      "execution_count": null,
      "outputs": [
        {
          "output_type": "stream",
          "name": "stdout",
          "text": [
            "[45, 67.5, 89, 12, 34.7, 56, 100]\n",
            "[12, 34.7, 45, 56, 67.5, 89, 100]\n",
            "[100, 89, 67.5, 56, 45, 34.7, 12]\n"
          ]
        }
      ]
    },
    {
      "cell_type": "code",
      "source": [
        "grocceryList = [3, 'chairs', 3, 'tables', 1.5, 'Apples']\n",
        "print(grocceryList)\n",
        "grocceryList.sort()\n",
        "print(grocceryList)"
      ],
      "metadata": {
        "colab": {
          "base_uri": "https://localhost:8080/",
          "height": 243
        },
        "id": "IP8ieN4vAI0C",
        "outputId": "1c267a6c-b01d-41cb-b595-4baec5d25910"
      },
      "execution_count": null,
      "outputs": [
        {
          "output_type": "stream",
          "name": "stdout",
          "text": [
            "[3, 'chairs', 3, 'tables', 1.5, 'Apples']\n"
          ]
        },
        {
          "output_type": "error",
          "ename": "TypeError",
          "evalue": "ignored",
          "traceback": [
            "\u001b[0;31m---------------------------------------------------------------------------\u001b[0m",
            "\u001b[0;31mTypeError\u001b[0m                                 Traceback (most recent call last)",
            "\u001b[0;32m<ipython-input-8-733642c2e121>\u001b[0m in \u001b[0;36m<cell line: 3>\u001b[0;34m()\u001b[0m\n\u001b[1;32m      1\u001b[0m \u001b[0mgrocceryList\u001b[0m \u001b[0;34m=\u001b[0m \u001b[0;34m[\u001b[0m\u001b[0;36m3\u001b[0m\u001b[0;34m,\u001b[0m \u001b[0;34m'chairs'\u001b[0m\u001b[0;34m,\u001b[0m \u001b[0;36m3\u001b[0m\u001b[0;34m,\u001b[0m \u001b[0;34m'tables'\u001b[0m\u001b[0;34m,\u001b[0m \u001b[0;36m1.5\u001b[0m\u001b[0;34m,\u001b[0m \u001b[0;34m'Apples'\u001b[0m\u001b[0;34m]\u001b[0m\u001b[0;34m\u001b[0m\u001b[0;34m\u001b[0m\u001b[0m\n\u001b[1;32m      2\u001b[0m \u001b[0mprint\u001b[0m\u001b[0;34m(\u001b[0m\u001b[0mgrocceryList\u001b[0m\u001b[0;34m)\u001b[0m\u001b[0;34m\u001b[0m\u001b[0;34m\u001b[0m\u001b[0m\n\u001b[0;32m----> 3\u001b[0;31m \u001b[0mgrocceryList\u001b[0m\u001b[0;34m.\u001b[0m\u001b[0msort\u001b[0m\u001b[0;34m(\u001b[0m\u001b[0;34m)\u001b[0m\u001b[0;34m\u001b[0m\u001b[0;34m\u001b[0m\u001b[0m\n\u001b[0m\u001b[1;32m      4\u001b[0m \u001b[0mprint\u001b[0m\u001b[0;34m(\u001b[0m\u001b[0mgrocceryList\u001b[0m\u001b[0;34m)\u001b[0m\u001b[0;34m\u001b[0m\u001b[0;34m\u001b[0m\u001b[0m\n",
            "\u001b[0;31mTypeError\u001b[0m: '<' not supported between instances of 'str' and 'int'"
          ]
        }
      ]
    },
    {
      "cell_type": "markdown",
      "source": [
        "What will be the output of the following code?\n",
        "```python\n",
        "my_list = [1, 2, 3, 4, 5]\n",
        "i = -1\n",
        "while i >= -5:\n",
        "    print(my_list[i], end = \" \")\n",
        "    i -= 1\n",
        "```\n",
        "A. `5 4 3 2 1 ` <<<<<<\n",
        "\n",
        "B. `1 2 3 4 5 `\n",
        "\n",
        "C. `5 3 1 2 4 `\n",
        "\n",
        "D. `5 4 3 1 2 `"
      ],
      "metadata": {
        "id": "etXlZr-pBMY9"
      }
    },
    {
      "cell_type": "markdown",
      "source": [
        "What is the output of the following code?\n",
        "```python\n",
        "my_list = [1, 2, 3, 4, 5]\n",
        "my_list.append(6)\n",
        "print(my_list)\n",
        "```\n",
        "A. `[1, 2, 3, 4, 5]`\n",
        "\n",
        "B. `[1, 2, 3, 4, 5, 6]` <<<<<<<<<<<\n",
        "\n",
        "C. `[6, 5, 4, 3, 2, 1]`\n",
        "\n",
        "D. `[5, 4, 3, 2, 1, 6]`"
      ],
      "metadata": {
        "id": "oLOZCC_kCHMd"
      }
    },
    {
      "cell_type": "code",
      "source": [
        "my_list = [1, 2, 3, 4, 5]\n",
        "my_list.append(6)\n",
        "print(my_list)"
      ],
      "metadata": {
        "colab": {
          "base_uri": "https://localhost:8080/"
        },
        "id": "dSUGaipOBGxg",
        "outputId": "af199b9e-552b-41cb-f11c-81715ba0171b"
      },
      "execution_count": null,
      "outputs": [
        {
          "output_type": "stream",
          "name": "stdout",
          "text": [
            "[1, 2, 3, 4, 5, 6]\n"
          ]
        }
      ]
    },
    {
      "cell_type": "markdown",
      "source": [
        "What is the output of the following code?\n",
        "```python\n",
        "my_list = [1, 2, 3, 4, 5]\n",
        "i = 0\n",
        "while i < len(my_list):\n",
        "    if my_list[i] == 3:\n",
        "        break\n",
        "    print(my_list[i], end = \" \")\n",
        "    i += 1\n",
        "```\n",
        "A. `1 2 3 `\n",
        "\n",
        "B. `1 2 `\n",
        "\n",
        "C. `1 2 3 4 5  `\n",
        "\n",
        "D. `1 2 4 5 `"
      ],
      "metadata": {
        "id": "xKH4IePqCWyD"
      }
    },
    {
      "cell_type": "code",
      "source": [
        "my_list = [1, 2, 3, 4, 5]\n",
        "i = 0\n",
        "while i < len(my_list):\n",
        "    if my_list[i] == 3:\n",
        "        break\n",
        "    print(my_list[i], end = \" \")\n",
        "    i += 1"
      ],
      "metadata": {
        "colab": {
          "base_uri": "https://localhost:8080/"
        },
        "id": "KGqF5769CWlG",
        "outputId": "a581cf9c-f096-467a-9797-458fd83876db"
      },
      "execution_count": null,
      "outputs": [
        {
          "output_type": "stream",
          "name": "stdout",
          "text": [
            "1 2 "
          ]
        }
      ]
    },
    {
      "cell_type": "markdown",
      "source": [
        "What is the output of the following code?\n",
        "```python\n",
        "my_list = [10, 20, 30, 40, 50]\n",
        "i = 0\n",
        "while i < len(my_list):\n",
        "    my_list[i] *= 2\n",
        "    i += 1\n",
        "print(my_list)\n",
        "```\n",
        "A. `[10, 20, 30, 40, 50]`\n",
        "\n",
        "B. `[1, 2, 3, 4, 5]`\n",
        "\n",
        "C. `[20, 40, 60, 80, 100]` <<<\n",
        "\n",
        "D. `[5, 10, 15, 20, 25]`"
      ],
      "metadata": {
        "id": "qLKwBxA8DMWE"
      }
    },
    {
      "cell_type": "code",
      "source": [
        "my_list = [10, 20, 30, 40, 50]\n",
        "i = 0\n",
        "while i < len(my_list):\n",
        "    my_list[i] *= 2\n",
        "    i += 1\n",
        "print(my_list)"
      ],
      "metadata": {
        "colab": {
          "base_uri": "https://localhost:8080/"
        },
        "id": "EqGrp6D8CWhh",
        "outputId": "98738cfc-c70a-4786-d6ee-cd1511ee7757"
      },
      "execution_count": null,
      "outputs": [
        {
          "output_type": "stream",
          "name": "stdout",
          "text": [
            "[20, 40, 60, 80, 100]\n"
          ]
        }
      ]
    }
  ]
}