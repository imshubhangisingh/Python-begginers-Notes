{
  "nbformat": 4,
  "nbformat_minor": 0,
  "metadata": {
    "colab": {
      "provenance": [],
      "include_colab_link": true
    },
    "kernelspec": {
      "name": "python3",
      "display_name": "Python 3"
    },
    "language_info": {
      "name": "python"
    }
  },
  "cells": [
    {
      "cell_type": "markdown",
      "metadata": {
        "id": "view-in-github",
        "colab_type": "text"
      },
      "source": [
        "<a href=\"https://colab.research.google.com/github/imshubhangisingh/Python-begginers-Notes/blob/main/5)Beginner_List2D.ipynb\" target=\"_parent\"><img src=\"https://colab.research.google.com/assets/colab-badge.svg\" alt=\"Open In Colab\"/></a>"
      ]
    },
    {
      "cell_type": "markdown",
      "source": [
        "## Beginner : List: 2D  - 1st June 2023"
      ],
      "metadata": {
        "id": "pV-6BDfQmyGp"
      }
    },
    {
      "cell_type": "code",
      "execution_count": null,
      "metadata": {
        "id": "JktlFypJmuBc"
      },
      "outputs": [],
      "source": [
        "## python lists\n",
        "# []\n",
        "# mutable/editable\n",
        "# maintains order\n",
        "# allows duplicates\n",
        "# can store any data type... list inside a list>> 2d list"
      ]
    },
    {
      "cell_type": "markdown",
      "source": [
        "## Question 1\n",
        "\n",
        "Rotate a list by 1 element.\n",
        "\n",
        "```[1, 2, 3, 4, 5]``` -> last element is removed and added to the start.\n",
        "\n",
        "```[5, 1, 2, 3, 4]```"
      ],
      "metadata": {
        "id": "f6pRBLmhn9zF"
      }
    },
    {
      "cell_type": "code",
      "source": [
        "a = [1, 2, 3, 4, 5]\n",
        "# using slicing\n",
        "print(\"last part is\", a[-1:])\n",
        "print(a)\n",
        "a = a[-1:] + a[:-1]\n",
        "print(a)"
      ],
      "metadata": {
        "colab": {
          "base_uri": "https://localhost:8080/"
        },
        "id": "mjGIjhxSnzRf",
        "outputId": "eeb35610-f5e6-4bf5-ff89-20b7a2882e09"
      },
      "execution_count": null,
      "outputs": [
        {
          "output_type": "stream",
          "name": "stdout",
          "text": [
            "last part is [5]\n",
            "[1, 2, 3, 4, 5]\n",
            "[5, 1, 2, 3, 4]\n"
          ]
        }
      ]
    },
    {
      "cell_type": "code",
      "source": [
        "a = [1, 2, 3, 4, 5]\n",
        "# using pop - returns value of poped element\n",
        "print(a)\n",
        "last_ele = a.pop(-1)\n",
        "print(a)\n",
        "print(\"last element is\", last_ele)\n",
        "a.insert(0,last_ele)\n",
        "print(a)"
      ],
      "metadata": {
        "colab": {
          "base_uri": "https://localhost:8080/"
        },
        "id": "Z0RGCZYFozIr",
        "outputId": "441b3804-5928-4868-9427-7b49d42f535c"
      },
      "execution_count": null,
      "outputs": [
        {
          "output_type": "stream",
          "name": "stdout",
          "text": [
            "[1, 2, 3, 4, 5]\n",
            "[1, 2, 3, 4]\n",
            "last element is 5\n",
            "[5, 1, 2, 3, 4]\n"
          ]
        }
      ]
    },
    {
      "cell_type": "code",
      "source": [
        "a = [1, 2, 3, 4, 5]\n",
        "# using remove, this is under the assumption that the values inside your python list are unique\n",
        "print(a)\n",
        "last_ele = a[-1]\n",
        "a.remove(last_ele)\n",
        "print(a)\n",
        "print(\"last element is\", last_ele)\n",
        "a.insert(0,last_ele)\n",
        "print(a)"
      ],
      "metadata": {
        "colab": {
          "base_uri": "https://localhost:8080/"
        },
        "id": "wh6HzSCNo67M",
        "outputId": "bdee09d5-135c-4d2a-b10f-8119ec42c9a1"
      },
      "execution_count": null,
      "outputs": [
        {
          "output_type": "stream",
          "name": "stdout",
          "text": [
            "[1, 2, 3, 4, 5]\n",
            "[1, 2, 3, 4]\n",
            "last element is 5\n",
            "[5, 1, 2, 3, 4]\n"
          ]
        }
      ]
    },
    {
      "cell_type": "code",
      "source": [
        "# .count() >> count of the particular value/element in the list\n",
        "# .index() >> gives the position of the first occurence\n",
        "a = [1, 2, 5, 3, 4, 5]\n",
        "print(a.index(5))"
      ],
      "metadata": {
        "colab": {
          "base_uri": "https://localhost:8080/"
        },
        "id": "WfVTteSTpsgc",
        "outputId": "753d332e-0b5d-4390-a3a8-210a9401245e"
      },
      "execution_count": null,
      "outputs": [
        {
          "output_type": "stream",
          "name": "stdout",
          "text": [
            "2\n"
          ]
        }
      ]
    },
    {
      "cell_type": "code",
      "source": [
        "# del\n",
        "a = [1, 2, 5, 3, 4, 5]\n",
        "print(a)\n",
        "del a [3]\n",
        "print(a)\n",
        "print(\"slice that i don't like\", a[::3])\n",
        "del a[::3]\n",
        "print(a)\n",
        "# a.pop(10) ## 💀💀💀IndexError: pop index out of range\n",
        "del a[10:]"
      ],
      "metadata": {
        "colab": {
          "base_uri": "https://localhost:8080/"
        },
        "id": "jpM3GeG2qUfq",
        "outputId": "87dd14db-50eb-4c72-c846-6a5ba054c41b"
      },
      "execution_count": null,
      "outputs": [
        {
          "output_type": "stream",
          "name": "stdout",
          "text": [
            "[1, 2, 5, 3, 4, 5]\n",
            "[1, 2, 5, 4, 5]\n",
            "slice that i don't like [1, 4]\n",
            "[2, 5, 5]\n"
          ]
        }
      ]
    },
    {
      "cell_type": "code",
      "source": [
        "a = [1, 2, 5, 3, 4, 5]\n",
        "print(a)\n",
        "a.remove(5)\n",
        "print(a)\n",
        "a.remove(5)\n",
        "print(a)\n",
        "# a.remove(5) # 💀💀💀 ValueError: list.remove(x): x not in list\n",
        "# print(a)"
      ],
      "metadata": {
        "colab": {
          "base_uri": "https://localhost:8080/"
        },
        "id": "F52LdW1Tq9NN",
        "outputId": "1eecc9d7-1324-43c1-87e6-fdf393d395bc"
      },
      "execution_count": null,
      "outputs": [
        {
          "output_type": "stream",
          "name": "stdout",
          "text": [
            "[1, 2, 5, 3, 4, 5]\n",
            "[1, 2, 3, 4, 5]\n",
            "[1, 2, 3, 4]\n"
          ]
        }
      ]
    },
    {
      "cell_type": "markdown",
      "source": [
        "## **Question-2**\n",
        "Write a program to reverse a list."
      ],
      "metadata": {
        "id": "IWqC2Kdtr3Uv"
      }
    },
    {
      "cell_type": "code",
      "source": [
        "a = [1, 10, 2, 3, 4, 40, 5]\n",
        "# [5,40,4,3,2,10,1]\n",
        "# slicing - does'nt affect the orignal list\n",
        "print(a)\n",
        "print(a[::-1])\n",
        "print(a)"
      ],
      "metadata": {
        "colab": {
          "base_uri": "https://localhost:8080/"
        },
        "id": "rGZz9GDSrnpV",
        "outputId": "fadcc709-3937-4075-8fea-74fa4fa28bd3"
      },
      "execution_count": null,
      "outputs": [
        {
          "output_type": "stream",
          "name": "stdout",
          "text": [
            "[1, 10, 2, 3, 4, 40, 5]\n",
            "[5, 40, 4, 3, 2, 10, 1]\n",
            "[1, 10, 2, 3, 4, 40, 5]\n"
          ]
        }
      ]
    },
    {
      "cell_type": "code",
      "source": [
        "a = [1, 10, 2, 3, 4, 40, 5]\n",
        "# [5,40,4,3,2,10,1]\n",
        "# .reverse() - changes the orignal list\n",
        "print(a)\n",
        "a.reverse() # this reverses the original list\n",
        "print(a)"
      ],
      "metadata": {
        "colab": {
          "base_uri": "https://localhost:8080/"
        },
        "id": "b9F9B1uqsq_O",
        "outputId": "7f799fed-b123-4fb4-cd74-7ecf2c76d1b7"
      },
      "execution_count": null,
      "outputs": [
        {
          "output_type": "stream",
          "name": "stdout",
          "text": [
            "[1, 10, 2, 3, 4, 40, 5]\n",
            "[5, 40, 4, 3, 2, 10, 1]\n"
          ]
        }
      ]
    },
    {
      "cell_type": "code",
      "source": [
        "a = [1, 10, 2, 3, 4, 40, 5]\n",
        "# [5,40,4,3,2,10,1]\n",
        "# reversed() - does'nt affect the copy of and returns\n",
        "print(a)\n",
        "print(list(reversed(a))) # this reverses the list and return a copy without effecting the original\n",
        "print(a)"
      ],
      "metadata": {
        "colab": {
          "base_uri": "https://localhost:8080/"
        },
        "id": "USVInWb4tNq8",
        "outputId": "a831c65a-d27f-4bcf-a3c9-aa6b5f506de7"
      },
      "execution_count": null,
      "outputs": [
        {
          "output_type": "stream",
          "name": "stdout",
          "text": [
            "[1, 10, 2, 3, 4, 40, 5]\n",
            "[5, 40, 4, 3, 2, 10, 1]\n",
            "[1, 10, 2, 3, 4, 40, 5]\n"
          ]
        }
      ]
    },
    {
      "cell_type": "code",
      "source": [
        "# sorting\n",
        "a = [1, 10, 2, 3, 4, 40, 5]\n",
        "\n",
        "# .sort() - changes the orignal list\n",
        "print(a)\n",
        "a.sort() # this reverses the original list\n",
        "print(a)"
      ],
      "metadata": {
        "colab": {
          "base_uri": "https://localhost:8080/"
        },
        "id": "gCFpv-GjtHhW",
        "outputId": "d6ba158e-fbed-4780-e327-779bad2f05a1"
      },
      "execution_count": null,
      "outputs": [
        {
          "output_type": "stream",
          "name": "stdout",
          "text": [
            "[1, 10, 2, 3, 4, 40, 5]\n",
            "[1, 2, 3, 4, 5, 10, 40]\n"
          ]
        }
      ]
    },
    {
      "cell_type": "code",
      "source": [
        "# sorting\n",
        "a = [1, 10, 2, 3, 4, 40, 5]\n",
        "\n",
        "# sorted() - does'nt affect the orinal list and returns\n",
        "print(a)\n",
        "print(sorted(a)) # this reverses the list, without effecting the original\n",
        "print(a)"
      ],
      "metadata": {
        "colab": {
          "base_uri": "https://localhost:8080/"
        },
        "id": "verQ_mNltvYP",
        "outputId": "afeb93db-509f-4bfc-999d-e1f701acaed9"
      },
      "execution_count": null,
      "outputs": [
        {
          "output_type": "stream",
          "name": "stdout",
          "text": [
            "[1, 10, 2, 3, 4, 40, 5]\n",
            "[1, 2, 3, 4, 5, 10, 40]\n",
            "[1, 10, 2, 3, 4, 40, 5]\n"
          ]
        }
      ]
    },
    {
      "cell_type": "code",
      "source": [
        "player = [\"Ronaldo\", 37, 185.5, True, None]\n",
        "print(player)\n",
        "print(\"# of elements in my player list is: \", len(player))\n",
        "for p in player:\n",
        "    print(p)"
      ],
      "metadata": {
        "colab": {
          "base_uri": "https://localhost:8080/"
        },
        "id": "Qfrn9le-uH0G",
        "outputId": "61516729-afde-4336-d94e-62e33a8c8763"
      },
      "execution_count": null,
      "outputs": [
        {
          "output_type": "stream",
          "name": "stdout",
          "text": [
            "['Ronaldo', 37, 185.5, True, None]\n",
            "# of elements in my player list is:  5\n",
            "Ronaldo\n",
            "37\n",
            "185.5\n",
            "True\n",
            "None\n"
          ]
        }
      ]
    },
    {
      "cell_type": "code",
      "source": [
        "grocceryList = [3, 'chairs', 3, 'tables', 1.5, 'Apples', [\"Ronaldo\", 37, 185.5, True, None]]\n",
        "print(grocceryList)\n",
        "print(\"# of elements in my grocceryList list is: \", len(grocceryList))\n",
        "\n",
        "for g in grocceryList:\n",
        "    print(g)"
      ],
      "metadata": {
        "colab": {
          "base_uri": "https://localhost:8080/"
        },
        "id": "o6KWvs-Bu0Wc",
        "outputId": "faa1ae26-fcf6-49d5-a439-92325e95537f"
      },
      "execution_count": null,
      "outputs": [
        {
          "output_type": "stream",
          "name": "stdout",
          "text": [
            "[3, 'chairs', 3, 'tables', 1.5, 'Apples', ['Ronaldo', 37, 185.5, True, None]]\n",
            "# of elements in my grocceryList list is:  7\n",
            "3\n",
            "chairs\n",
            "3\n",
            "tables\n",
            "1.5\n",
            "Apples\n",
            "['Ronaldo', 37, 185.5, True, None]\n"
          ]
        }
      ]
    },
    {
      "cell_type": "code",
      "source": [
        "grocceryList = [3, 'chairs', 3, 'tables', 1.5, 'Apples', [\"Ronaldo\", 37, 185.5, True, None]]\n",
        "print(grocceryList)\n",
        "print(grocceryList[5], type(grocceryList[5],))\n",
        "print(grocceryList[6], type(grocceryList[6],))\n",
        "print(grocceryList[6] [0])\n",
        "print(grocceryList[6][-1])"
      ],
      "metadata": {
        "colab": {
          "base_uri": "https://localhost:8080/"
        },
        "id": "4Esem3onwFTa",
        "outputId": "574439b1-9906-402b-8c20-887c5794cc4b"
      },
      "execution_count": null,
      "outputs": [
        {
          "output_type": "stream",
          "name": "stdout",
          "text": [
            "[3, 'chairs', 3, 'tables', 1.5, 'Apples', ['Ronaldo', 37, 185.5, True, None]]\n",
            "Apples <class 'str'>\n",
            "['Ronaldo', 37, 185.5, True, None] <class 'list'>\n",
            "Ronaldo\n",
            "None\n"
          ]
        }
      ]
    },
    {
      "cell_type": "code",
      "source": [
        "my_list = [1,2,3,[4,5,[\"hello\",[True, \"Find ME!!\"]],6]]\n",
        "print(my_list[3][2][1][1])\n",
        "print(my_list[-1][-2][-1][-1])\n",
        "print(my_list[3][2][-1][1])"
      ],
      "metadata": {
        "colab": {
          "base_uri": "https://localhost:8080/"
        },
        "id": "LPE5mRSywF7F",
        "outputId": "888e9ab5-ca94-48a2-e154-a40d58141943"
      },
      "execution_count": null,
      "outputs": [
        {
          "output_type": "stream",
          "name": "stdout",
          "text": [
            "Find ME!!\n",
            "Find ME!!\n",
            "Find ME!!\n"
          ]
        }
      ]
    },
    {
      "cell_type": "code",
      "source": [
        "a = [[1, 2, 3], [4, 5, 6], [7, 8, 9]]\n",
        "# get me 7\n",
        "print(a[2][0])"
      ],
      "metadata": {
        "colab": {
          "base_uri": "https://localhost:8080/"
        },
        "id": "pOB2k6N90BgM",
        "outputId": "c408ac78-956a-4183-a06d-ebd6670d7032"
      },
      "execution_count": null,
      "outputs": [
        {
          "output_type": "stream",
          "name": "stdout",
          "text": [
            "7\n"
          ]
        }
      ]
    },
    {
      "cell_type": "code",
      "source": [
        "a = [\n",
        "    [1, 2, 3],\n",
        "    [4, 5, 6],\n",
        "    [7, 8, 9],\n",
        "    [0,10,11]\n",
        "     ]\n",
        "print(\"# of rows is\", len(a))\n",
        "print(\"# of cols is\", len(a[0]))\n",
        "print(\"8 is\", a[2][1]) # list[row_index][column_index]"
      ],
      "metadata": {
        "colab": {
          "base_uri": "https://localhost:8080/"
        },
        "id": "dYbGWN253M4E",
        "outputId": "334192cb-77d8-4605-d76d-cd879e216d4b"
      },
      "execution_count": null,
      "outputs": [
        {
          "output_type": "stream",
          "name": "stdout",
          "text": [
            "# of rows is 4\n",
            "# of cols is 3\n",
            "8 is 8\n"
          ]
        }
      ]
    },
    {
      "cell_type": "code",
      "source": [
        "matrix = [\n",
        "    [1, 2, 3],\n",
        "    [4, 5, 6],\n",
        "    [7, 8, 9],\n",
        "    [0,10,11]\n",
        "     ]\n",
        "nRows = len(matrix)\n",
        "nCols = len(matrix[0])\n",
        "print(\"# of rows is\", nRows)\n",
        "print(\"# of cols is\", nCols)\n",
        "for rowIndex in range(nRows):\n",
        "    # print(matrix[rowIndex])\n",
        "    for colIndex in range(nCols):\n",
        "        print(matrix[rowIndex][colIndex])"
      ],
      "metadata": {
        "colab": {
          "base_uri": "https://localhost:8080/"
        },
        "id": "UxPSmLhj4CXG",
        "outputId": "b6b50913-f629-4ce2-8647-a4fc858d993d"
      },
      "execution_count": null,
      "outputs": [
        {
          "output_type": "stream",
          "name": "stdout",
          "text": [
            "# of rows is 4\n",
            "# of cols is 3\n",
            "1\n",
            "2\n",
            "3\n",
            "4\n",
            "5\n",
            "6\n",
            "7\n",
            "8\n",
            "9\n",
            "0\n",
            "10\n",
            "11\n"
          ]
        }
      ]
    },
    {
      "cell_type": "code",
      "source": [
        "matrix = [\n",
        "    [1, 2, 3],\n",
        "    [4, 5, 6],\n",
        "    [7, 8, 9],\n",
        "    [0,10,11]\n",
        "     ]\n",
        "nRows = len(matrix)\n",
        "nCols = len(matrix[0])\n",
        "print(\"# of rows is\", nRows)\n",
        "print(\"# of cols is\", nCols)\n",
        "for rowIndex in range(nRows):\n",
        "    for colIndex in range(nCols):\n",
        "        print(matrix[rowIndex][colIndex], end=\"  \")\n",
        "    print()"
      ],
      "metadata": {
        "colab": {
          "base_uri": "https://localhost:8080/"
        },
        "id": "GBRP9TNt5Tat",
        "outputId": "b2c4c872-e229-468e-d8bd-5a53df28b087"
      },
      "execution_count": null,
      "outputs": [
        {
          "output_type": "stream",
          "name": "stdout",
          "text": [
            "# of rows is 4\n",
            "# of cols is 3\n",
            "1  2  3  \n",
            "4  5  6  \n",
            "7  8  9  \n",
            "0  10  11  \n"
          ]
        }
      ]
    },
    {
      "cell_type": "code",
      "source": [
        "matrix = [\n",
        "    [1, 2, 3],\n",
        "    [4, 5, 6],\n",
        "    [7, 8, 9],\n",
        "    [0,10,11]\n",
        "     ]\n",
        "for row in matrix:\n",
        "    print(row)\n",
        "    for ele in row:\n",
        "        print(ele)"
      ],
      "metadata": {
        "colab": {
          "base_uri": "https://localhost:8080/"
        },
        "id": "qIu1Fcqs5ztN",
        "outputId": "a99fe11f-abca-4dd4-f530-d2ad2619ef32"
      },
      "execution_count": null,
      "outputs": [
        {
          "output_type": "stream",
          "name": "stdout",
          "text": [
            "[1, 2, 3]\n",
            "1\n",
            "2\n",
            "3\n",
            "[4, 5, 6]\n",
            "4\n",
            "5\n",
            "6\n",
            "[7, 8, 9]\n",
            "7\n",
            "8\n",
            "9\n",
            "[0, 10, 11]\n",
            "0\n",
            "10\n",
            "11\n"
          ]
        }
      ]
    },
    {
      "cell_type": "code",
      "source": [
        "randomMatrix = [[1, 2, 3], [\"a\", \"b\", \"c\", \"d\", \"e\"], [4.5, 6.7]]\n",
        "for row in randomMatrix:\n",
        "    print(row)\n",
        "    for ele in row:\n",
        "        print(ele)"
      ],
      "metadata": {
        "colab": {
          "base_uri": "https://localhost:8080/"
        },
        "id": "1iw9l8Kh6YVE",
        "outputId": "af089996-2f2b-4654-ec85-258fafc72cb8"
      },
      "execution_count": null,
      "outputs": [
        {
          "output_type": "stream",
          "name": "stdout",
          "text": [
            "[1, 2, 3]\n",
            "1\n",
            "2\n",
            "3\n",
            "['a', 'b', 'c', 'd', 'e']\n",
            "a\n",
            "b\n",
            "c\n",
            "d\n",
            "e\n",
            "[4.5, 6.7]\n",
            "4.5\n",
            "6.7\n"
          ]
        }
      ]
    },
    {
      "cell_type": "code",
      "source": [
        "randomMatrix = [[1, 2, 3], [\"a\", \"b\", \"c\", \"d\", \"e\"], [4.5, 6.7]]\n",
        "for row in randomMatrix:\n",
        "    for ele in row:\n",
        "        print(ele, end=\"  \")\n",
        "    print()"
      ],
      "metadata": {
        "colab": {
          "base_uri": "https://localhost:8080/"
        },
        "id": "gDR-9FgX6nsM",
        "outputId": "da90bd05-bb42-474b-ccbd-60c853ce4b7b"
      },
      "execution_count": null,
      "outputs": [
        {
          "output_type": "stream",
          "name": "stdout",
          "text": [
            "1  2  3  \n",
            "a  b  c  d  e  \n",
            "4.5  6.7  \n"
          ]
        }
      ]
    },
    {
      "cell_type": "code",
      "source": [
        "matrix = [\n",
        "    [1, 2, 3],\n",
        "    [4, 5, 6],\n",
        "    [7, 8, 9],\n",
        "    [0,10,11]\n",
        "     ]\n",
        "# how many number of cols this matrix has (assume that no cols remains the same)\n",
        "print(len(matrix[0]))"
      ],
      "metadata": {
        "colab": {
          "base_uri": "https://localhost:8080/"
        },
        "id": "4q8ibrQC61b9",
        "outputId": "e402d5c4-dbc9-4661-9b25-db79e325c689"
      },
      "execution_count": null,
      "outputs": [
        {
          "output_type": "stream",
          "name": "stdout",
          "text": [
            "3\n"
          ]
        }
      ]
    },
    {
      "cell_type": "code",
      "source": [
        "matrix = [\n",
        "    [1, 2, 3],\n",
        "    [4, 5, 6],\n",
        "    [7, 8, 9],\n",
        "    [0,10,11]\n",
        "     ]\n",
        "# how many number of rows this matrix has\n",
        "print(len(matrix))"
      ],
      "metadata": {
        "colab": {
          "base_uri": "https://localhost:8080/"
        },
        "id": "HbcMu_Zj_dXr",
        "outputId": "6b1a351f-c4c4-469d-80e9-bb28ac11db5d"
      },
      "execution_count": null,
      "outputs": [
        {
          "output_type": "stream",
          "name": "stdout",
          "text": [
            "4\n"
          ]
        }
      ]
    },
    {
      "cell_type": "code",
      "source": [
        "matrix = [\n",
        "    [1, 2, 3],\n",
        "    [4, 5, 6],\n",
        "    [7, 8, 9],\n",
        "    [0,10,11]\n",
        "     ]\n",
        "\n",
        "# what is the sum of all the elements?\n",
        "total = 0\n",
        "for row in matrix:\n",
        "    # print(row)\n",
        "    for ele in row:\n",
        "        # print(ele)\n",
        "        total += ele\n",
        "print(total)"
      ],
      "metadata": {
        "colab": {
          "base_uri": "https://localhost:8080/"
        },
        "id": "yX4yLCig_88e",
        "outputId": "381298c9-3806-4003-9d08-3a28ddd4b77b"
      },
      "execution_count": null,
      "outputs": [
        {
          "output_type": "stream",
          "name": "stdout",
          "text": [
            "66\n"
          ]
        }
      ]
    },
    {
      "cell_type": "code",
      "source": [
        "matrix = [\n",
        "    [1, 2, 3],\n",
        "    [4, 5, 6],\n",
        "    [7, 8, 9],\n",
        "    [0,10,11]\n",
        "     ]\n",
        "\n",
        "# what is the sum of all the elements row -wise?\n",
        "#  >> [6,15,24,21]\n",
        "ans = []\n",
        "\n",
        "for row in matrix:\n",
        "    total = 0\n",
        "    print(row)\n",
        "    # sum up a single row\n",
        "    for ele in row:\n",
        "        total+=ele\n",
        "    ans.append(total)\n",
        "print(ans)"
      ],
      "metadata": {
        "colab": {
          "base_uri": "https://localhost:8080/"
        },
        "id": "_iyQjXDEA7ej",
        "outputId": "9a81a531-b960-4ae0-e4ad-d981aff80c9d"
      },
      "execution_count": null,
      "outputs": [
        {
          "output_type": "stream",
          "name": "stdout",
          "text": [
            "[1, 2, 3]\n",
            "[4, 5, 6]\n",
            "[7, 8, 9]\n",
            "[0, 10, 11]\n",
            "[6, 15, 24, 21]\n"
          ]
        }
      ]
    },
    {
      "cell_type": "code",
      "source": [
        "matrix = [\n",
        "    [1, 2, 3],\n",
        "    [4, 5, 6],\n",
        "    [7, 8, 9],\n",
        "    [0,10,11]\n",
        "     ]\n",
        "\n",
        "# what is the sum of all the elements col -wise?\n",
        "#  >> [12,25,29]\n",
        "nRows = len(matrix)\n",
        "nCols = len(matrix[0])\n",
        "ans = []\n",
        "for i in range(nCols):\n",
        "    ans.append(0)\n",
        "print(ans)\n",
        "\n",
        "for rowIndex in range(nRows):\n",
        "    for colIndex in range(nCols):\n",
        "        ele = matrix[rowIndex][colIndex]\n",
        "        ans[colIndex] += ele\n",
        "print(ans)"
      ],
      "metadata": {
        "colab": {
          "base_uri": "https://localhost:8080/"
        },
        "id": "vpCiUB68DkB0",
        "outputId": "ec1c162c-d7cc-48c9-e2c1-337f2693d931"
      },
      "execution_count": null,
      "outputs": [
        {
          "output_type": "stream",
          "name": "stdout",
          "text": [
            "[0, 0, 0]\n",
            "[12, 25, 29]\n"
          ]
        }
      ]
    },
    {
      "cell_type": "code",
      "source": [
        "matrix = [\n",
        "    [1, 2, 3],\n",
        "    [4, 5, 6],\n",
        "    [7, 8, 9]\n",
        "     ]\n",
        "\n",
        "# HW: what is the sum of the diaginal>> 1+5+9 = 15"
      ],
      "metadata": {
        "id": "Xqh85JmAFtxc"
      },
      "execution_count": null,
      "outputs": []
    }
  ]
}