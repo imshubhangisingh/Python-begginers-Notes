{
  "nbformat": 4,
  "nbformat_minor": 0,
  "metadata": {
    "colab": {
      "provenance": [],
      "include_colab_link": true
    },
    "kernelspec": {
      "name": "python3",
      "display_name": "Python 3"
    },
    "language_info": {
      "name": "python"
    }
  },
  "cells": [
    {
      "cell_type": "markdown",
      "metadata": {
        "id": "view-in-github",
        "colab_type": "text"
      },
      "source": [
        "<a href=\"https://colab.research.google.com/github/imshubhangisingh/Python-begginers-Notes/blob/main/6)Beginner_Strings1.ipynb\" target=\"_parent\"><img src=\"https://colab.research.google.com/assets/colab-badge.svg\" alt=\"Open In Colab\"/></a>"
      ]
    },
    {
      "cell_type": "markdown",
      "source": [
        "<center>\n",
        "\n",
        "## Beginner : Strings 1 - 3 June 2023\n",
        "\n",
        "![](https://codehs.com/uploads/f7b9b4e3fce7610f7c88a788e6d4aa29)\n",
        "\n",
        "</center>"
      ],
      "metadata": {
        "id": "KusvtLKL0nA1"
      }
    },
    {
      "cell_type": "code",
      "execution_count": null,
      "metadata": {
        "id": "8VEa7y980ga7"
      },
      "outputs": [],
      "source": [
        "## Data Types >>> immutable/ non-editable\n",
        "# str\n",
        "# int\n",
        "# float\n",
        "# bool\n",
        "# None"
      ]
    },
    {
      "cell_type": "code",
      "source": [
        "a = 4\n",
        "a= a-1"
      ],
      "metadata": {
        "id": "U8CQ7XL78XqT"
      },
      "execution_count": null,
      "outputs": []
    },
    {
      "cell_type": "code",
      "source": [
        "a = [4,4]\n",
        "a.append(3)\n",
        "a[0] = -10"
      ],
      "metadata": {
        "id": "nTtDbUK98t-6"
      },
      "execution_count": null,
      "outputs": []
    },
    {
      "cell_type": "code",
      "source": [
        "print(\"this is a str\")\n",
        "print('this is also a str')\n",
        "print('''one more\n",
        "str''')\n",
        "print(\"\"\"so many strss\"\"\")"
      ],
      "metadata": {
        "colab": {
          "base_uri": "https://localhost:8080/"
        },
        "id": "I5clku2D9UNz",
        "outputId": "6474c8dd-b4d3-4602-d674-f97043097cba"
      },
      "execution_count": null,
      "outputs": [
        {
          "output_type": "stream",
          "name": "stdout",
          "text": [
            "this is a str\n",
            "this is also a str\n",
            "one more \n",
            "str\n",
            "so many strss\n"
          ]
        }
      ]
    },
    {
      "cell_type": "code",
      "source": [
        "print(\"this is \\n a str\")\n",
        "print('this is \\n also a str')"
      ],
      "metadata": {
        "colab": {
          "base_uri": "https://localhost:8080/"
        },
        "id": "c8z0SYCA99rV",
        "outputId": "d36ef2be-0955-4c09-808d-e1d32cf52612"
      },
      "execution_count": null,
      "outputs": [
        {
          "output_type": "stream",
          "name": "stdout",
          "text": [
            "this is \n",
            " a str\n",
            "this is \n",
            " also a str\n"
          ]
        }
      ]
    },
    {
      "cell_type": "code",
      "source": [
        "print(\"1 line \\n 2line\")"
      ],
      "metadata": {
        "colab": {
          "base_uri": "https://localhost:8080/"
        },
        "id": "tLk9H6cm9gJR",
        "outputId": "3e050cdc-ca2a-4030-9a73-c0ebc7abddcc"
      },
      "execution_count": null,
      "outputs": [
        {
          "output_type": "stream",
          "name": "stdout",
          "text": [
            "1 line \n",
            " 2line\n"
          ]
        }
      ]
    },
    {
      "cell_type": "code",
      "source": [
        "print('\"hi')"
      ],
      "metadata": {
        "colab": {
          "base_uri": "https://localhost:8080/"
        },
        "id": "PPrWz6IE9xih",
        "outputId": "aff3e4e5-a056-4831-9719-67c739efd2d2"
      },
      "execution_count": null,
      "outputs": [
        {
          "output_type": "stream",
          "name": "stdout",
          "text": [
            "\"hi\n"
          ]
        }
      ]
    },
    {
      "cell_type": "code",
      "source": [
        "print('hi')\n",
        "print(\"hi\")"
      ],
      "metadata": {
        "colab": {
          "base_uri": "https://localhost:8080/"
        },
        "id": "321za-yw_dJm",
        "outputId": "47a33d1a-25ee-430b-c46b-bcfddfbe9ede"
      },
      "execution_count": null,
      "outputs": [
        {
          "output_type": "stream",
          "name": "stdout",
          "text": [
            "hi\n",
            "hi\n"
          ]
        }
      ]
    },
    {
      "cell_type": "code",
      "source": [
        "print(\"hi')"
      ],
      "metadata": {
        "colab": {
          "base_uri": "https://localhost:8080/",
          "height": 132
        },
        "id": "6MwJUdNx_O4r",
        "outputId": "9151ea0f-15c3-4791-b42c-b084771d460d"
      },
      "execution_count": null,
      "outputs": [
        {
          "output_type": "error",
          "ename": "SyntaxError",
          "evalue": "ignored",
          "traceback": [
            "\u001b[0;36m  File \u001b[0;32m\"<ipython-input-8-363ca8b54ae6>\"\u001b[0;36m, line \u001b[0;32m1\u001b[0m\n\u001b[0;31m    print(\"hi')\u001b[0m\n\u001b[0m          ^\u001b[0m\n\u001b[0;31mSyntaxError\u001b[0m\u001b[0;31m:\u001b[0m unterminated string literal (detected at line 1)\n"
          ]
        }
      ]
    },
    {
      "cell_type": "code",
      "source": [
        "\"hi look at this meme\""
      ],
      "metadata": {
        "id": "JGxmVxmM_0qu"
      },
      "execution_count": null,
      "outputs": []
    },
    {
      "cell_type": "code",
      "source": [
        "# American standard code for information interchange -- ASCII"
      ],
      "metadata": {
        "id": "K9setBVdBBp0"
      },
      "execution_count": null,
      "outputs": []
    },
    {
      "cell_type": "code",
      "source": [
        "print(ord(\"h\"))"
      ],
      "metadata": {
        "colab": {
          "base_uri": "https://localhost:8080/"
        },
        "id": "-iJIfgXmCYP-",
        "outputId": "31d0287a-b9ba-48b0-af07-42b098939a92"
      },
      "execution_count": null,
      "outputs": [
        {
          "output_type": "stream",
          "name": "stdout",
          "text": [
            "104\n"
          ]
        }
      ]
    },
    {
      "cell_type": "code",
      "source": [
        "print(ord(\"a\"))\n",
        "print(ord(\"z\"))"
      ],
      "metadata": {
        "colab": {
          "base_uri": "https://localhost:8080/"
        },
        "id": "JEvu-rqKCiG6",
        "outputId": "00f92ae5-7ccd-4c3c-807c-2183b1f37504"
      },
      "execution_count": null,
      "outputs": [
        {
          "output_type": "stream",
          "name": "stdout",
          "text": [
            "97\n",
            "122\n"
          ]
        }
      ]
    },
    {
      "cell_type": "code",
      "source": [
        "print(chr(122))"
      ],
      "metadata": {
        "colab": {
          "base_uri": "https://localhost:8080/"
        },
        "id": "jyfhxBJ8CvBJ",
        "outputId": "1b0800bb-ae55-41b5-d208-05a271b82f20"
      },
      "execution_count": null,
      "outputs": [
        {
          "output_type": "stream",
          "name": "stdout",
          "text": [
            "z\n"
          ]
        }
      ]
    },
    {
      "cell_type": "code",
      "source": [
        "string = \"hi look at this meme\"\n",
        "for s in string:\n",
        "    print(s, ord(s))"
      ],
      "metadata": {
        "colab": {
          "base_uri": "https://localhost:8080/"
        },
        "id": "-VJv6kBpDCs5",
        "outputId": "b29ad232-210c-42a7-af06-7d5513e49913"
      },
      "execution_count": null,
      "outputs": [
        {
          "output_type": "stream",
          "name": "stdout",
          "text": [
            "h 104\n",
            "i 105\n",
            "  32\n",
            "l 108\n",
            "o 111\n",
            "o 111\n",
            "k 107\n",
            "  32\n",
            "a 97\n",
            "t 116\n",
            "  32\n",
            "t 116\n",
            "h 104\n",
            "i 105\n",
            "s 115\n",
            "  32\n",
            "m 109\n",
            "e 101\n",
            "m 109\n",
            "e 101\n"
          ]
        }
      ]
    },
    {
      "cell_type": "code",
      "source": [
        "1>1"
      ],
      "metadata": {
        "colab": {
          "base_uri": "https://localhost:8080/"
        },
        "id": "q9JrOJAODhEA",
        "outputId": "e020917a-cbae-4af7-c57e-266a30f17271"
      },
      "execution_count": null,
      "outputs": [
        {
          "output_type": "execute_result",
          "data": {
            "text/plain": [
              "False"
            ]
          },
          "metadata": {},
          "execution_count": 19
        }
      ]
    },
    {
      "cell_type": "code",
      "source": [
        "'a'>'a'"
      ],
      "metadata": {
        "colab": {
          "base_uri": "https://localhost:8080/"
        },
        "id": "gzpW-BzxD6EH",
        "outputId": "a4ec0a97-980e-4fa4-bd70-c4e6b4ef9204"
      },
      "execution_count": null,
      "outputs": [
        {
          "output_type": "execute_result",
          "data": {
            "text/plain": [
              "False"
            ]
          },
          "metadata": {},
          "execution_count": 20
        }
      ]
    },
    {
      "cell_type": "code",
      "source": [
        "'a'>'A'"
      ],
      "metadata": {
        "colab": {
          "base_uri": "https://localhost:8080/"
        },
        "id": "_3sIsznMEBDW",
        "outputId": "72c3cece-7373-4647-8ae6-038439e49f3b"
      },
      "execution_count": null,
      "outputs": [
        {
          "output_type": "execute_result",
          "data": {
            "text/plain": [
              "True"
            ]
          },
          "metadata": {},
          "execution_count": 21
        }
      ]
    },
    {
      "cell_type": "code",
      "source": [
        "print('a',ord('a'))"
      ],
      "metadata": {
        "colab": {
          "base_uri": "https://localhost:8080/"
        },
        "id": "Y8tJPUOvEJYS",
        "outputId": "13445fb7-09d7-488c-ef41-ef5713081c18"
      },
      "execution_count": null,
      "outputs": [
        {
          "output_type": "stream",
          "name": "stdout",
          "text": [
            "a 97\n"
          ]
        }
      ]
    },
    {
      "cell_type": "code",
      "source": [
        "print('A',ord('A'))"
      ],
      "metadata": {
        "colab": {
          "base_uri": "https://localhost:8080/"
        },
        "id": "lLG1iOIlEJTG",
        "outputId": "9e5e87eb-529b-4eb1-cea8-b3b2bd9291da"
      },
      "execution_count": null,
      "outputs": [
        {
          "output_type": "stream",
          "name": "stdout",
          "text": [
            "A 65\n"
          ]
        }
      ]
    },
    {
      "cell_type": "code",
      "source": [
        "print('a',ord('a'))\n",
        "print('b',ord('b'))\n",
        "print('c',ord('c'))\n",
        "print('d',ord('d'))\n",
        "print('e',ord('e'))"
      ],
      "metadata": {
        "colab": {
          "base_uri": "https://localhost:8080/"
        },
        "id": "yzasanUOEXDW",
        "outputId": "36a8a383-f0e4-4270-99d5-ab4aa73f03d5"
      },
      "execution_count": null,
      "outputs": [
        {
          "output_type": "stream",
          "name": "stdout",
          "text": [
            "a 97\n",
            "b 98\n",
            "c 99\n",
            "d 100\n",
            "e 101\n"
          ]
        }
      ]
    },
    {
      "cell_type": "code",
      "source": [
        "\"abc\">\"abd\""
      ],
      "metadata": {
        "colab": {
          "base_uri": "https://localhost:8080/"
        },
        "id": "1rUjyx9dE9qo",
        "outputId": "46abd700-cf20-4601-fce6-3a7d173bdc9a"
      },
      "execution_count": null,
      "outputs": [
        {
          "output_type": "execute_result",
          "data": {
            "text/plain": [
              "False"
            ]
          },
          "metadata": {},
          "execution_count": 25
        }
      ]
    },
    {
      "cell_type": "code",
      "source": [
        "\"abc\">\"abcd\""
      ],
      "metadata": {
        "colab": {
          "base_uri": "https://localhost:8080/"
        },
        "id": "5oYWgg5QFLH4",
        "outputId": "39e3594e-cdad-441b-d053-01afc614833e"
      },
      "execution_count": null,
      "outputs": [
        {
          "output_type": "execute_result",
          "data": {
            "text/plain": [
              "False"
            ]
          },
          "metadata": {},
          "execution_count": 26
        }
      ]
    },
    {
      "cell_type": "code",
      "source": [
        "# maths\n",
        "print(\"Cristiano \" + \" Ronaldo\")"
      ],
      "metadata": {
        "colab": {
          "base_uri": "https://localhost:8080/"
        },
        "id": "-5AE5nsyFWlB",
        "outputId": "a1e1d206-a9d8-43e4-a6e4-b9d46c67e49c"
      },
      "execution_count": null,
      "outputs": [
        {
          "output_type": "stream",
          "name": "stdout",
          "text": [
            "Cristiano  Ronaldo\n"
          ]
        }
      ]
    },
    {
      "cell_type": "code",
      "source": [
        "print(\"Cristiano \" * \" Ronaldo\")"
      ],
      "metadata": {
        "colab": {
          "base_uri": "https://localhost:8080/",
          "height": 166
        },
        "id": "rAQLhpYJFeMO",
        "outputId": "be61d352-6521-48dc-c1e8-adbd2edc3c2b"
      },
      "execution_count": null,
      "outputs": [
        {
          "output_type": "error",
          "ename": "TypeError",
          "evalue": "ignored",
          "traceback": [
            "\u001b[0;31m---------------------------------------------------------------------------\u001b[0m",
            "\u001b[0;31mTypeError\u001b[0m                                 Traceback (most recent call last)",
            "\u001b[0;32m<ipython-input-28-207882b3f0fa>\u001b[0m in \u001b[0;36m<cell line: 1>\u001b[0;34m()\u001b[0m\n\u001b[0;32m----> 1\u001b[0;31m \u001b[0mprint\u001b[0m\u001b[0;34m(\u001b[0m\u001b[0;34m\"Cristiano \"\u001b[0m \u001b[0;34m*\u001b[0m \u001b[0;34m\" Ronaldo\"\u001b[0m\u001b[0;34m)\u001b[0m\u001b[0;34m\u001b[0m\u001b[0;34m\u001b[0m\u001b[0m\n\u001b[0m",
            "\u001b[0;31mTypeError\u001b[0m: can't multiply sequence by non-int of type 'str'"
          ]
        }
      ]
    },
    {
      "cell_type": "code",
      "source": [
        "print(\"Cristiano \" - \" Ronaldo\")"
      ],
      "metadata": {
        "colab": {
          "base_uri": "https://localhost:8080/",
          "height": 166
        },
        "id": "1Oce3IbjFnsp",
        "outputId": "9fad764a-12d2-4f25-ec48-cdd644efb115"
      },
      "execution_count": null,
      "outputs": [
        {
          "output_type": "error",
          "ename": "TypeError",
          "evalue": "ignored",
          "traceback": [
            "\u001b[0;31m---------------------------------------------------------------------------\u001b[0m",
            "\u001b[0;31mTypeError\u001b[0m                                 Traceback (most recent call last)",
            "\u001b[0;32m<ipython-input-29-4af51b6d940a>\u001b[0m in \u001b[0;36m<cell line: 1>\u001b[0;34m()\u001b[0m\n\u001b[0;32m----> 1\u001b[0;31m \u001b[0mprint\u001b[0m\u001b[0;34m(\u001b[0m\u001b[0;34m\"Cristiano \"\u001b[0m \u001b[0;34m-\u001b[0m \u001b[0;34m\" Ronaldo\"\u001b[0m\u001b[0;34m)\u001b[0m\u001b[0;34m\u001b[0m\u001b[0;34m\u001b[0m\u001b[0m\n\u001b[0m",
            "\u001b[0;31mTypeError\u001b[0m: unsupported operand type(s) for -: 'str' and 'str'"
          ]
        }
      ]
    },
    {
      "cell_type": "code",
      "source": [
        "print(\"Cristiano \" / \" Ronaldo\")"
      ],
      "metadata": {
        "colab": {
          "base_uri": "https://localhost:8080/",
          "height": 166
        },
        "id": "Q6PzaJRkFrKw",
        "outputId": "0a531c02-e960-41d4-9e06-3a84442895ac"
      },
      "execution_count": null,
      "outputs": [
        {
          "output_type": "error",
          "ename": "TypeError",
          "evalue": "ignored",
          "traceback": [
            "\u001b[0;31m---------------------------------------------------------------------------\u001b[0m",
            "\u001b[0;31mTypeError\u001b[0m                                 Traceback (most recent call last)",
            "\u001b[0;32m<ipython-input-30-8a8a37668795>\u001b[0m in \u001b[0;36m<cell line: 1>\u001b[0;34m()\u001b[0m\n\u001b[0;32m----> 1\u001b[0;31m \u001b[0mprint\u001b[0m\u001b[0;34m(\u001b[0m\u001b[0;34m\"Cristiano \"\u001b[0m \u001b[0;34m/\u001b[0m \u001b[0;34m\" Ronaldo\"\u001b[0m\u001b[0;34m)\u001b[0m\u001b[0;34m\u001b[0m\u001b[0;34m\u001b[0m\u001b[0m\n\u001b[0m",
            "\u001b[0;31mTypeError\u001b[0m: unsupported operand type(s) for /: 'str' and 'str'"
          ]
        }
      ]
    },
    {
      "cell_type": "code",
      "source": [
        "print(5*\" Ronaldo\")"
      ],
      "metadata": {
        "colab": {
          "base_uri": "https://localhost:8080/"
        },
        "id": "uJcLS8awF1YG",
        "outputId": "b157140e-f64a-4ae2-aaad-4407d5f76cd9"
      },
      "execution_count": null,
      "outputs": [
        {
          "output_type": "stream",
          "name": "stdout",
          "text": [
            " Ronaldo Ronaldo Ronaldo Ronaldo Ronaldo\n"
          ]
        }
      ]
    },
    {
      "cell_type": "code",
      "source": [
        "print(\"Cristiano \" * 5)"
      ],
      "metadata": {
        "colab": {
          "base_uri": "https://localhost:8080/"
        },
        "id": "bl6AEQ0MF33n",
        "outputId": "5717c693-7ce8-4006-de55-c8fdc2ee1229"
      },
      "execution_count": null,
      "outputs": [
        {
          "output_type": "stream",
          "name": "stdout",
          "text": [
            "Cristiano Cristiano Cristiano Cristiano Cristiano \n"
          ]
        }
      ]
    },
    {
      "cell_type": "code",
      "source": [
        "\"abc\">\"abcd\""
      ],
      "metadata": {
        "colab": {
          "base_uri": "https://localhost:8080/"
        },
        "id": "3CzolX00F7SH",
        "outputId": "fc489348-7b13-4cf4-cd57-47600d9c3e11"
      },
      "execution_count": null,
      "outputs": [
        {
          "output_type": "execute_result",
          "data": {
            "text/plain": [
              "False"
            ]
          },
          "metadata": {},
          "execution_count": 33
        }
      ]
    },
    {
      "cell_type": "code",
      "source": [
        "\"abc\">\"zebra\""
      ],
      "metadata": {
        "colab": {
          "base_uri": "https://localhost:8080/"
        },
        "id": "FwMAzyPzGL0Q",
        "outputId": "cb5a51b0-85a7-445e-ed70-ae7b7061338b"
      },
      "execution_count": null,
      "outputs": [
        {
          "output_type": "execute_result",
          "data": {
            "text/plain": [
              "False"
            ]
          },
          "metadata": {},
          "execution_count": 34
        }
      ]
    },
    {
      "cell_type": "code",
      "source": [
        "\"zzz\">\"zebra\""
      ],
      "metadata": {
        "colab": {
          "base_uri": "https://localhost:8080/"
        },
        "id": "CH_T7nQgGRmS",
        "outputId": "56840a10-df8d-42da-c06b-d7089667718d"
      },
      "execution_count": null,
      "outputs": [
        {
          "output_type": "execute_result",
          "data": {
            "text/plain": [
              "True"
            ]
          },
          "metadata": {},
          "execution_count": 35
        }
      ]
    },
    {
      "cell_type": "code",
      "source": [
        "# f strings??????"
      ],
      "metadata": {
        "id": "RgG1SQvQG5hI"
      },
      "execution_count": null,
      "outputs": []
    },
    {
      "cell_type": "code",
      "source": [
        "age = 37\n",
        "output  = \"age of Ronaldo today is 37 years\"\n",
        "print(output)"
      ],
      "metadata": {
        "colab": {
          "base_uri": "https://localhost:8080/"
        },
        "id": "-hg4yr3DG7YA",
        "outputId": "c28a718f-c6bf-47af-e416-487d6a767c28"
      },
      "execution_count": null,
      "outputs": [
        {
          "output_type": "stream",
          "name": "stdout",
          "text": [
            "age of Ronaldo today is 37 years\n"
          ]
        }
      ]
    },
    {
      "cell_type": "code",
      "source": [
        "age = 37\n",
        "output  = \"age of Ronaldo today is \" +age+ \" years\"\n",
        "print(output)"
      ],
      "metadata": {
        "colab": {
          "base_uri": "https://localhost:8080/",
          "height": 201
        },
        "id": "uHkSTnLTHMpI",
        "outputId": "54db62c9-8d76-464a-996f-102f833fb8ba"
      },
      "execution_count": null,
      "outputs": [
        {
          "output_type": "error",
          "ename": "TypeError",
          "evalue": "ignored",
          "traceback": [
            "\u001b[0;31m---------------------------------------------------------------------------\u001b[0m",
            "\u001b[0;31mTypeError\u001b[0m                                 Traceback (most recent call last)",
            "\u001b[0;32m<ipython-input-38-b3f8d2a19502>\u001b[0m in \u001b[0;36m<cell line: 2>\u001b[0;34m()\u001b[0m\n\u001b[1;32m      1\u001b[0m \u001b[0mage\u001b[0m \u001b[0;34m=\u001b[0m \u001b[0;36m37\u001b[0m\u001b[0;34m\u001b[0m\u001b[0;34m\u001b[0m\u001b[0m\n\u001b[0;32m----> 2\u001b[0;31m \u001b[0moutput\u001b[0m  \u001b[0;34m=\u001b[0m \u001b[0;34m\"age of Ronaldo today is \"\u001b[0m \u001b[0;34m+\u001b[0m\u001b[0mage\u001b[0m\u001b[0;34m+\u001b[0m \u001b[0;34m\" years\"\u001b[0m\u001b[0;34m\u001b[0m\u001b[0;34m\u001b[0m\u001b[0m\n\u001b[0m\u001b[1;32m      3\u001b[0m \u001b[0mprint\u001b[0m\u001b[0;34m(\u001b[0m\u001b[0moutput\u001b[0m\u001b[0;34m)\u001b[0m\u001b[0;34m\u001b[0m\u001b[0;34m\u001b[0m\u001b[0m\n",
            "\u001b[0;31mTypeError\u001b[0m: can only concatenate str (not \"int\") to str"
          ]
        }
      ]
    },
    {
      "cell_type": "code",
      "source": [
        "age = 37\n",
        "output  = \"age of Ronaldo today is \" +str(age)+ \" years\"\n",
        "print(output)"
      ],
      "metadata": {
        "colab": {
          "base_uri": "https://localhost:8080/"
        },
        "id": "cYelGsibHcDl",
        "outputId": "84652766-2b95-408d-fde1-d9156b8544e0"
      },
      "execution_count": null,
      "outputs": [
        {
          "output_type": "stream",
          "name": "stdout",
          "text": [
            "age of Ronaldo today is 37 years\n"
          ]
        }
      ]
    },
    {
      "cell_type": "code",
      "source": [
        "# f-str\n",
        "#1 write the str that you want\n",
        "#2 replace the value with the variable name\n",
        "#3 put the varaiable name in {}\n",
        "#4 add f in front of your quotes"
      ],
      "metadata": {
        "id": "SXy2_E0pHd-I"
      },
      "execution_count": null,
      "outputs": []
    },
    {
      "cell_type": "code",
      "source": [
        "age = 37\n",
        "output  = f\"age of Ronaldo today is {age} years\"\n",
        "print(output)"
      ],
      "metadata": {
        "colab": {
          "base_uri": "https://localhost:8080/"
        },
        "id": "C41zVmb6IAlk",
        "outputId": "4f403a2c-e1d4-478c-9c55-1a826f7c09f3"
      },
      "execution_count": null,
      "outputs": [
        {
          "output_type": "stream",
          "name": "stdout",
          "text": [
            "age of Ronaldo today is 37 years\n"
          ]
        }
      ]
    },
    {
      "cell_type": "code",
      "source": [
        "age = 38\n",
        "output  = f\"age of Ronaldo today is {age} years\"\n",
        "print(output)"
      ],
      "metadata": {
        "colab": {
          "base_uri": "https://localhost:8080/"
        },
        "id": "MMOtK5mTIOEP",
        "outputId": "6d86426c-760f-4818-c62f-b45fdecfe4f2"
      },
      "execution_count": null,
      "outputs": [
        {
          "output_type": "stream",
          "name": "stdout",
          "text": [
            "age of Ronaldo today is 38 years\n"
          ]
        }
      ]
    },
    {
      "cell_type": "code",
      "source": [
        "age = 38\n",
        "height = 189\n",
        "worldCups = 0\n",
        "output  = f\"age of Ronaldo today is {age} years, he has won {worldCups} world cups and has a height of {height}cm\"\n",
        "print(output)\n",
        "output  = \"age of Ronaldo today is {age} years, he has won {worldCups} world cups and has a height of {height}cm\"\n",
        "print(output)"
      ],
      "metadata": {
        "colab": {
          "base_uri": "https://localhost:8080/"
        },
        "id": "1XLd07wrIPvH",
        "outputId": "b19ec83b-a0df-4213-a044-75e0f9a0675f"
      },
      "execution_count": null,
      "outputs": [
        {
          "output_type": "stream",
          "name": "stdout",
          "text": [
            "age of Ronaldo today is 38 years, he has won 0 world cups and has a height of 189cm\n",
            "age of Ronaldo today is {age} years, he has won {worldCups} world cups and has a height of {height}cm\n"
          ]
        }
      ]
    },
    {
      "cell_type": "code",
      "source": [
        "age = 38\n",
        "height = 189\n",
        "worldCups = 0\n",
        "output  = f\"age of Ronaldo today is {age} years, he has won {worldCups} world cups and has a height of {height}cm\"\n",
        "print(output)\n",
        "worldCups = 1\n",
        "print(output)\n",
        "print(type(output))"
      ],
      "metadata": {
        "colab": {
          "base_uri": "https://localhost:8080/"
        },
        "id": "oSi7xEvmIdjA",
        "outputId": "8c481346-4c18-4f8c-bf28-d96a5ba4a43c"
      },
      "execution_count": null,
      "outputs": [
        {
          "output_type": "stream",
          "name": "stdout",
          "text": [
            "age of Ronaldo today is 38 years, he has won 0 world cups and has a height of 189cm\n",
            "age of Ronaldo today is 38 years, he has won 0 world cups and has a height of 189cm\n",
            "<class 'str'>\n"
          ]
        }
      ]
    },
    {
      "cell_type": "code",
      "source": [
        "s = \"Ronaldo\"\n",
        "print(s.lower())"
      ],
      "metadata": {
        "colab": {
          "base_uri": "https://localhost:8080/"
        },
        "id": "MFikfsSCJYso",
        "outputId": "f0ea031f-8631-4c5c-94fd-b944e371e2bf"
      },
      "execution_count": null,
      "outputs": [
        {
          "output_type": "stream",
          "name": "stdout",
          "text": [
            "ronaldo\n"
          ]
        }
      ]
    },
    {
      "cell_type": "code",
      "source": [
        "s = \"Ronaldo\"\n",
        "print(s.upper())"
      ],
      "metadata": {
        "colab": {
          "base_uri": "https://localhost:8080/"
        },
        "id": "L4bVKlnqJyOf",
        "outputId": "d592225b-34ea-4213-f9cc-3e9b4ad9335e"
      },
      "execution_count": null,
      "outputs": [
        {
          "output_type": "stream",
          "name": "stdout",
          "text": [
            "RONALDO\n"
          ]
        }
      ]
    },
    {
      "cell_type": "code",
      "source": [
        "s = \"cristiano RONALDO\"\n",
        "print(s.capitalize())"
      ],
      "metadata": {
        "colab": {
          "base_uri": "https://localhost:8080/"
        },
        "id": "rSroE6jbJ20A",
        "outputId": "ba9542a0-e1d0-48e3-e2bc-cf6fd2ea6084"
      },
      "execution_count": null,
      "outputs": [
        {
          "output_type": "stream",
          "name": "stdout",
          "text": [
            "Cristiano ronaldo\n"
          ]
        }
      ]
    },
    {
      "cell_type": "code",
      "source": [
        "s = \"Cristiano ronaldo\"\n",
        "print(s.split('o'))"
      ],
      "metadata": {
        "colab": {
          "base_uri": "https://localhost:8080/"
        },
        "id": "o1zb6kr1J5ko",
        "outputId": "36176b97-485d-4ed8-f8e6-d03a5a9c0feb"
      },
      "execution_count": null,
      "outputs": [
        {
          "output_type": "stream",
          "name": "stdout",
          "text": [
            "['Cristian', ' r', 'nald', '']\n"
          ]
        }
      ]
    },
    {
      "cell_type": "code",
      "source": [
        "s = \"Cristiano ronaldo\"\n",
        "print(s.split())"
      ],
      "metadata": {
        "colab": {
          "base_uri": "https://localhost:8080/"
        },
        "id": "ZMVYm25FKTbv",
        "outputId": "546ba7d1-8d72-425a-e7e6-0527b452dedb"
      },
      "execution_count": null,
      "outputs": [
        {
          "output_type": "stream",
          "name": "stdout",
          "text": [
            "['Cristiano', 'ronaldo']\n"
          ]
        }
      ]
    },
    {
      "cell_type": "code",
      "source": [
        "#https://docs.python.org/3/library/stdtypes.html#str.split\n",
        "\n",
        "s = \"This     is      Cristiano ronaldo\"\n",
        "print(s.split(' ')) # single space\n",
        "print(s.split()) # whitespace/ widespace/ consecutive whitespace"
      ],
      "metadata": {
        "colab": {
          "base_uri": "https://localhost:8080/"
        },
        "id": "6nJLxIunKjs1",
        "outputId": "2384c65b-6c81-4644-e257-1c7b20ced2fe"
      },
      "execution_count": null,
      "outputs": [
        {
          "output_type": "stream",
          "name": "stdout",
          "text": [
            "['This', '', '', '', '', 'is', '', '', '', '', '', 'Cristiano', 'ronaldo']\n",
            "['This', 'is', 'Cristiano', 'ronaldo']\n"
          ]
        }
      ]
    },
    {
      "cell_type": "code",
      "source": [
        "s = \"This     is      Cristiano ronaldo\"\n",
        "print(list(s))"
      ],
      "metadata": {
        "colab": {
          "base_uri": "https://localhost:8080/"
        },
        "id": "z9DOirkwLVAt",
        "outputId": "2003b42c-2961-4e0f-f21d-8a5047a3697f"
      },
      "execution_count": null,
      "outputs": [
        {
          "output_type": "stream",
          "name": "stdout",
          "text": [
            "['T', 'h', 'i', 's', ' ', ' ', ' ', ' ', ' ', 'i', 's', ' ', ' ', ' ', ' ', ' ', ' ', 'C', 'r', 'i', 's', 't', 'i', 'a', 'n', 'o', ' ', 'r', 'o', 'n', 'a', 'l', 'd', 'o']\n"
          ]
        }
      ]
    },
    {
      "cell_type": "code",
      "source": [
        "user_str_input = input(\"hey user, please neter space seperated integers: \")\n",
        "print(user_str_input)\n",
        "user_str_list_input = user_str_input.split()\n",
        "print(user_str_list_input)\n",
        "for i in range(len(user_str_list_input)):\n",
        "    user_str_list_input[i] = int(user_str_list_input[i] )\n",
        "print(user_str_list_input)"
      ],
      "metadata": {
        "colab": {
          "base_uri": "https://localhost:8080/"
        },
        "id": "o01LPF9xLWbP",
        "outputId": "56a07846-12ee-42eb-caad-492cf45f4ba2"
      },
      "execution_count": null,
      "outputs": [
        {
          "output_type": "stream",
          "name": "stdout",
          "text": [
            "hey user, please neter space seperated integers: 1 2     \n",
            "1 2     \n",
            "['1', '2']\n",
            "[1, 2]\n"
          ]
        }
      ]
    },
    {
      "cell_type": "code",
      "source": [
        "s = \"Cristiano ronaldo\"\n",
        "s_broken = s.split('o')\n",
        "print(s_broken)\n",
        "'o'.join(s_broken)"
      ],
      "metadata": {
        "colab": {
          "base_uri": "https://localhost:8080/",
          "height": 52
        },
        "id": "CxiL-hD8MrJF",
        "outputId": "55b1afb1-827a-468d-98de-fc658ae64065"
      },
      "execution_count": null,
      "outputs": [
        {
          "output_type": "stream",
          "name": "stdout",
          "text": [
            "['Cristian', ' r', 'nald', '']\n"
          ]
        },
        {
          "output_type": "execute_result",
          "data": {
            "text/plain": [
              "'Cristiano ronaldo'"
            ],
            "application/vnd.google.colaboratory.intrinsic+json": {
              "type": "string"
            }
          },
          "metadata": {},
          "execution_count": 61
        }
      ]
    },
    {
      "cell_type": "markdown",
      "source": [
        "* Take a string input from user and print that string character by character, with each character in new line.\n",
        "```\n",
        "Input:\n",
        "\"INDIA\"\n",
        "```\n",
        "```\n",
        "Output:\n",
        "I\n",
        "N\n",
        "D\n",
        "I\n",
        "A\n",
        "```"
      ],
      "metadata": {
        "id": "Ocnu8r__PyMD"
      }
    },
    {
      "cell_type": "code",
      "source": [
        "inp = input()\n",
        "for i in inp:\n",
        "    print(i)"
      ],
      "metadata": {
        "colab": {
          "base_uri": "https://localhost:8080/"
        },
        "id": "DZOFZlDPMxFA",
        "outputId": "9e5e6287-030d-40f2-9444-8ca040120c5f"
      },
      "execution_count": null,
      "outputs": [
        {
          "output_type": "stream",
          "name": "stdout",
          "text": [
            "INDIA\n",
            "I\n",
            "N\n",
            "D\n",
            "I\n",
            "A\n"
          ]
        }
      ]
    },
    {
      "cell_type": "code",
      "source": [
        "print(\"first char\", inp[0])"
      ],
      "metadata": {
        "colab": {
          "base_uri": "https://localhost:8080/"
        },
        "id": "1avsFed3QfYP",
        "outputId": "647657e8-abe9-483d-cbac-a125604979c4"
      },
      "execution_count": null,
      "outputs": [
        {
          "output_type": "stream",
          "name": "stdout",
          "text": [
            "first char I\n"
          ]
        }
      ]
    },
    {
      "cell_type": "code",
      "source": [
        "print(\"last char\", inp[-1])"
      ],
      "metadata": {
        "colab": {
          "base_uri": "https://localhost:8080/"
        },
        "id": "yYpAPRRdQyTn",
        "outputId": "03cbf012-b9b5-4513-e6ed-d065f6c4b472"
      },
      "execution_count": null,
      "outputs": [
        {
          "output_type": "stream",
          "name": "stdout",
          "text": [
            "last char A\n"
          ]
        }
      ]
    },
    {
      "cell_type": "code",
      "source": [
        "inp[0] = 'A'"
      ],
      "metadata": {
        "colab": {
          "base_uri": "https://localhost:8080/",
          "height": 166
        },
        "id": "Cxk7FvxEQ1MH",
        "outputId": "61527205-5b19-4497-d1c9-8a276afad1eb"
      },
      "execution_count": null,
      "outputs": [
        {
          "output_type": "error",
          "ename": "TypeError",
          "evalue": "ignored",
          "traceback": [
            "\u001b[0;31m---------------------------------------------------------------------------\u001b[0m",
            "\u001b[0;31mTypeError\u001b[0m                                 Traceback (most recent call last)",
            "\u001b[0;32m<ipython-input-65-dd5f29ece293>\u001b[0m in \u001b[0;36m<cell line: 1>\u001b[0;34m()\u001b[0m\n\u001b[0;32m----> 1\u001b[0;31m \u001b[0minp\u001b[0m\u001b[0;34m[\u001b[0m\u001b[0;36m0\u001b[0m\u001b[0;34m]\u001b[0m \u001b[0;34m=\u001b[0m \u001b[0;34m'A'\u001b[0m\u001b[0;34m\u001b[0m\u001b[0;34m\u001b[0m\u001b[0m\n\u001b[0m",
            "\u001b[0;31mTypeError\u001b[0m: 'str' object does not support item assignment"
          ]
        }
      ]
    },
    {
      "cell_type": "code",
      "source": [
        "inp[0:3]"
      ],
      "metadata": {
        "colab": {
          "base_uri": "https://localhost:8080/",
          "height": 35
        },
        "id": "yIImjORvRYfw",
        "outputId": "7f0a7bf0-7fe5-4a7e-b317-1481a2da6e40"
      },
      "execution_count": null,
      "outputs": [
        {
          "output_type": "execute_result",
          "data": {
            "text/plain": [
              "'IND'"
            ],
            "application/vnd.google.colaboratory.intrinsic+json": {
              "type": "string"
            }
          },
          "metadata": {},
          "execution_count": 66
        }
      ]
    },
    {
      "cell_type": "code",
      "source": [
        "inp"
      ],
      "metadata": {
        "colab": {
          "base_uri": "https://localhost:8080/",
          "height": 35
        },
        "id": "u1vEkn5cRdiF",
        "outputId": "1e35a92e-6aab-44ea-ad36-5980a8ba0dd6"
      },
      "execution_count": null,
      "outputs": [
        {
          "output_type": "execute_result",
          "data": {
            "text/plain": [
              "'INDIA'"
            ],
            "application/vnd.google.colaboratory.intrinsic+json": {
              "type": "string"
            }
          },
          "metadata": {},
          "execution_count": 67
        }
      ]
    },
    {
      "cell_type": "markdown",
      "source": [
        "* Take a string input from user.\n",
        "* Print the number of upper case characters in that string.\n",
        "\n",
        "```\n",
        "Input:\n",
        "\"This is a RANDOM strinG 67890, ^$#@\"\n",
        "```\n",
        "```\n",
        "Output:\n",
        "8\n",
        "```"
      ],
      "metadata": {
        "id": "W6R4Y7S9RwK6"
      }
    },
    {
      "cell_type": "code",
      "source": [
        "print(\"HINT:: All upper case charaters are in this range:\", ord('A'), ord('Z'))"
      ],
      "metadata": {
        "colab": {
          "base_uri": "https://localhost:8080/"
        },
        "id": "OUkkbKovRwsY",
        "outputId": "b2deea00-80fc-4613-e19e-48ac95616dd9"
      },
      "execution_count": null,
      "outputs": [
        {
          "output_type": "stream",
          "name": "stdout",
          "text": [
            "HINT:: All upper case charaters are in this range: 65 90\n"
          ]
        }
      ]
    },
    {
      "cell_type": "code",
      "source": [
        "inp = input()\n",
        "count = 0\n",
        "for i in inp:\n",
        "    if ord(i)>=ord('A') and ord(i)<=ord('Z'):\n",
        "        count+=1\n",
        "count"
      ],
      "metadata": {
        "colab": {
          "base_uri": "https://localhost:8080/"
        },
        "id": "hPHi5JPYSVGn",
        "outputId": "d122cc75-e859-4a97-b8d0-d5aede479c8e"
      },
      "execution_count": null,
      "outputs": [
        {
          "name": "stdout",
          "output_type": "stream",
          "text": [
            "\"This is a RANDOM strinG 67890, ^$#@\"\n"
          ]
        },
        {
          "output_type": "execute_result",
          "data": {
            "text/plain": [
              "8"
            ]
          },
          "metadata": {},
          "execution_count": 71
        }
      ]
    },
    {
      "cell_type": "code",
      "source": [
        "print(\"HINT:: All upper case charaters are in this range:\", ord('A'), ord('Z'))\n",
        "print(\"HINT:: All lower case charaters are in this range:\", ord('a'), ord('z'))\n",
        "print(\"HINT:: All numbers are in this range:\", ord('0'), ord('9'))"
      ],
      "metadata": {
        "colab": {
          "base_uri": "https://localhost:8080/"
        },
        "id": "WAiQvXlLTPZm",
        "outputId": "4baaa84c-dba4-4c8c-e932-178a5e030f70"
      },
      "execution_count": null,
      "outputs": [
        {
          "output_type": "stream",
          "name": "stdout",
          "text": [
            "HINT:: All upper case charaters are in this range: 65 90\n",
            "HINT:: All upper case charaters are in this range: 97 122\n",
            "HINT:: All upper case charaters are in this range: 48 57\n"
          ]
        }
      ]
    },
    {
      "cell_type": "code",
      "source": [
        "for i in range(48, 58):\n",
        "    print(i, chr(i))"
      ],
      "metadata": {
        "colab": {
          "base_uri": "https://localhost:8080/"
        },
        "id": "cDcRny_JTbge",
        "outputId": "ba30fb0d-af48-4872-f4ef-0ed567d13a19"
      },
      "execution_count": null,
      "outputs": [
        {
          "output_type": "stream",
          "name": "stdout",
          "text": [
            "48 0\n",
            "49 1\n",
            "50 2\n",
            "51 3\n",
            "52 4\n",
            "53 5\n",
            "54 6\n",
            "55 7\n",
            "56 8\n",
            "57 9\n"
          ]
        }
      ]
    },
    {
      "cell_type": "markdown",
      "source": [
        "* Take a string input from user.\n",
        "* Reverse that string."
      ],
      "metadata": {
        "id": "QzUyHGNFT3eJ"
      }
    },
    {
      "cell_type": "code",
      "source": [
        "inp = input()\n",
        "print(inp[::-1])"
      ],
      "metadata": {
        "colab": {
          "base_uri": "https://localhost:8080/"
        },
        "id": "qrSGxL_vTjT_",
        "outputId": "94002038-4840-48a8-d712-7cb83c9a95a5"
      },
      "execution_count": null,
      "outputs": [
        {
          "output_type": "stream",
          "name": "stdout",
          "text": [
            "Ronaldo\n",
            "odlanoR\n"
          ]
        }
      ]
    },
    {
      "cell_type": "markdown",
      "source": [
        "* Take a string input from user.\n",
        "* Return ```\"PALINDROME\"``` if the string is a palindrome, otherwise return ```\"NOT A PALINDROME\"```."
      ],
      "metadata": {
        "id": "bTE59U2SUpiF"
      }
    },
    {
      "cell_type": "code",
      "source": [
        "# \"NAMAN\">>>it reads the same from right to left and left to right\n",
        "# Ronaldo >> it doesnot read the same from right to left and left to right Ronaldo is not the same as odlanoR\n",
        "\n",
        "inp = input().lower()\n",
        "if inp==inp[::-1]:\n",
        "    print(\"PALINDROME\")\n",
        "else:\n",
        "    print(\"NOT A PALINDROME\")"
      ],
      "metadata": {
        "colab": {
          "base_uri": "https://localhost:8080/"
        },
        "id": "9v0uZcS9UjjP",
        "outputId": "ad78ac26-09cb-4a28-8bac-171939da8996"
      },
      "execution_count": null,
      "outputs": [
        {
          "output_type": "stream",
          "name": "stdout",
          "text": [
            "Ronaldo\n",
            "NOT A PALINDROME\n"
          ]
        }
      ]
    },
    {
      "cell_type": "markdown",
      "source": [
        "![](https://media.tenor.com/a4yDwGZk4k4AAAAC/dj-khaled-another-one.gif)"
      ],
      "metadata": {
        "id": "CceCqtOxVtkO"
      }
    },
    {
      "cell_type": "code",
      "source": [
        "# ask the user for some space spereated intgers\n",
        "# after that print them as comma seperated\n",
        "\n",
        "# INPUT: \"1 2 3 4 5\"\n",
        "# OUTPUT: \"1,2,3,4,5\"\n",
        "\n",
        "inp = input() # \"1 2 3 4 5\"\n",
        "inp = inp.split() # [\"1\", \"2\", \"3\", \"4\", \"5\"]\n",
        "output = \",\".join(inp) #\"1,2,3,4,5\"\n",
        "print(output)"
      ],
      "metadata": {
        "colab": {
          "base_uri": "https://localhost:8080/"
        },
        "id": "KHBboWhIVoQ-",
        "outputId": "1a52fa67-5fb9-4c65-e4dc-beb838dd7dee"
      },
      "execution_count": null,
      "outputs": [
        {
          "output_type": "stream",
          "name": "stdout",
          "text": [
            "1 4 7 8 5 2 3 6 9\n",
            "1,4,7,8,5,2,3,6,9\n"
          ]
        }
      ]
    },
    {
      "cell_type": "code",
      "source": [
        "\"<>another one<>\".join(inp)"
      ],
      "metadata": {
        "colab": {
          "base_uri": "https://localhost:8080/",
          "height": 35
        },
        "id": "vCdPFhptXVz_",
        "outputId": "4e3723ca-395a-4563-d2c7-34e88c50b4df"
      },
      "execution_count": null,
      "outputs": [
        {
          "output_type": "execute_result",
          "data": {
            "text/plain": [
              "'1<>another one<>4<>another one<>7<>another one<>8<>another one<>5<>another one<>2<>another one<>3<>another one<>6<>another one<>9'"
            ],
            "application/vnd.google.colaboratory.intrinsic+json": {
              "type": "string"
            }
          },
          "metadata": {},
          "execution_count": 80
        }
      ]
    },
    {
      "cell_type": "markdown",
      "source": [
        "![](https://usagif.com/wp-content/uploads/gifs/the-end-3.gif)"
      ],
      "metadata": {
        "id": "uB9YCMwTXvOW"
      }
    },
    {
      "cell_type": "code",
      "source": [
        "def my_function():\n",
        "    \"\"\"this is dcumenting\"\"\"\n",
        "    print(\"whaaat?\")"
      ],
      "metadata": {
        "id": "-1YgytdLXqBO"
      },
      "execution_count": null,
      "outputs": []
    },
    {
      "cell_type": "code",
      "source": [
        "print(1)\n",
        "2\n",
        "print(3)"
      ],
      "metadata": {
        "colab": {
          "base_uri": "https://localhost:8080/"
        },
        "id": "ELLmaGg7X_EA",
        "outputId": "47e3019c-cf86-4f5a-ba81-14037bd60f9b"
      },
      "execution_count": null,
      "outputs": [
        {
          "output_type": "stream",
          "name": "stdout",
          "text": [
            "1\n",
            "3\n"
          ]
        }
      ]
    },
    {
      "cell_type": "code",
      "source": [
        "'ZZZ'>'Zebra'"
      ],
      "metadata": {
        "colab": {
          "base_uri": "https://localhost:8080/"
        },
        "id": "VLMifBNgYR9m",
        "outputId": "76a81ebf-1db4-4226-bbf5-deeb063e2cdc"
      },
      "execution_count": null,
      "outputs": [
        {
          "output_type": "execute_result",
          "data": {
            "text/plain": [
              "False"
            ]
          },
          "metadata": {},
          "execution_count": 83
        }
      ]
    },
    {
      "cell_type": "code",
      "source": [
        "print(ord('Z'), ord('Z'))\n",
        "print(ord('Z'), ord('e'))"
      ],
      "metadata": {
        "colab": {
          "base_uri": "https://localhost:8080/"
        },
        "id": "BgSKVFvtYnNQ",
        "outputId": "6c33fba3-c2e3-4358-d89a-13f564958e63"
      },
      "execution_count": null,
      "outputs": [
        {
          "output_type": "stream",
          "name": "stdout",
          "text": [
            "90 90\n",
            "90 101\n"
          ]
        }
      ]
    },
    {
      "cell_type": "code",
      "source": [
        "def my_function():\n",
        "    \"\"\"this is dcumenting\"\"\"\n",
        "    print(\"whaaat?\")\n",
        "help(my_function)"
      ],
      "metadata": {
        "colab": {
          "base_uri": "https://localhost:8080/"
        },
        "id": "Jv3MUJmcYsUX",
        "outputId": "af3366ee-ce80-44fc-8287-60119352149d"
      },
      "execution_count": null,
      "outputs": [
        {
          "output_type": "stream",
          "name": "stdout",
          "text": [
            "Help on function my_function in module __main__:\n",
            "\n",
            "my_function()\n",
            "    this is dcumenting\n",
            "\n"
          ]
        }
      ]
    },
    {
      "cell_type": "code",
      "source": [
        "def my_function():\n",
        "    print(\"something else happened\")\n",
        "    \"\"\"this is dcumenting\"\"\"\n",
        "    print(\"whaaat?\")\n",
        "help(my_function)"
      ],
      "metadata": {
        "colab": {
          "base_uri": "https://localhost:8080/"
        },
        "id": "lIvlauEeZD_s",
        "outputId": "efdbd1b8-b350-445b-b8bd-45ea9b60ceb1"
      },
      "execution_count": null,
      "outputs": [
        {
          "output_type": "stream",
          "name": "stdout",
          "text": [
            "Help on function my_function in module __main__:\n",
            "\n",
            "my_function()\n",
            "\n"
          ]
        }
      ]
    },
    {
      "cell_type": "markdown",
      "source": [
        "![](https://www.researchgate.net/profile/Benjamin-Burroughs/publication/282513413/figure/fig3/AS:286648472092674@1445353729169/A-humorous-meme-blending-the-doubt-your-doubts-line-with-the-popular-most.png)"
      ],
      "metadata": {
        "id": "nGJ6fZMUZM9X"
      }
    },
    {
      "cell_type": "code",
      "source": [],
      "metadata": {
        "id": "pQS1O5clZGbO"
      },
      "execution_count": null,
      "outputs": []
    }
  ]
}