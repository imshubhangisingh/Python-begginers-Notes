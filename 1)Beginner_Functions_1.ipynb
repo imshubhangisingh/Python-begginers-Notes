{
  "nbformat": 4,
  "nbformat_minor": 0,
  "metadata": {
    "colab": {
      "provenance": [],
      "include_colab_link": true
    },
    "kernelspec": {
      "name": "python3",
      "display_name": "Python 3"
    },
    "language_info": {
      "name": "python"
    }
  },
  "cells": [
    {
      "cell_type": "markdown",
      "metadata": {
        "id": "view-in-github",
        "colab_type": "text"
      },
      "source": [
        "<a href=\"https://colab.research.google.com/github/imshubhangisingh/Python-begginers-Notes/blob/main/1)Beginner_Functions_1.ipynb\" target=\"_parent\"><img src=\"https://colab.research.google.com/assets/colab-badge.svg\" alt=\"Open In Colab\"/></a>"
      ]
    },
    {
      "cell_type": "markdown",
      "source": [
        "<center>\n",
        "\n",
        "![d385ad6c129f74f7da9dcc2d2f283005_w200.gif](data:image/gif;base64,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)\n",
        "\n",
        "## 🐍🐍🐍FUNCTIONS AGENDA 🐍🐍🐍\n",
        "\n",
        "🙄why functions\n",
        "\n",
        "🙂 simple functions\n",
        "\n",
        "😮positional arguments\n",
        "\n",
        "😍docstrings and help\n",
        "\n",
        "😎return v/s print\n",
        "\n",
        "</center>"
      ],
      "metadata": {
        "id": "lrgHWYH1u19B"
      }
    },
    {
      "cell_type": "code",
      "execution_count": null,
      "metadata": {
        "colab": {
          "base_uri": "https://localhost:8080/"
        },
        "id": "u9X2cDDZtspy",
        "outputId": "a9b81d2a-b152-4228-d3ed-3ef761ae1796"
      },
      "outputs": [
        {
          "output_type": "stream",
          "name": "stdout",
          "text": [
            "knock knock knock Anurag\n",
            "knock knock knock BAHADUR\n",
            "knock knock knock Akhtar\n"
          ]
        }
      ],
      "source": [
        "print(\"knock knock knock Anurag\")\n",
        "print(\"knock knock knock BAHADUR\")\n",
        "print(\"knock knock knock Akhtar\")"
      ]
    },
    {
      "cell_type": "code",
      "source": [
        "print()\n",
        "input()\n",
        "int()\n",
        "range()"
      ],
      "metadata": {
        "id": "68BVpFCewlxZ"
      },
      "execution_count": null,
      "outputs": []
    },
    {
      "cell_type": "code",
      "source": [
        "print(\"Clean the house\")\n",
        "print(\"arrange the show area\")\n",
        "print(\"Go to market and buy something to eat and drink\")\n",
        "print(\"Don't mis-behave in front of guests\")\n",
        "print(\"Greet and touch the feet of elders when guests arrive\")"
      ],
      "metadata": {
        "colab": {
          "base_uri": "https://localhost:8080/"
        },
        "id": "1xGTZu-f3U4c",
        "outputId": "faed774c-6e4d-485d-c310-ae3d3f6c86b2"
      },
      "execution_count": null,
      "outputs": [
        {
          "output_type": "stream",
          "name": "stdout",
          "text": [
            "Clean the house\n",
            "arrange the show area\n",
            "Go to market and buy something to eat and drink\n",
            "Don't mis-behave in front of guests\n",
            "Greet and touch the feet of elders when guests arrive\n"
          ]
        }
      ]
    },
    {
      "cell_type": "code",
      "source": [
        "# def function_name ():\n",
        "#### indent and write your code"
      ],
      "metadata": {
        "id": "ebKQ3QTp40hb"
      },
      "execution_count": null,
      "outputs": []
    },
    {
      "cell_type": "code",
      "source": [
        "print(\"🏃‍♀️💨\")\n",
        "\n",
        "# creating/defining the function\n",
        "def prepare4guests():\n",
        "    print(\"Clean the house\")\n",
        "    print(\"arrange the show area\")\n",
        "    print(\"Go to market and buy something to eat and drink\")\n",
        "    print(\"Don't mis-behave in front of guests\")\n",
        "    print(\"Greet and touch the feet of elders when guests arrive\")\n",
        "\n",
        "print(\"👟\")"
      ],
      "metadata": {
        "colab": {
          "base_uri": "https://localhost:8080/"
        },
        "id": "L0XWtl-C3qjc",
        "outputId": "6d9c263b-ea89-4ad6-c790-47bf39eebbbc"
      },
      "execution_count": null,
      "outputs": [
        {
          "output_type": "stream",
          "name": "stdout",
          "text": [
            "🏃‍♀️💨\n",
            "👟\n"
          ]
        }
      ]
    },
    {
      "cell_type": "code",
      "source": [
        "# calling the function\n",
        "prepare4guests()"
      ],
      "metadata": {
        "colab": {
          "base_uri": "https://localhost:8080/"
        },
        "id": "Inz5eJgI5WsI",
        "outputId": "a1f957d1-9f25-4358-8b85-2d1449a79cae"
      },
      "execution_count": null,
      "outputs": [
        {
          "output_type": "stream",
          "name": "stdout",
          "text": [
            "Clean the house\n",
            "arrange the show area\n",
            "Go to market and buy something to eat and drink\n",
            "Don't mis-behave in front of guests\n",
            "Greet and touch the feet of elders when guests arrive\n"
          ]
        }
      ]
    },
    {
      "cell_type": "code",
      "source": [
        "prepare4guests()"
      ],
      "metadata": {
        "colab": {
          "base_uri": "https://localhost:8080/"
        },
        "id": "MGdapyy45Zjz",
        "outputId": "fd7d97bb-2860-4fde-9a75-6d515082e48b"
      },
      "execution_count": null,
      "outputs": [
        {
          "output_type": "stream",
          "name": "stdout",
          "text": [
            "Clean the house\n",
            "arrange the show area\n",
            "Go to market and buy something to eat and drink\n",
            "Don't mis-behave in front of guests\n",
            "Greet and touch the feet of elders when guests arrive\n"
          ]
        }
      ]
    },
    {
      "cell_type": "code",
      "source": [
        "prepare4guests()"
      ],
      "metadata": {
        "colab": {
          "base_uri": "https://localhost:8080/"
        },
        "id": "cUm4LX9c5jYG",
        "outputId": "e1c15b30-3b8d-4be5-c6b6-4f465ffc78a3"
      },
      "execution_count": null,
      "outputs": [
        {
          "output_type": "stream",
          "name": "stdout",
          "text": [
            "Clean the house\n",
            "arrange the show area\n",
            "Go to market and buy something to eat and drink\n",
            "Don't mis-behave in front of guests\n",
            "Greet and touch the feet of elders when guests arrive\n"
          ]
        }
      ]
    },
    {
      "cell_type": "code",
      "source": [
        "for i in range(1,5):\n",
        "    print(i**2)\n",
        "print(\"Python is amazing\")"
      ],
      "metadata": {
        "colab": {
          "base_uri": "https://localhost:8080/"
        },
        "id": "yHIAEibS5xVA",
        "outputId": "602a40c5-a042-4bba-dbf3-0c4942b42450"
      },
      "execution_count": null,
      "outputs": [
        {
          "output_type": "stream",
          "name": "stdout",
          "text": [
            "1\n",
            "4\n",
            "9\n",
            "16\n",
            "Python is amazing\n"
          ]
        }
      ]
    },
    {
      "cell_type": "code",
      "source": [
        "def randomStuff():\n",
        "    for i in range(1,5):\n",
        "        print(i**2)\n",
        "    print(\"Python is amazing\")"
      ],
      "metadata": {
        "id": "nNagKEWx5-KW"
      },
      "execution_count": null,
      "outputs": []
    },
    {
      "cell_type": "code",
      "source": [
        "randomStuff()"
      ],
      "metadata": {
        "colab": {
          "base_uri": "https://localhost:8080/"
        },
        "id": "3lr5LvG86E4r",
        "outputId": "e2c64788-ade5-451d-d0bc-57bcca0e729f"
      },
      "execution_count": null,
      "outputs": [
        {
          "output_type": "stream",
          "name": "stdout",
          "text": [
            "1\n",
            "4\n",
            "9\n",
            "16\n",
            "Python is amazing\n"
          ]
        }
      ]
    },
    {
      "cell_type": "code",
      "source": [
        "num = 1\n",
        "while num<=5:\n",
        "    # print(num)\n",
        "    if  num%2==0:\n",
        "        randomStuff()\n",
        "    num+=1"
      ],
      "metadata": {
        "colab": {
          "base_uri": "https://localhost:8080/"
        },
        "id": "2wdUtyMs6GBS",
        "outputId": "e34f39da-e30c-4339-973d-0d4e4e5b8eb7"
      },
      "execution_count": null,
      "outputs": [
        {
          "output_type": "stream",
          "name": "stdout",
          "text": [
            "1\n",
            "4\n",
            "9\n",
            "16\n",
            "Python is amazing\n",
            "1\n",
            "4\n",
            "9\n",
            "16\n",
            "Python is amazing\n"
          ]
        }
      ]
    },
    {
      "cell_type": "code",
      "source": [
        "def make_tea():\n",
        "    print(\"get a utensil\")\n",
        "    print(\"add water\")\n",
        "    print(\"add tea leaves\")\n",
        "    want_sugar = input(\"hey indian huma, do you want sugar??? (y/n)::: \")\n",
        "    if want_sugar==\"y\":\n",
        "        print(\"add sugar\")\n",
        "    else:\n",
        "        print(\"this is why people say indians are salty\")\n",
        "    print(\"boil\")"
      ],
      "metadata": {
        "id": "jhr_RarZ6v1j"
      },
      "execution_count": null,
      "outputs": []
    },
    {
      "cell_type": "code",
      "source": [
        "for tea_time in range(1,4):\n",
        "    make_tea()"
      ],
      "metadata": {
        "colab": {
          "base_uri": "https://localhost:8080/"
        },
        "id": "ry2WLx5670Ct",
        "outputId": "8063f38f-03ec-4d7b-8477-d9c7ba8c416f"
      },
      "execution_count": null,
      "outputs": [
        {
          "output_type": "stream",
          "name": "stdout",
          "text": [
            "get a utensil\n",
            "add water\n",
            "add tea leaves\n",
            "hey indian huma, do you want sugar??? (y/n)::: y\n",
            "add sugar\n",
            "boil\n",
            "get a utensil\n",
            "add water\n",
            "add tea leaves\n",
            "hey indian huma, do you want sugar??? (y/n)::: n\n",
            "this is why people say indians are salty\n",
            "boil\n",
            "get a utensil\n",
            "add water\n",
            "add tea leaves\n",
            "hey indian huma, do you want sugar??? (y/n)::: y\n",
            "add sugar\n",
            "boil\n"
          ]
        }
      ]
    },
    {
      "cell_type": "code",
      "source": [
        "print(\"knock knock knock Anurag\")\n",
        "print(\"knock knock knock Anurag\")\n",
        "print(\"knock knock knock Anurag\")"
      ],
      "metadata": {
        "colab": {
          "base_uri": "https://localhost:8080/"
        },
        "id": "D4zn16-o8cIX",
        "outputId": "86af3687-b41f-4849-d140-177567105943"
      },
      "execution_count": null,
      "outputs": [
        {
          "output_type": "stream",
          "name": "stdout",
          "text": [
            "knock knock knock Anurag\n",
            "knock knock knock Anurag\n",
            "knock knock knock Anurag\n"
          ]
        }
      ]
    },
    {
      "cell_type": "code",
      "source": [
        "print(\"knock knock knock Suraj\")\n",
        "print(\"knock knock knock Suraj\")\n",
        "print(\"knock knock knock Suraj\")"
      ],
      "metadata": {
        "colab": {
          "base_uri": "https://localhost:8080/"
        },
        "id": "ZamcOOeE875k",
        "outputId": "c1d6dee7-2104-4248-becc-41c0685239fb"
      },
      "execution_count": null,
      "outputs": [
        {
          "output_type": "stream",
          "name": "stdout",
          "text": [
            "knock knock knock Suraj\n",
            "knock knock knock Suraj\n",
            "knock knock knock Suraj\n"
          ]
        }
      ]
    },
    {
      "cell_type": "code",
      "source": [
        "def greeting_someone(name):\n",
        "    print(name)\n",
        "    print(\"knock knock knock\", name)\n",
        "    print(\"knock knock knock\", name)\n",
        "    print(\"knock knock knock\", name)"
      ],
      "metadata": {
        "id": "Vkyq3vO69GoE"
      },
      "execution_count": null,
      "outputs": []
    },
    {
      "cell_type": "code",
      "source": [
        "greeting_someone(\"Suraj\")"
      ],
      "metadata": {
        "colab": {
          "base_uri": "https://localhost:8080/"
        },
        "id": "GcB21Hdz9s1v",
        "outputId": "161ff1da-f4a9-45be-d193-ad9b659488a2"
      },
      "execution_count": null,
      "outputs": [
        {
          "output_type": "stream",
          "name": "stdout",
          "text": [
            "Suraj\n",
            "knock knock knock Suraj\n",
            "knock knock knock Suraj\n",
            "knock knock knock Suraj\n"
          ]
        }
      ]
    },
    {
      "cell_type": "code",
      "source": [
        "greeting_someone(\"Anurag\")"
      ],
      "metadata": {
        "colab": {
          "base_uri": "https://localhost:8080/"
        },
        "id": "fseSrSzm-Ruc",
        "outputId": "164a5f86-f154-4682-c421-92a536f30032"
      },
      "execution_count": null,
      "outputs": [
        {
          "output_type": "stream",
          "name": "stdout",
          "text": [
            "Anurag\n",
            "knock knock knock Anurag\n",
            "knock knock knock Anurag\n",
            "knock knock knock Anurag\n"
          ]
        }
      ]
    },
    {
      "cell_type": "code",
      "source": [
        "def propose(name):\n",
        "    '''\n",
        "    This is inside docstring\n",
        "    docstring is used to document functions\n",
        "\n",
        "    this is proposal function, use it carefully\n",
        "    Input: Enter the name of the person/programming lang you want to propose\n",
        "    Output: this will propose someone\n",
        "\n",
        "    '''\n",
        "    print(\"I like you my....\", name)"
      ],
      "metadata": {
        "id": "60CojEHe-bqI"
      },
      "execution_count": null,
      "outputs": []
    },
    {
      "cell_type": "code",
      "source": [
        "nameInput = input(\"Whom do you want to propose: \")\n",
        "propose(nameInput)"
      ],
      "metadata": {
        "colab": {
          "base_uri": "https://localhost:8080/"
        },
        "id": "3TFCUFS0-j7s",
        "outputId": "253eb23c-38c8-4fc5-edbe-3f6036963783"
      },
      "execution_count": null,
      "outputs": [
        {
          "output_type": "stream",
          "name": "stdout",
          "text": [
            "Whom do you want to propose: Python\n",
            "I like you my.... Python\n"
          ]
        }
      ]
    },
    {
      "cell_type": "code",
      "source": [
        "propose(nameInput)\n",
        "propose(nameInput)"
      ],
      "metadata": {
        "colab": {
          "base_uri": "https://localhost:8080/"
        },
        "id": "sObSXLgNAQCQ",
        "outputId": "dde3efdc-f9be-4112-cc2b-76a3df42983a"
      },
      "execution_count": null,
      "outputs": [
        {
          "output_type": "stream",
          "name": "stdout",
          "text": [
            "I like you my.... Python\n",
            "I like you my.... Python\n"
          ]
        }
      ]
    },
    {
      "cell_type": "code",
      "source": [
        "propose(\"someone\")"
      ],
      "metadata": {
        "colab": {
          "base_uri": "https://localhost:8080/"
        },
        "id": "11XSSzz6AYzT",
        "outputId": "512e9986-8114-4217-ea18-d1feb1d7032e"
      },
      "execution_count": null,
      "outputs": [
        {
          "output_type": "stream",
          "name": "stdout",
          "text": [
            "I like you my.... someone\n"
          ]
        }
      ]
    },
    {
      "cell_type": "code",
      "source": [
        "help(propose)"
      ],
      "metadata": {
        "colab": {
          "base_uri": "https://localhost:8080/"
        },
        "id": "SmXPOrIe-q4M",
        "outputId": "1fa43fa2-2e43-4c45-d0c0-b403f2b81049"
      },
      "execution_count": null,
      "outputs": [
        {
          "output_type": "stream",
          "name": "stdout",
          "text": [
            "Help on function propose in module __main__:\n",
            "\n",
            "propose(name)\n",
            "    This is inside docstring\n",
            "    docstring is used to document functions\n",
            "    \n",
            "    this is proposal function, use it carefully\n",
            "    Input: Enter the name of the person/programming lang you want to propose\n",
            "    Output: this will propose someone\n",
            "\n"
          ]
        }
      ]
    },
    {
      "cell_type": "code",
      "source": [
        "print(\"to get documentation of a function in python\")\n",
        "print(\"either use help(name_of_function)\")\n",
        "print(\"OR\")\n",
        "print(\"write the name of the function, add () and then press shift+tab\")"
      ],
      "metadata": {
        "colab": {
          "base_uri": "https://localhost:8080/"
        },
        "id": "xLAkVNaB_ta9",
        "outputId": "29668e60-2a30-4a8e-cd80-2f28347b2343"
      },
      "execution_count": null,
      "outputs": [
        {
          "output_type": "stream",
          "name": "stdout",
          "text": [
            "to get documentation of a function in python\n",
            "either use help(name_of_function)\n",
            "OR\n",
            "write the name of the function, add () and then press shift+tab\n"
          ]
        }
      ]
    },
    {
      "cell_type": "code",
      "source": [
        "# meet the family\n",
        "# positional arguments\n",
        "def greet_the_family(mother, father, brother):\n",
        "    \"\"\"\n",
        "    this will greet the family\n",
        "    good luck my friend\n",
        "\n",
        "    Inputs:\n",
        "        mother [str]\n",
        "        father [str]\n",
        "        brother [str]: mostly a dude\n",
        "\n",
        "    Output:\n",
        "        Don't worry I will take care of the greetings\n",
        "    \"\"\"\n",
        "    print(\"Hello\", mother)\n",
        "    print(\"Hi\", father)\n",
        "    print(\"🙋‍♂️\", brother)"
      ],
      "metadata": {
        "id": "ns6QE8QlAIat"
      },
      "execution_count": null,
      "outputs": []
    },
    {
      "cell_type": "code",
      "source": [
        "help(greet_the_family)"
      ],
      "metadata": {
        "colab": {
          "base_uri": "https://localhost:8080/"
        },
        "id": "yHfmYeXjBk8Y",
        "outputId": "c700d5b9-8e1e-4ea9-a258-0177f37c2331"
      },
      "execution_count": null,
      "outputs": [
        {
          "output_type": "stream",
          "name": "stdout",
          "text": [
            "Help on function greet_the_family in module __main__:\n",
            "\n",
            "greet_the_family(mother, father, brother)\n",
            "    this will greet the family\n",
            "    good luck my friend\n",
            "    \n",
            "    Inputs:\n",
            "        mother [str]\n",
            "        father [str]\n",
            "        brother [str]: mostly a dude\n",
            "    \n",
            "    Output:\n",
            "        Don't worry I will take care of the greetings\n",
            "\n"
          ]
        }
      ]
    },
    {
      "cell_type": "code",
      "source": [
        "greet_the_family(\"reema\",\"deepak\",\"dude\")"
      ],
      "metadata": {
        "colab": {
          "base_uri": "https://localhost:8080/"
        },
        "id": "4hAPmyEEA5zV",
        "outputId": "6040a219-79ed-46d3-d949-fa46e04d2090"
      },
      "execution_count": null,
      "outputs": [
        {
          "output_type": "stream",
          "name": "stdout",
          "text": [
            "Hello reema\n",
            "Hi deepak\n",
            "🙋‍♂️ dude\n"
          ]
        }
      ]
    },
    {
      "cell_type": "code",
      "source": [
        "greet_the_family(\"reema\",\"dude\",\"deepak\")"
      ],
      "metadata": {
        "colab": {
          "base_uri": "https://localhost:8080/"
        },
        "id": "A-XuFdokA_jU",
        "outputId": "928c1e85-6ee0-497b-936d-e6afbea6c313"
      },
      "execution_count": null,
      "outputs": [
        {
          "output_type": "stream",
          "name": "stdout",
          "text": [
            "Hello reema\n",
            "Hi dude\n",
            "🙋‍♂️ deepak\n"
          ]
        }
      ]
    },
    {
      "cell_type": "code",
      "source": [
        "def greeting_someone(name):\n",
        "    print(name)\n",
        "    print(\"knock knock knock\", name)\n",
        "    print(\"knock knock knock\", name)\n",
        "    print(\"knock knock knock\", name)\n",
        "greeting_someone(\"Anurag\")"
      ],
      "metadata": {
        "colab": {
          "base_uri": "https://localhost:8080/"
        },
        "id": "U_EpIhQJB4wr",
        "outputId": "42d5a60b-8eca-4375-fb86-da0be47fb75c"
      },
      "execution_count": null,
      "outputs": [
        {
          "output_type": "stream",
          "name": "stdout",
          "text": [
            "Anurag\n",
            "knock knock knock Anurag\n",
            "knock knock knock Anurag\n",
            "knock knock knock Anurag\n"
          ]
        }
      ]
    },
    {
      "cell_type": "code",
      "source": [
        "def greeting_someone(name):\n",
        "    print(name)\n",
        "    print(\"knock knock knock, I am coming in\", name)\n",
        "    print(\"knock knock knock, I am coming in\", name)\n",
        "    print(\"knock knock knock, I am coming in\", name)\n",
        "greeting_someone(\"Anurag\")"
      ],
      "metadata": {
        "colab": {
          "base_uri": "https://localhost:8080/"
        },
        "id": "NVZBX_BrB-C3",
        "outputId": "a204aa9a-725e-443f-9c28-ce821a3b50d1"
      },
      "execution_count": null,
      "outputs": [
        {
          "output_type": "stream",
          "name": "stdout",
          "text": [
            "Anurag\n",
            "knock knock knock, I am coming in Anurag\n",
            "knock knock knock, I am coming in Anurag\n",
            "knock knock knock, I am coming in Anurag\n"
          ]
        }
      ]
    },
    {
      "cell_type": "code",
      "source": [
        "a = 10\n",
        "print(a)\n",
        "a = 100\n",
        "print(a)"
      ],
      "metadata": {
        "colab": {
          "base_uri": "https://localhost:8080/"
        },
        "id": "EhkX_yq6CL3E",
        "outputId": "0a8a88b8-5277-4dbf-94c3-d46c870cdd84"
      },
      "execution_count": null,
      "outputs": [
        {
          "output_type": "stream",
          "name": "stdout",
          "text": [
            "10\n",
            "100\n"
          ]
        }
      ]
    },
    {
      "cell_type": "code",
      "source": [
        "# meet the family\n",
        "# positional arguments\n",
        "def greet_the_family(mother, father, brother):\n",
        "    \"\"\"\n",
        "    this will greet the family\n",
        "    good luck my friend\n",
        "\n",
        "    Inputs:\n",
        "        mother [str]\n",
        "        father [str]\n",
        "        brother [str]: mostly a dude\n",
        "\n",
        "    Output:\n",
        "        Don't worry I will take care of the greetings\n",
        "    \"\"\"\n",
        "    print(\"Hello\", mother)\n",
        "    print(\"Hi\", father)\n",
        "    print(\"🙋‍♂️\", brother)"
      ],
      "metadata": {
        "id": "YcouLGU6COxu"
      },
      "execution_count": null,
      "outputs": []
    },
    {
      "cell_type": "code",
      "source": [
        "greet_the_family(\"reema\",\"deepak\")"
      ],
      "metadata": {
        "colab": {
          "base_uri": "https://localhost:8080/",
          "height": 171
        },
        "id": "Tnb28jbxCePc",
        "outputId": "e62f4ca4-03f3-41d0-8482-932d32eb4e03"
      },
      "execution_count": null,
      "outputs": [
        {
          "output_type": "error",
          "ename": "TypeError",
          "evalue": "ignored",
          "traceback": [
            "\u001b[0;31m---------------------------------------------------------------------------\u001b[0m",
            "\u001b[0;31mTypeError\u001b[0m                                 Traceback (most recent call last)",
            "\u001b[0;32m<ipython-input-42-6c50938d9448>\u001b[0m in \u001b[0;36m<cell line: 1>\u001b[0;34m()\u001b[0m\n\u001b[0;32m----> 1\u001b[0;31m \u001b[0mgreet_the_family\u001b[0m\u001b[0;34m(\u001b[0m\u001b[0;34m\"reema\"\u001b[0m\u001b[0;34m,\u001b[0m\u001b[0;34m\"deepak\"\u001b[0m\u001b[0;34m)\u001b[0m\u001b[0;34m\u001b[0m\u001b[0;34m\u001b[0m\u001b[0m\n\u001b[0m",
            "\u001b[0;31mTypeError\u001b[0m: greet_the_family() missing 1 required positional argument: 'brother'"
          ]
        }
      ]
    },
    {
      "cell_type": "code",
      "source": [
        "greet_the_family(\"reema\",\"deepak\",\"dude\",\"dude 2\")"
      ],
      "metadata": {
        "colab": {
          "base_uri": "https://localhost:8080/",
          "height": 171
        },
        "id": "cFp9-JtZCjLO",
        "outputId": "9afafbbc-0522-4c15-92b2-f9dffba282b3"
      },
      "execution_count": null,
      "outputs": [
        {
          "output_type": "error",
          "ename": "TypeError",
          "evalue": "ignored",
          "traceback": [
            "\u001b[0;31m---------------------------------------------------------------------------\u001b[0m",
            "\u001b[0;31mTypeError\u001b[0m                                 Traceback (most recent call last)",
            "\u001b[0;32m<ipython-input-43-41d460cfaa6d>\u001b[0m in \u001b[0;36m<cell line: 1>\u001b[0;34m()\u001b[0m\n\u001b[0;32m----> 1\u001b[0;31m \u001b[0mgreet_the_family\u001b[0m\u001b[0;34m(\u001b[0m\u001b[0;34m\"reema\"\u001b[0m\u001b[0;34m,\u001b[0m\u001b[0;34m\"deepak\"\u001b[0m\u001b[0;34m,\u001b[0m\u001b[0;34m\"dude\"\u001b[0m\u001b[0;34m,\u001b[0m\u001b[0;34m\"dude 2\"\u001b[0m\u001b[0;34m)\u001b[0m\u001b[0;34m\u001b[0m\u001b[0;34m\u001b[0m\u001b[0m\n\u001b[0m",
            "\u001b[0;31mTypeError\u001b[0m: greet_the_family() takes 3 positional arguments but 4 were given"
          ]
        }
      ]
    },
    {
      "cell_type": "code",
      "source": [
        "def add3nums(a,b,c):\n",
        "    print(a+b+c)"
      ],
      "metadata": {
        "id": "bQUK9WVwFhqX"
      },
      "execution_count": null,
      "outputs": []
    },
    {
      "cell_type": "code",
      "source": [
        "add3nums(1,2,3)"
      ],
      "metadata": {
        "colab": {
          "base_uri": "https://localhost:8080/"
        },
        "id": "scESnqUQFmk2",
        "outputId": "1410c46f-4294-4713-cf60-34e460a3ed6e"
      },
      "execution_count": null,
      "outputs": [
        {
          "output_type": "stream",
          "name": "stdout",
          "text": [
            "6\n"
          ]
        }
      ]
    },
    {
      "cell_type": "code",
      "source": [
        "print(add3nums(1,2,3))"
      ],
      "metadata": {
        "colab": {
          "base_uri": "https://localhost:8080/"
        },
        "id": "UlPwyeWeH9GQ",
        "outputId": "d85c7a8c-dd9e-418c-f46e-7e410d1207d2"
      },
      "execution_count": null,
      "outputs": [
        {
          "output_type": "stream",
          "name": "stdout",
          "text": [
            "6\n",
            "None\n"
          ]
        }
      ]
    },
    {
      "cell_type": "code",
      "source": [
        "def add3numsNEW(a,b,c):\n",
        "    print(a+b+c)\n",
        "    return a+b+c\n"
      ],
      "metadata": {
        "id": "99feY07FFpYW"
      },
      "execution_count": null,
      "outputs": []
    },
    {
      "cell_type": "code",
      "source": [
        "print(\"Calling\")\n",
        "add3numsNEW(1,2,3)\n",
        "print(\"called\")"
      ],
      "metadata": {
        "colab": {
          "base_uri": "https://localhost:8080/"
        },
        "id": "-MoQeB_nF85X",
        "outputId": "69bca636-6c5a-4df2-8022-869f25d98b3e"
      },
      "execution_count": null,
      "outputs": [
        {
          "output_type": "stream",
          "name": "stdout",
          "text": [
            "Calling\n",
            "6\n",
            "called\n"
          ]
        }
      ]
    },
    {
      "cell_type": "code",
      "source": [
        "print(\"Calling\")\n",
        "total = add3numsNEW(1,2,3)\n",
        "print(total*2)\n",
        "print(\"called\")"
      ],
      "metadata": {
        "colab": {
          "base_uri": "https://localhost:8080/"
        },
        "id": "ySUBZ5LQGBAt",
        "outputId": "2a83f735-8d84-4359-ca05-d9957a76c389"
      },
      "execution_count": null,
      "outputs": [
        {
          "output_type": "stream",
          "name": "stdout",
          "text": [
            "Calling\n",
            "6\n",
            "12\n",
            "called\n"
          ]
        }
      ]
    },
    {
      "cell_type": "code",
      "source": [
        "def add3nums(a,b,c):\n",
        "    print(a+b+c)"
      ],
      "metadata": {
        "id": "p5CQa9ImGNEF"
      },
      "execution_count": null,
      "outputs": []
    },
    {
      "cell_type": "code",
      "source": [
        "total = add3nums(1,2,3)\n",
        "print(total)"
      ],
      "metadata": {
        "colab": {
          "base_uri": "https://localhost:8080/"
        },
        "id": "IgJHWLDDGS9W",
        "outputId": "4996d88d-4380-43a5-a21a-c8012a825059"
      },
      "execution_count": null,
      "outputs": [
        {
          "output_type": "stream",
          "name": "stdout",
          "text": [
            "6\n",
            "None\n"
          ]
        }
      ]
    },
    {
      "cell_type": "code",
      "source": [
        "print(total*2)"
      ],
      "metadata": {
        "colab": {
          "base_uri": "https://localhost:8080/",
          "height": 171
        },
        "id": "9Tel-IAnGX88",
        "outputId": "6668cd0b-6203-40ef-d53f-4038e223126e"
      },
      "execution_count": null,
      "outputs": [
        {
          "output_type": "error",
          "ename": "TypeError",
          "evalue": "ignored",
          "traceback": [
            "\u001b[0;31m---------------------------------------------------------------------------\u001b[0m",
            "\u001b[0;31mTypeError\u001b[0m                                 Traceback (most recent call last)",
            "\u001b[0;32m<ipython-input-52-986d5dd328e6>\u001b[0m in \u001b[0;36m<cell line: 1>\u001b[0;34m()\u001b[0m\n\u001b[0;32m----> 1\u001b[0;31m \u001b[0mprint\u001b[0m\u001b[0;34m(\u001b[0m\u001b[0mtotal\u001b[0m\u001b[0;34m*\u001b[0m\u001b[0;36m2\u001b[0m\u001b[0;34m)\u001b[0m\u001b[0;34m\u001b[0m\u001b[0;34m\u001b[0m\u001b[0m\n\u001b[0m",
            "\u001b[0;31mTypeError\u001b[0m: unsupported operand type(s) for *: 'NoneType' and 'int'"
          ]
        }
      ]
    },
    {
      "cell_type": "code",
      "source": [
        "# print: function: shows the output on the screen\n",
        "# return : keyword : return some data, after the function is called"
      ],
      "metadata": {
        "id": "-Ihnm2_qGhim"
      },
      "execution_count": null,
      "outputs": []
    },
    {
      "cell_type": "code",
      "source": [
        "userEnterd = input()\n",
        "print(userEnterd)"
      ],
      "metadata": {
        "colab": {
          "base_uri": "https://localhost:8080/"
        },
        "id": "giYu8Kg5Gwad",
        "outputId": "5fea6c61-e031-4963-81e4-db05245a22be"
      },
      "execution_count": null,
      "outputs": [
        {
          "output_type": "stream",
          "name": "stdout",
          "text": [
            "123\n",
            "123\n"
          ]
        }
      ]
    },
    {
      "cell_type": "code",
      "source": [
        "userEnterdInt = int(userEnterd)\n",
        "print(userEnterdInt)\n",
        "print(int(userEnterd))"
      ],
      "metadata": {
        "colab": {
          "base_uri": "https://localhost:8080/"
        },
        "id": "v2e_auTHHAJr",
        "outputId": "7c656873-b7c7-4cbf-f911-b8b642e53cde"
      },
      "execution_count": null,
      "outputs": [
        {
          "output_type": "stream",
          "name": "stdout",
          "text": [
            "123\n",
            "123\n"
          ]
        }
      ]
    },
    {
      "cell_type": "code",
      "source": [
        "outputOfPrint = print(\"something\")\n",
        "print(outputOfPrint)"
      ],
      "metadata": {
        "colab": {
          "base_uri": "https://localhost:8080/"
        },
        "id": "pumZ6ahYHIoT",
        "outputId": "ac7d94ec-6190-4ed3-cc0d-699f79eb3e42"
      },
      "execution_count": null,
      "outputs": [
        {
          "output_type": "stream",
          "name": "stdout",
          "text": [
            "something\n",
            "None\n"
          ]
        }
      ]
    },
    {
      "cell_type": "code",
      "source": [
        "for i in range(1,10):\n",
        "    if i%2==0:\n",
        "        print(i, \"is even\")\n",
        "    else:\n",
        "        print(i, \"is odd\")"
      ],
      "metadata": {
        "colab": {
          "base_uri": "https://localhost:8080/"
        },
        "id": "lHGGM7CmI0-q",
        "outputId": "dd9f06fc-1b88-4cc1-b485-dfd19d3e5455"
      },
      "execution_count": null,
      "outputs": [
        {
          "output_type": "stream",
          "name": "stdout",
          "text": [
            "1 is odd\n",
            "2 is even\n",
            "3 is odd\n",
            "4 is even\n",
            "5 is odd\n",
            "6 is even\n",
            "7 is odd\n",
            "8 is even\n",
            "9 is odd\n"
          ]
        }
      ]
    },
    {
      "cell_type": "code",
      "source": [
        "def whatIsEven(num):\n",
        "    if num%2==0:\n",
        "        return \"even\"\n",
        "    else:\n",
        "        return \"odd\""
      ],
      "metadata": {
        "id": "PnQ8HvMeJAe1"
      },
      "execution_count": null,
      "outputs": []
    },
    {
      "cell_type": "code",
      "source": [
        "for i in range(1,10):\n",
        "    if whatIsEven(i)==\"even\":\n",
        "        print(i, \"is even\")\n",
        "    else:\n",
        "        print(i, \"is odd\")"
      ],
      "metadata": {
        "colab": {
          "base_uri": "https://localhost:8080/"
        },
        "id": "AXQPi26DJOHc",
        "outputId": "75f7d32c-02c8-4aea-a5be-aba8b0cb6fd2"
      },
      "execution_count": null,
      "outputs": [
        {
          "output_type": "stream",
          "name": "stdout",
          "text": [
            "1 is odd\n",
            "2 is even\n",
            "3 is odd\n",
            "4 is even\n",
            "5 is odd\n",
            "6 is even\n",
            "7 is odd\n",
            "8 is even\n",
            "9 is odd\n"
          ]
        }
      ]
    },
    {
      "cell_type": "code",
      "source": [
        "def whatIsEven(num):\n",
        "    if num%2==0:\n",
        "        print(\"even\")\n",
        "    else:\n",
        "        print(\"odd\")"
      ],
      "metadata": {
        "id": "1pnhFBZIJV91"
      },
      "execution_count": null,
      "outputs": []
    },
    {
      "cell_type": "code",
      "source": [
        "for i in range(1,10):\n",
        "    if whatIsEven(i)==\"even\":\n",
        "        print(i, \"is even\")\n",
        "    else:\n",
        "        print(i, \"is odd\")"
      ],
      "metadata": {
        "colab": {
          "base_uri": "https://localhost:8080/"
        },
        "id": "Drbt3CrVJdAg",
        "outputId": "634e7a83-c367-4626-db42-86d91414ee97"
      },
      "execution_count": null,
      "outputs": [
        {
          "output_type": "stream",
          "name": "stdout",
          "text": [
            "odd\n",
            "1 is odd\n",
            "even\n",
            "2 is odd\n",
            "odd\n",
            "3 is odd\n",
            "even\n",
            "4 is odd\n",
            "odd\n",
            "5 is odd\n",
            "even\n",
            "6 is odd\n",
            "odd\n",
            "7 is odd\n",
            "even\n",
            "8 is odd\n",
            "odd\n",
            "9 is odd\n"
          ]
        }
      ]
    },
    {
      "cell_type": "code",
      "source": [
        "# 0\n",
        "output = someFunction(5,8)\n",
        "def someFunction(a,b):\n",
        "    return a\n",
        "output = someFunction(5,8)"
      ],
      "metadata": {
        "colab": {
          "base_uri": "https://localhost:8080/",
          "height": 243
        },
        "id": "H_WnZ8xPL7uM",
        "outputId": "fc319ccd-26f6-4c87-945b-30c3715c802f"
      },
      "execution_count": null,
      "outputs": [
        {
          "output_type": "error",
          "ename": "NameError",
          "evalue": "ignored",
          "traceback": [
            "\u001b[0;31m---------------------------------------------------------------------------\u001b[0m",
            "\u001b[0;31mNameError\u001b[0m                                 Traceback (most recent call last)",
            "\u001b[0;32m<ipython-input-70-f62688a75ce0>\u001b[0m in \u001b[0;36m<cell line: 2>\u001b[0;34m()\u001b[0m\n\u001b[1;32m      1\u001b[0m \u001b[0;31m# 0\u001b[0m\u001b[0;34m\u001b[0m\u001b[0;34m\u001b[0m\u001b[0m\n\u001b[0;32m----> 2\u001b[0;31m \u001b[0moutput\u001b[0m \u001b[0;34m=\u001b[0m \u001b[0msomeFunction\u001b[0m\u001b[0;34m(\u001b[0m\u001b[0;36m5\u001b[0m\u001b[0;34m,\u001b[0m\u001b[0;36m8\u001b[0m\u001b[0;34m)\u001b[0m\u001b[0;34m\u001b[0m\u001b[0;34m\u001b[0m\u001b[0m\n\u001b[0m\u001b[1;32m      3\u001b[0m \u001b[0;32mdef\u001b[0m \u001b[0msomeFunction\u001b[0m\u001b[0;34m(\u001b[0m\u001b[0ma\u001b[0m\u001b[0;34m,\u001b[0m\u001b[0mb\u001b[0m\u001b[0;34m)\u001b[0m\u001b[0;34m:\u001b[0m\u001b[0;34m\u001b[0m\u001b[0;34m\u001b[0m\u001b[0m\n\u001b[1;32m      4\u001b[0m     \u001b[0;32mreturn\u001b[0m \u001b[0ma\u001b[0m\u001b[0;34m\u001b[0m\u001b[0;34m\u001b[0m\u001b[0m\n\u001b[1;32m      5\u001b[0m \u001b[0moutput\u001b[0m \u001b[0;34m=\u001b[0m \u001b[0msomeFunction\u001b[0m\u001b[0;34m(\u001b[0m\u001b[0;36m5\u001b[0m\u001b[0;34m,\u001b[0m\u001b[0;36m8\u001b[0m\u001b[0;34m)\u001b[0m\u001b[0;34m\u001b[0m\u001b[0;34m\u001b[0m\u001b[0m\n",
            "\u001b[0;31mNameError\u001b[0m: name 'someFunction' is not defined"
          ]
        }
      ]
    },
    {
      "cell_type": "code",
      "source": [
        "# 1\n",
        "def test(a,b):\n",
        "    return a\n",
        "output = test(5,8)"
      ],
      "metadata": {
        "id": "bJZolimhJqAu"
      },
      "execution_count": null,
      "outputs": []
    },
    {
      "cell_type": "code",
      "source": [
        "print(output)"
      ],
      "metadata": {
        "colab": {
          "base_uri": "https://localhost:8080/"
        },
        "id": "XlHBP3BKJ9da",
        "outputId": "fe78b70d-59be-4856-daa0-9c5acbb72ca8"
      },
      "execution_count": null,
      "outputs": [
        {
          "output_type": "stream",
          "name": "stdout",
          "text": [
            "5\n"
          ]
        }
      ]
    },
    {
      "cell_type": "code",
      "source": [
        "# 2\n",
        "def test(a,b):\n",
        "    return a\n",
        "    print(b) # this will never run. why... cz it has already left the function, the moment it saw return\n",
        "output = test(5,8)"
      ],
      "metadata": {
        "id": "ApyqA7P4J-Ze"
      },
      "execution_count": null,
      "outputs": []
    },
    {
      "cell_type": "code",
      "source": [
        "print(output)"
      ],
      "metadata": {
        "colab": {
          "base_uri": "https://localhost:8080/"
        },
        "id": "YfEKMJ_jKbOn",
        "outputId": "258c11d4-427e-4adb-aa75-0c09e7d84bc1"
      },
      "execution_count": null,
      "outputs": [
        {
          "output_type": "stream",
          "name": "stdout",
          "text": [
            "5\n"
          ]
        }
      ]
    },
    {
      "cell_type": "code",
      "source": [
        "# 3\n",
        "def test(a,b):\n",
        "    if a%2==0:\n",
        "        print(a)\n",
        "    else:\n",
        "        print(b)\n",
        "output = test(5,8)"
      ],
      "metadata": {
        "colab": {
          "base_uri": "https://localhost:8080/"
        },
        "id": "_n9G-EPeKmi1",
        "outputId": "eca104a2-9cc6-42dc-d500-c39d925ab9d2"
      },
      "execution_count": null,
      "outputs": [
        {
          "output_type": "stream",
          "name": "stdout",
          "text": [
            "8\n"
          ]
        }
      ]
    },
    {
      "cell_type": "code",
      "source": [
        "print(output)"
      ],
      "metadata": {
        "colab": {
          "base_uri": "https://localhost:8080/"
        },
        "id": "vgWUGS63LaRR",
        "outputId": "889f8eac-a3d9-42b3-d423-d88fa2658eac"
      },
      "execution_count": null,
      "outputs": [
        {
          "output_type": "stream",
          "name": "stdout",
          "text": [
            "None\n"
          ]
        }
      ]
    },
    {
      "cell_type": "code",
      "source": [
        "# 4\n",
        "def test(a,b):\n",
        "    if b%2==0:\n",
        "        return b\n",
        "    else:\n",
        "        print (b)\n",
        "\n",
        "    if a%2==0:\n",
        "        return a\n",
        "    else:\n",
        "        print (a)\n",
        "output = test(5,8)"
      ],
      "metadata": {
        "id": "Jddc95i9LkGf"
      },
      "execution_count": null,
      "outputs": []
    },
    {
      "cell_type": "code",
      "source": [
        "print(output)"
      ],
      "metadata": {
        "colab": {
          "base_uri": "https://localhost:8080/"
        },
        "id": "pDlD8_B8NBIg",
        "outputId": "89732d91-68fb-4acf-9b71-4f9d0410e218"
      },
      "execution_count": null,
      "outputs": [
        {
          "output_type": "stream",
          "name": "stdout",
          "text": [
            "8\n"
          ]
        }
      ]
    },
    {
      "cell_type": "code",
      "source": [
        "# 5\n",
        "def test(a,b):\n",
        "    if b%2==0:\n",
        "        return b\n",
        "    else:\n",
        "        print (b)\n",
        "\n",
        "    if a%2==0:\n",
        "        return a\n",
        "    else:\n",
        "        print (a)\n",
        "output = test(8,5)"
      ],
      "metadata": {
        "colab": {
          "base_uri": "https://localhost:8080/"
        },
        "id": "YzPqWMkkNHBi",
        "outputId": "776bc187-acbb-45e1-e197-229623c884d6"
      },
      "execution_count": null,
      "outputs": [
        {
          "output_type": "stream",
          "name": "stdout",
          "text": [
            "5\n"
          ]
        }
      ]
    },
    {
      "cell_type": "code",
      "source": [
        "output"
      ],
      "metadata": {
        "colab": {
          "base_uri": "https://localhost:8080/"
        },
        "id": "2qvxszCZOi2P",
        "outputId": "757987aa-b4e5-4932-aaab-3438a98234d1"
      },
      "execution_count": null,
      "outputs": [
        {
          "output_type": "execute_result",
          "data": {
            "text/plain": [
              "8"
            ]
          },
          "metadata": {},
          "execution_count": 75
        }
      ]
    },
    {
      "cell_type": "code",
      "source": [
        "# whatever value you right as the last statement of a coding cell, will be shown on the screen"
      ],
      "metadata": {
        "id": "uSH5TGFkOxc8"
      },
      "execution_count": null,
      "outputs": []
    },
    {
      "cell_type": "code",
      "source": [
        "a = 2\n",
        "a"
      ],
      "metadata": {
        "colab": {
          "base_uri": "https://localhost:8080/"
        },
        "id": "XzScP7D_O-Jn",
        "outputId": "3dbff88d-f0d2-4221-d446-d93d733ad3f8"
      },
      "execution_count": null,
      "outputs": [
        {
          "output_type": "execute_result",
          "data": {
            "text/plain": [
              "2"
            ]
          },
          "metadata": {},
          "execution_count": 76
        }
      ]
    },
    {
      "cell_type": "code",
      "source": [
        "print()"
      ],
      "metadata": {
        "colab": {
          "base_uri": "https://localhost:8080/"
        },
        "id": "UbfkWwhwPKBC",
        "outputId": "dd6d1b89-893a-49ac-a01f-12fc19c0a160"
      },
      "execution_count": null,
      "outputs": [
        {
          "output_type": "stream",
          "name": "stdout",
          "text": [
            "\n"
          ]
        }
      ]
    },
    {
      "cell_type": "code",
      "source": [
        "def myFunc():\n",
        "    a=2\n",
        "    b =a+5"
      ],
      "metadata": {
        "id": "mqWa0DwsPXIO"
      },
      "execution_count": null,
      "outputs": []
    },
    {
      "cell_type": "code",
      "source": [
        "myFunc()"
      ],
      "metadata": {
        "id": "xV_ep3aTPcFl"
      },
      "execution_count": null,
      "outputs": []
    },
    {
      "cell_type": "code",
      "source": [
        "def myFunc():\n",
        "    a=2\n",
        "    b =a+5\n",
        "    return b"
      ],
      "metadata": {
        "id": "RDWEohVBPgvM"
      },
      "execution_count": null,
      "outputs": []
    },
    {
      "cell_type": "code",
      "source": [
        "myFunc()"
      ],
      "metadata": {
        "colab": {
          "base_uri": "https://localhost:8080/"
        },
        "id": "yVSnHJIWPifG",
        "outputId": "02ddffa9-14fb-4435-f256-ea6f6bc30818"
      },
      "execution_count": null,
      "outputs": [
        {
          "output_type": "execute_result",
          "data": {
            "text/plain": [
              "7"
            ]
          },
          "metadata": {},
          "execution_count": 81
        }
      ]
    },
    {
      "cell_type": "code",
      "source": [
        "myFunc()\n",
        "b = 5"
      ],
      "metadata": {
        "id": "-s14Hng2Py4B"
      },
      "execution_count": null,
      "outputs": []
    },
    {
      "cell_type": "code",
      "source": [
        "print(myFunc()) # wont print ?\n",
        "\n",
        "temp = None"
      ],
      "metadata": {
        "colab": {
          "base_uri": "https://localhost:8080/"
        },
        "id": "7ymx67_9P0rX",
        "outputId": "2c5d297a-d584-4b24-899e-2f11dd500068"
      },
      "execution_count": null,
      "outputs": [
        {
          "output_type": "stream",
          "name": "stdout",
          "text": [
            "7\n"
          ]
        }
      ]
    },
    {
      "cell_type": "code",
      "source": [
        "mySTR = \"abc\"\n",
        "print(mySTR)"
      ],
      "metadata": {
        "colab": {
          "base_uri": "https://localhost:8080/"
        },
        "id": "JmswwfU1QSoY",
        "outputId": "858d0a9d-84b3-4933-d524-15dc3d5e9a86"
      },
      "execution_count": null,
      "outputs": [
        {
          "output_type": "stream",
          "name": "stdout",
          "text": [
            "abc\n"
          ]
        }
      ]
    },
    {
      "cell_type": "code",
      "source": [
        "mySTR"
      ],
      "metadata": {
        "colab": {
          "base_uri": "https://localhost:8080/",
          "height": 36
        },
        "id": "VHeTECgZQhDP",
        "outputId": "63c99255-9ff0-4dbb-ef88-9df04b8bc53a"
      },
      "execution_count": null,
      "outputs": [
        {
          "output_type": "execute_result",
          "data": {
            "text/plain": [
              "'abc'"
            ],
            "application/vnd.google.colaboratory.intrinsic+json": {
              "type": "string"
            }
          },
          "metadata": {},
          "execution_count": 87
        }
      ]
    },
    {
      "cell_type": "code",
      "source": [
        "def myFunc():\n",
        "    a=2\n",
        "    b =a+5\n",
        "    # return b\n",
        "print(myFunc())"
      ],
      "metadata": {
        "colab": {
          "base_uri": "https://localhost:8080/"
        },
        "id": "jqgZJdamQzC0",
        "outputId": "cf7f42f8-fd14-46fc-e676-fdefa6c05c1f"
      },
      "execution_count": null,
      "outputs": [
        {
          "output_type": "stream",
          "name": "stdout",
          "text": [
            "None\n"
          ]
        }
      ]
    },
    {
      "cell_type": "code",
      "source": [
        "a=int(input(4))\n",
        "print(a)"
      ],
      "metadata": {
        "colab": {
          "base_uri": "https://localhost:8080/"
        },
        "id": "ukVyhgVAR1-s",
        "outputId": "941a194b-039c-4e70-ed26-4d9fd754563c"
      },
      "execution_count": null,
      "outputs": [
        {
          "output_type": "stream",
          "name": "stdout",
          "text": [
            "4123\n",
            "123\n"
          ]
        }
      ]
    },
    {
      "cell_type": "code",
      "source": [
        "a=int(input(\"What is your age: \"))\n",
        "print(a)"
      ],
      "metadata": {
        "colab": {
          "base_uri": "https://localhost:8080/",
          "height": 207
        },
        "id": "xQSYY377SOI4",
        "outputId": "8647bdca-ba61-4846-ed1e-2b028031cae6"
      },
      "execution_count": null,
      "outputs": [
        {
          "name": "stdout",
          "output_type": "stream",
          "text": [
            "What is your age: Ronaldo\n"
          ]
        },
        {
          "output_type": "error",
          "ename": "ValueError",
          "evalue": "ignored",
          "traceback": [
            "\u001b[0;31m---------------------------------------------------------------------------\u001b[0m",
            "\u001b[0;31mValueError\u001b[0m                                Traceback (most recent call last)",
            "\u001b[0;32m<ipython-input-91-d3d6d69cf8b4>\u001b[0m in \u001b[0;36m<cell line: 1>\u001b[0;34m()\u001b[0m\n\u001b[0;32m----> 1\u001b[0;31m \u001b[0ma\u001b[0m\u001b[0;34m=\u001b[0m\u001b[0mint\u001b[0m\u001b[0;34m(\u001b[0m\u001b[0minput\u001b[0m\u001b[0;34m(\u001b[0m\u001b[0;34m\"What is your age: \"\u001b[0m\u001b[0;34m)\u001b[0m\u001b[0;34m)\u001b[0m\u001b[0;34m\u001b[0m\u001b[0;34m\u001b[0m\u001b[0m\n\u001b[0m\u001b[1;32m      2\u001b[0m \u001b[0mprint\u001b[0m\u001b[0;34m(\u001b[0m\u001b[0ma\u001b[0m\u001b[0;34m)\u001b[0m\u001b[0;34m\u001b[0m\u001b[0;34m\u001b[0m\u001b[0m\n",
            "\u001b[0;31mValueError\u001b[0m: invalid literal for int() with base 10: 'Ronaldo'"
          ]
        }
      ]
    },
    {
      "cell_type": "code",
      "source": [
        "# for-else\n",
        "for i in range(5):\n",
        "    print(i)"
      ],
      "metadata": {
        "colab": {
          "base_uri": "https://localhost:8080/"
        },
        "id": "ZL6JzuaSSO0N",
        "outputId": "8e7e2770-b6ea-4415-fd47-c9fe7540eefa"
      },
      "execution_count": null,
      "outputs": [
        {
          "output_type": "stream",
          "name": "stdout",
          "text": [
            "0\n",
            "1\n",
            "2\n",
            "3\n",
            "4\n"
          ]
        }
      ]
    },
    {
      "cell_type": "code",
      "source": [
        "for i in range(5):\n",
        "    print(i)\n",
        "else: # if the above loop never break, and completes fully, then this will run\n",
        "    print(\"the loop completed\")"
      ],
      "metadata": {
        "colab": {
          "base_uri": "https://localhost:8080/"
        },
        "id": "D_ry7VJiS_7v",
        "outputId": "0a833976-65dd-49da-bad9-85385b443b76"
      },
      "execution_count": null,
      "outputs": [
        {
          "output_type": "stream",
          "name": "stdout",
          "text": [
            "0\n",
            "1\n",
            "2\n",
            "3\n",
            "4\n",
            "the loop completed\n"
          ]
        }
      ]
    },
    {
      "cell_type": "code",
      "source": [
        "for i in range(5):\n",
        "    print(i)\n",
        "    if i==3:\n",
        "        break\n",
        "else: # if the above loop never break, and completes fully, then this will run\n",
        "    print(\"the loop completed\")"
      ],
      "metadata": {
        "colab": {
          "base_uri": "https://localhost:8080/"
        },
        "id": "tT7tdhWKTT9T",
        "outputId": "ad17503d-6af4-4476-dd94-a769ab211a76"
      },
      "execution_count": null,
      "outputs": [
        {
          "output_type": "stream",
          "name": "stdout",
          "text": [
            "0\n",
            "1\n",
            "2\n",
            "3\n"
          ]
        }
      ]
    },
    {
      "cell_type": "code",
      "source": [
        "num = 0\n",
        "while num<=5:\n",
        "    print(num)\n",
        "    num+=1"
      ],
      "metadata": {
        "colab": {
          "base_uri": "https://localhost:8080/"
        },
        "id": "f9A9Q82ATWQg",
        "outputId": "e9c755f8-d512-4ecc-a045-b983c6227dba"
      },
      "execution_count": null,
      "outputs": [
        {
          "output_type": "stream",
          "name": "stdout",
          "text": [
            "0\n",
            "1\n",
            "2\n",
            "3\n",
            "4\n",
            "5\n"
          ]
        }
      ]
    },
    {
      "cell_type": "code",
      "source": [
        "num = 0\n",
        "while num<=5:\n",
        "    print(num)\n",
        "    num+=1\n",
        "else: # if the above loop never break, and completes fully, then this will run\n",
        "    print(\"the loop completed\")"
      ],
      "metadata": {
        "colab": {
          "base_uri": "https://localhost:8080/"
        },
        "id": "fhGxzRHDTfIv",
        "outputId": "6f638b42-c619-413a-cc20-16262ba6add9"
      },
      "execution_count": null,
      "outputs": [
        {
          "output_type": "stream",
          "name": "stdout",
          "text": [
            "0\n",
            "1\n",
            "2\n",
            "3\n",
            "4\n",
            "5\n",
            "the loop completed\n"
          ]
        }
      ]
    },
    {
      "cell_type": "code",
      "source": [
        "num = 0\n",
        "while num<=5:\n",
        "    if num==3:\n",
        "        break\n",
        "    print(num)\n",
        "    num+=1\n",
        "else: # if the above loop never break, and completes fully, then this will run\n",
        "    print(\"the loop completed\")"
      ],
      "metadata": {
        "colab": {
          "base_uri": "https://localhost:8080/"
        },
        "id": "j17pQRs-Tkmt",
        "outputId": "7a773931-f3a0-4f27-dd03-7e213d4c898d"
      },
      "execution_count": null,
      "outputs": [
        {
          "output_type": "stream",
          "name": "stdout",
          "text": [
            "0\n",
            "1\n",
            "2\n"
          ]
        }
      ]
    },
    {
      "cell_type": "code",
      "source": [],
      "metadata": {
        "id": "jS1vEDqwTm5g"
      },
      "execution_count": null,
      "outputs": []
    }
  ]
}