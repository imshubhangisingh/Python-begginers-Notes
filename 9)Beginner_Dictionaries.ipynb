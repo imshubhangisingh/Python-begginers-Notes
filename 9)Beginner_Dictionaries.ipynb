{
  "nbformat": 4,
  "nbformat_minor": 0,
  "metadata": {
    "colab": {
      "provenance": [],
      "include_colab_link": true
    },
    "kernelspec": {
      "name": "python3",
      "display_name": "Python 3"
    },
    "language_info": {
      "name": "python"
    }
  },
  "cells": [
    {
      "cell_type": "markdown",
      "metadata": {
        "id": "view-in-github",
        "colab_type": "text"
      },
      "source": [
        "<a href=\"https://colab.research.google.com/github/imshubhangisingh/Python-begginers-Notes/blob/main/9)Beginner_Dictionaries.ipynb\" target=\"_parent\"><img src=\"https://colab.research.google.com/assets/colab-badge.svg\" alt=\"Open In Colab\"/></a>"
      ]
    },
    {
      "cell_type": "markdown",
      "source": [
        "<center>\n",
        "\n",
        "# Beginner : Dictionaries - 10th June 2023\n",
        "\n",
        "<img src=\"https://d17mnqrx9pmt3e.cloudfront.net/media/blog/share/dict.jpg\" width=\"25%\">\n",
        "\n",
        "</center>"
      ],
      "metadata": {
        "id": "e2gRcgiAQExb"
      }
    },
    {
      "cell_type": "code",
      "source": [
        "# simple python data types\n",
        "## primitive data types /DS\n",
        "### str, int, float, bool, None"
      ],
      "metadata": {
        "id": "KZUKYskbQEW-"
      },
      "execution_count": null,
      "outputs": []
    },
    {
      "cell_type": "code",
      "execution_count": null,
      "metadata": {
        "colab": {
          "base_uri": "https://localhost:8080/"
        },
        "id": "OdXuISLaPjHh",
        "outputId": "3e424eb6-e509-49d8-94e7-3110eb43c58e"
      },
      "outputs": [
        {
          "output_type": "stream",
          "name": "stdout",
          "text": [
            "[] <class 'list'>\n"
          ]
        }
      ],
      "source": [
        "### non Primitve DS\n",
        "\n",
        "## list\n",
        "# []\n",
        "# can store any data type\n",
        "# mutable/ editable\n",
        "# duplicates are allowed\n",
        "# ordered\n",
        "empty_list = []\n",
        "print(empty_list, type(empty_list))"
      ]
    },
    {
      "cell_type": "code",
      "source": [
        "## tuple\n",
        "# ()\n",
        "# immutable / non-editable\n",
        "# ordered\n",
        "# duplicates are allowed\n",
        "# can store any data type\n",
        "empty_tuple = ()\n",
        "print(empty_tuple, type(empty_tuple))"
      ],
      "metadata": {
        "colab": {
          "base_uri": "https://localhost:8080/"
        },
        "id": "UhOrZ4HW-XEH",
        "outputId": "a0a6459f-02ae-4573-dbc6-798736a79c32"
      },
      "execution_count": null,
      "outputs": [
        {
          "output_type": "stream",
          "name": "stdout",
          "text": [
            "() <class 'tuple'>\n"
          ]
        }
      ]
    },
    {
      "cell_type": "code",
      "source": [
        "## set\n",
        "# {e1, e2, e3.....}\n",
        "# mutable/ editable\n",
        "# un-ordered\n",
        "# duplicates are not allowed\n",
        "# can do set operation , like union, intersection , etc\n",
        "# what can a python set store???? you can store anything in a set, but it CANNOT be MUTABLE\n",
        "empty_set = set() # ❌{}\n",
        "print(empty_set, type(empty_set))"
      ],
      "metadata": {
        "colab": {
          "base_uri": "https://localhost:8080/"
        },
        "id": "fw2kpaFU-0if",
        "outputId": "a00e8340-47dd-4ef1-931a-bef60b84cc44"
      },
      "execution_count": null,
      "outputs": [
        {
          "output_type": "stream",
          "name": "stdout",
          "text": [
            "set() <class 'set'>\n"
          ]
        }
      ]
    },
    {
      "cell_type": "code",
      "source": [
        "# 🏠🏡 💪💪\n",
        "# Home Work\n",
        "#  we know 8 different DS\n",
        "# 1 str\n",
        "random_set = {\"string\"}\n",
        "print(random_set, type(random_set))\n",
        "# 2 int\n",
        "random_set = {1,2,3}\n",
        "print(random_set, type(random_set))\n",
        "# 3 float\n",
        "random_set = {1.23,-0.0,-50}\n",
        "print(random_set, type(random_set))\n",
        "# 4 bool\n",
        "random_set = {True, False}\n",
        "print(random_set, type(random_set))\n",
        "# 5 None\n",
        "random_set = {True, False, None}\n",
        "print(random_set, type(random_set))\n",
        "# 6 list\n",
        "# random_set = {[1,2,3]} # TypeError: unhashable type: 'list'\n",
        "# print(random_set, type(random_set)) ❌❌❌❌\n",
        "# 7 tuple\n",
        "random_set = {(1,2,3)}\n",
        "print(random_set, type(random_set))\n",
        "# 8 set\n",
        "# random_set = {{1,2,3}} # TypeError: unhashable type: 'set'\n",
        "# print(random_set, type(random_set)) ❌❌❌❌\n",
        "\n",
        "# create 8 different sets and find what was possible and what was NOT possible"
      ],
      "metadata": {
        "colab": {
          "base_uri": "https://localhost:8080/"
        },
        "id": "AyNupzj-_U7X",
        "outputId": "81bf0bb0-6c1f-415f-f1c1-4f5644daf409"
      },
      "execution_count": null,
      "outputs": [
        {
          "output_type": "stream",
          "name": "stdout",
          "text": [
            "{'string'} <class 'set'>\n",
            "{1, 2, 3} <class 'set'>\n",
            "{-0.0, 1.23, -50} <class 'set'>\n",
            "{False, True} <class 'set'>\n",
            "{False, True, None} <class 'set'>\n",
            "{(1, 2, 3)} <class 'set'>\n"
          ]
        }
      ]
    },
    {
      "cell_type": "markdown",
      "source": [
        "## QUIZ TIME"
      ],
      "metadata": {
        "id": "m0ilQl14A3t_"
      }
    },
    {
      "cell_type": "markdown",
      "source": [
        "## **Quiz-1**\n",
        "What will be theoutput of the following?\n",
        "```\n",
        "s = {{1,2,3,4,5}}\n",
        "print(s)\n",
        "```\n",
        "Options:\n",
        "```\n",
        "A. {1,2,3,4,5}\n",
        "B. {{1,2,3,4,5}}\n",
        "C. {1}\n",
        "D. Error\n",
        "E. None of the above\n",
        "```"
      ],
      "metadata": {
        "id": "2mr6rhjAA5fr"
      }
    },
    {
      "cell_type": "code",
      "source": [
        "s = {{1,2,3,4,5}} # set is mutable/ that is NOT allowed\n",
        "print(s)"
      ],
      "metadata": {
        "colab": {
          "base_uri": "https://localhost:8080/",
          "height": 188
        },
        "id": "vUFSMZve_y3f",
        "outputId": "5c287825-fb97-4177-bfc2-1df6b2a2ca2e"
      },
      "execution_count": null,
      "outputs": [
        {
          "output_type": "error",
          "ename": "TypeError",
          "evalue": "ignored",
          "traceback": [
            "\u001b[0;31m---------------------------------------------------------------------------\u001b[0m",
            "\u001b[0;31mTypeError\u001b[0m                                 Traceback (most recent call last)",
            "\u001b[0;32m<ipython-input-15-3b837b05a88d>\u001b[0m in \u001b[0;36m<cell line: 1>\u001b[0;34m()\u001b[0m\n\u001b[0;32m----> 1\u001b[0;31m \u001b[0ms\u001b[0m \u001b[0;34m=\u001b[0m \u001b[0;34m{\u001b[0m\u001b[0;34m{\u001b[0m\u001b[0;36m1\u001b[0m\u001b[0;34m,\u001b[0m\u001b[0;36m2\u001b[0m\u001b[0;34m,\u001b[0m\u001b[0;36m3\u001b[0m\u001b[0;34m,\u001b[0m\u001b[0;36m4\u001b[0m\u001b[0;34m,\u001b[0m\u001b[0;36m5\u001b[0m\u001b[0;34m}\u001b[0m\u001b[0;34m}\u001b[0m \u001b[0;31m# set is mutable/ that is NOT allowed\u001b[0m\u001b[0;34m\u001b[0m\u001b[0;34m\u001b[0m\u001b[0m\n\u001b[0m\u001b[1;32m      2\u001b[0m \u001b[0mprint\u001b[0m\u001b[0;34m(\u001b[0m\u001b[0ms\u001b[0m\u001b[0;34m)\u001b[0m\u001b[0;34m\u001b[0m\u001b[0;34m\u001b[0m\u001b[0m\n",
            "\u001b[0;31mTypeError\u001b[0m: unhashable type: 'set'"
          ]
        }
      ]
    },
    {
      "cell_type": "markdown",
      "source": [
        "## **Quiz-2**\n",
        "What will be the output of the following?\n",
        "```\n",
        "t = [[1,2], [3,4], (5,6)]\n",
        "a, b = t[1]\n",
        "```\n",
        "Options:\n",
        "```\n",
        "A. a = 3 and b = 4 <<<<<<<<<<<<<<<\n",
        "B. a = 5 and b = 6\n",
        "C. a = [3,4] and b = (5,6)\n",
        "D. None of the above.\n",
        "```"
      ],
      "metadata": {
        "id": "JwDhBeelCUDu"
      }
    },
    {
      "cell_type": "code",
      "source": [
        "t = [[1,2], [3,4], (5,6)]\n",
        "a, b = t[1] # a,b =  [3,4] # unpacking\n",
        "print(a,b)"
      ],
      "metadata": {
        "colab": {
          "base_uri": "https://localhost:8080/"
        },
        "id": "skYq-_l7BX23",
        "outputId": "973b6331-2df1-4448-8ceb-ba4ecb8654bd"
      },
      "execution_count": null,
      "outputs": [
        {
          "output_type": "stream",
          "name": "stdout",
          "text": [
            "3 4\n"
          ]
        }
      ]
    },
    {
      "cell_type": "code",
      "source": [
        "# dictionaries\n",
        "# dict\n",
        "# school >> word:meaning\n",
        "# python >> key : value\n",
        "# 1 dct = {key:value, ...}\n",
        "oxford = {'google':'company', 'trump':'was a president', 'apple':'is a fruit'}\n",
        "print(oxford, type(oxford))"
      ],
      "metadata": {
        "colab": {
          "base_uri": "https://localhost:8080/"
        },
        "id": "vcdp3IJRC4_f",
        "outputId": "08201a7f-68d8-4e86-d0e2-e80df0b8d64d"
      },
      "execution_count": null,
      "outputs": [
        {
          "output_type": "stream",
          "name": "stdout",
          "text": [
            "{'google': 'company', 'trump': 'was a president', 'apple': 'is a fruit'} <class 'dict'>\n"
          ]
        }
      ]
    },
    {
      "cell_type": "code",
      "source": [
        "empty_dict = {}\n",
        "print(empty_dict, type(empty_dict))"
      ],
      "metadata": {
        "colab": {
          "base_uri": "https://localhost:8080/"
        },
        "id": "mbTXPk5WEVk3",
        "outputId": "f777ab10-3bf7-4d58-b15f-630c03e65533"
      },
      "execution_count": null,
      "outputs": [
        {
          "output_type": "stream",
          "name": "stdout",
          "text": [
            "{} <class 'dict'>\n"
          ]
        }
      ]
    },
    {
      "cell_type": "code",
      "source": [
        "# 2 the values in your dict, can be of absolutely any data type\n",
        "sameMeaning = {'joy': ['delight','gladness','happiness', 'joyfulness']}\n",
        "print(sameMeaning, type(sameMeaning))"
      ],
      "metadata": {
        "colab": {
          "base_uri": "https://localhost:8080/"
        },
        "id": "iDdHJxJ5ElXQ",
        "outputId": "edb05baf-bf65-4aec-b6b0-4719545e42fd"
      },
      "execution_count": null,
      "outputs": [
        {
          "output_type": "stream",
          "name": "stdout",
          "text": [
            "{'joy': ['delight', 'gladness', 'happiness', 'joyfulness']} <class 'dict'>\n"
          ]
        }
      ]
    },
    {
      "cell_type": "code",
      "source": [
        "oxford = {'google':'company', 'trump':'was a president', 'apple':'is a fruit'}\n",
        "print(oxford, type(oxford))\n",
        "print(oxford['apple'])"
      ],
      "metadata": {
        "colab": {
          "base_uri": "https://localhost:8080/"
        },
        "id": "9ttmyEIhFdwK",
        "outputId": "3bee6400-139f-4c19-86f3-7d8b4a63c9fe"
      },
      "execution_count": null,
      "outputs": [
        {
          "output_type": "stream",
          "name": "stdout",
          "text": [
            "{'google': 'company', 'trump': 'was a president', 'apple': 'is a fruit'} <class 'dict'>\n",
            "is a fruit\n"
          ]
        }
      ]
    },
    {
      "cell_type": "code",
      "source": [
        "sameMeaning = {'joy': ['delight','gladness','happiness', 'joyfulness']}\n",
        "print(sameMeaning, type(sameMeaning))\n",
        "print(sameMeaning['joy'])"
      ],
      "metadata": {
        "colab": {
          "base_uri": "https://localhost:8080/"
        },
        "id": "wlQUFqU9FtFO",
        "outputId": "4ba51fce-05cf-40f8-a30d-f4598a9a9d40"
      },
      "execution_count": null,
      "outputs": [
        {
          "output_type": "stream",
          "name": "stdout",
          "text": [
            "{'joy': ['delight', 'gladness', 'happiness', 'joyfulness']} <class 'dict'>\n",
            "['delight', 'gladness', 'happiness', 'joyfulness']\n"
          ]
        }
      ]
    },
    {
      "cell_type": "code",
      "source": [
        "trainStation = {'NDLS':'new delhi', 'MAS':'madras'}\n",
        "print(trainStation['MAS'])"
      ],
      "metadata": {
        "colab": {
          "base_uri": "https://localhost:8080/"
        },
        "id": "X_UtrG-sF79-",
        "outputId": "b05c1afb-8a04-4ae5-8994-792b276fb3e2"
      },
      "execution_count": null,
      "outputs": [
        {
          "output_type": "stream",
          "name": "stdout",
          "text": [
            "madras\n"
          ]
        }
      ]
    },
    {
      "cell_type": "code",
      "source": [
        "trainStation = [('NDLS','new delhi'), ('MAS','madras')]\n",
        "print(trainStation['MAS'])"
      ],
      "metadata": {
        "id": "j4N5kxPqGMyG"
      },
      "execution_count": null,
      "outputs": []
    },
    {
      "cell_type": "code",
      "source": [
        "languages = {'en':'English', 'pb':'Punjabi', 'cn':'chinese'}\n",
        "print(languages, type(languages))"
      ],
      "metadata": {
        "colab": {
          "base_uri": "https://localhost:8080/"
        },
        "id": "uxlGysQMGrbi",
        "outputId": "fc056756-b676-4b83-81d3-8937f6c5a0f4"
      },
      "execution_count": null,
      "outputs": [
        {
          "output_type": "stream",
          "name": "stdout",
          "text": [
            "{'en': 'English', 'pb': 'Punjabi', 'cn': 'chinese'} <class 'dict'>\n"
          ]
        }
      ]
    },
    {
      "cell_type": "code",
      "source": [
        "# read\n",
        "print(languages['en'])\n",
        "# print(languages[0]) # KeyError: 0\n",
        "# dict in python are un-ordered, no indexing, no sorting\n",
        "print(languages['pb'])\n",
        "# print(languages['hi']) #KeyError: 'hi'\n",
        "if 'hi' in languages:\n",
        "    print(languages['hi'])\n",
        "else:\n",
        "    print('Key not found')\n",
        "print(languages.get('hi', 'Key not found'))\n",
        "print(languages.get('pb', 'Key not found'))"
      ],
      "metadata": {
        "colab": {
          "base_uri": "https://localhost:8080/"
        },
        "id": "CSasATrZHF-D",
        "outputId": "be2179c8-fb6b-4293-ff8c-568a3b4977f9"
      },
      "execution_count": null,
      "outputs": [
        {
          "output_type": "stream",
          "name": "stdout",
          "text": [
            "English\n",
            "Punjabi\n",
            "Key not found\n",
            "Key not found\n",
            "Punjabi\n"
          ]
        }
      ]
    },
    {
      "cell_type": "code",
      "source": [
        "# add\n",
        "languages = {'en':'English', 'pb':'Punjabi', 'cn':'chinese'}\n",
        "print(languages, type(languages))\n",
        "languages['tl'] = 'telugu'\n",
        "print(languages, type(languages))"
      ],
      "metadata": {
        "colab": {
          "base_uri": "https://localhost:8080/"
        },
        "id": "3fmeNKr1Ja0t",
        "outputId": "76ca8db8-fe46-434e-e79a-6d92b076f7f1"
      },
      "execution_count": null,
      "outputs": [
        {
          "output_type": "stream",
          "name": "stdout",
          "text": [
            "{'en': 'English', 'pb': 'Punjabi', 'cn': 'chinese'} <class 'dict'>\n",
            "{'en': 'English', 'pb': 'Punjabi', 'cn': 'chinese', 'tl': 'telugu'} <class 'dict'>\n"
          ]
        }
      ]
    },
    {
      "cell_type": "code",
      "source": [
        "# update\n",
        "languages['tl'] = 'tamil'\n",
        "print(languages, type(languages))"
      ],
      "metadata": {
        "colab": {
          "base_uri": "https://localhost:8080/"
        },
        "id": "lLwSct6cHdD_",
        "outputId": "365a9ad6-7905-455e-8ad1-f079e36c1aef"
      },
      "execution_count": null,
      "outputs": [
        {
          "output_type": "stream",
          "name": "stdout",
          "text": [
            "{'en': 'English', 'pb': 'Punjabi', 'cn': 'chinese', 'tl': 'tamil'} <class 'dict'>\n"
          ]
        }
      ]
    },
    {
      "cell_type": "code",
      "source": [
        "print(languages, type(languages))\n",
        "languages.update(\n",
        "    {'tl':'tulu', 'mr':'marathi','my_lang':{'hi','en','pb'}}\n",
        ")\n",
        "print(languages, type(languages))"
      ],
      "metadata": {
        "colab": {
          "base_uri": "https://localhost:8080/"
        },
        "id": "EONxEFc2LTm2",
        "outputId": "20601ddc-270c-4cd3-b4f0-b61f1483f6b2"
      },
      "execution_count": null,
      "outputs": [
        {
          "output_type": "stream",
          "name": "stdout",
          "text": [
            "{'en': 'English', 'pb': 'Punjabi', 'cn': 'chinese', 'tl': 'tamil'} <class 'dict'>\n",
            "{'en': 'English', 'pb': 'Punjabi', 'cn': 'chinese', 'tl': 'tulu', 'mr': 'marathi', 'my_lang': {'pb', 'hi', 'en'}} <class 'dict'>\n"
          ]
        }
      ]
    },
    {
      "cell_type": "code",
      "source": [
        "# del\n",
        "print(languages, type(languages))\n",
        "## pop\n",
        "popped_val = languages.pop('my_lang')\n",
        "print('popped_val', popped_val)"
      ],
      "metadata": {
        "colab": {
          "base_uri": "https://localhost:8080/"
        },
        "id": "ir3i1P0HL1mW",
        "outputId": "6f7b8c54-4770-49f0-f962-d0f6d529ef82"
      },
      "execution_count": null,
      "outputs": [
        {
          "output_type": "stream",
          "name": "stdout",
          "text": [
            "{'en': 'English', 'pb': 'Punjabi', 'cn': 'chinese', 'tl': 'tulu', 'mr': 'marathi', 'my_lang': {'pb', 'hi', 'en'}} <class 'dict'>\n",
            "popped_val {'pb', 'hi', 'en'}\n"
          ]
        }
      ]
    },
    {
      "cell_type": "code",
      "source": [
        "print(languages, type(languages))"
      ],
      "metadata": {
        "colab": {
          "base_uri": "https://localhost:8080/"
        },
        "id": "BkF_0mdpMIWv",
        "outputId": "d66aa8c4-08b9-43e0-8f95-18888ef0c1e6"
      },
      "execution_count": null,
      "outputs": [
        {
          "output_type": "stream",
          "name": "stdout",
          "text": [
            "{'en': 'English', 'pb': 'Punjabi', 'cn': 'chinese', 'tl': 'tulu', 'mr': 'marathi'} <class 'dict'>\n"
          ]
        }
      ]
    },
    {
      "cell_type": "code",
      "source": [
        " languages.pop()"
      ],
      "metadata": {
        "colab": {
          "base_uri": "https://localhost:8080/",
          "height": 170
        },
        "id": "FeHEo8edMp96",
        "outputId": "2e5f5176-5d32-4da6-a206-b5739cf2a570"
      },
      "execution_count": null,
      "outputs": [
        {
          "output_type": "error",
          "ename": "TypeError",
          "evalue": "ignored",
          "traceback": [
            "\u001b[0;31m---------------------------------------------------------------------------\u001b[0m",
            "\u001b[0;31mTypeError\u001b[0m                                 Traceback (most recent call last)",
            "\u001b[0;32m<ipython-input-45-ad3d0bf2b45f>\u001b[0m in \u001b[0;36m<cell line: 1>\u001b[0;34m()\u001b[0m\n\u001b[0;32m----> 1\u001b[0;31m \u001b[0mlanguages\u001b[0m\u001b[0;34m.\u001b[0m\u001b[0mpop\u001b[0m\u001b[0;34m(\u001b[0m\u001b[0;34m)\u001b[0m\u001b[0;34m\u001b[0m\u001b[0;34m\u001b[0m\u001b[0m\n\u001b[0m",
            "\u001b[0;31mTypeError\u001b[0m: pop expected at least 1 argument, got 0"
          ]
        }
      ]
    },
    {
      "cell_type": "code",
      "source": [
        "print(languages, type(languages))\n",
        "del languages['tl']\n",
        "print(languages, type(languages))"
      ],
      "metadata": {
        "colab": {
          "base_uri": "https://localhost:8080/"
        },
        "id": "ZVXNvBtEM4kF",
        "outputId": "01ea9667-311b-4236-cb83-b3827974fba0"
      },
      "execution_count": null,
      "outputs": [
        {
          "output_type": "stream",
          "name": "stdout",
          "text": [
            "{'en': 'English', 'pb': 'Punjabi', 'cn': 'chinese', 'tl': 'tulu', 'mr': 'marathi'} <class 'dict'>\n",
            "{'en': 'English', 'pb': 'Punjabi', 'cn': 'chinese', 'mr': 'marathi'} <class 'dict'>\n"
          ]
        }
      ]
    },
    {
      "cell_type": "code",
      "source": [
        "# list >> pop >>> default is last value, given is index value\n",
        "# set >> pop >> default is random value, given is NOT allowed\n",
        "# dict>> pop >> no default, given is key value"
      ],
      "metadata": {
        "id": "d6uD_K4yMdsg"
      },
      "execution_count": null,
      "outputs": []
    },
    {
      "cell_type": "code",
      "source": [
        "# python dict are mutable/editable"
      ],
      "metadata": {
        "id": "gMaMMe5nK6Y2"
      },
      "execution_count": null,
      "outputs": []
    },
    {
      "cell_type": "code",
      "source": [
        "# in python dict, if you try addding a value to a key that already exists,\n",
        "# it will update else it will add\n",
        "# keys are unique\n",
        "# the keys in your dict, can be of absolutely any data type except MUTABLE"
      ],
      "metadata": {
        "id": "WEeeWkh0Jvqt"
      },
      "execution_count": null,
      "outputs": []
    },
    {
      "cell_type": "code",
      "source": [
        "experiment = {\n",
        "    'Ronaldo':'str',\n",
        "    1001:'int',\n",
        "    -10.123:'float',\n",
        "    True:'bool',\n",
        "    None:'None',\n",
        "    (1,2,3,4,5):'tuple'\n",
        "    }\n",
        "print(experiment)"
      ],
      "metadata": {
        "colab": {
          "base_uri": "https://localhost:8080/"
        },
        "id": "2-pH4exdKixg",
        "outputId": "ffef23f3-d7a7-4ffe-93b3-452d8775f3cb"
      },
      "execution_count": null,
      "outputs": [
        {
          "output_type": "stream",
          "name": "stdout",
          "text": [
            "{'Ronaldo': 'str', 1001: 'int', -10.123: 'float', True: 'bool', None: 'None', (1, 2, 3, 4, 5): 'tuple'}\n"
          ]
        }
      ]
    },
    {
      "cell_type": "code",
      "source": [
        "experiment = {\n",
        "    [1,2,3]:'list'\n",
        "    }\n",
        "print(experiment)"
      ],
      "metadata": {
        "colab": {
          "base_uri": "https://localhost:8080/",
          "height": 223
        },
        "id": "DaWsZGtBK-Mu",
        "outputId": "41f2b0b3-67e8-4ecf-cdb5-b3526d37b62d"
      },
      "execution_count": null,
      "outputs": [
        {
          "output_type": "error",
          "ename": "TypeError",
          "evalue": "ignored",
          "traceback": [
            "\u001b[0;31m---------------------------------------------------------------------------\u001b[0m",
            "\u001b[0;31mTypeError\u001b[0m                                 Traceback (most recent call last)",
            "\u001b[0;32m<ipython-input-39-6c4a3d519a26>\u001b[0m in \u001b[0;36m<cell line: 2>\u001b[0;34m()\u001b[0m\n\u001b[0;32m----> 1\u001b[0;31m experiment = {\n\u001b[0m\u001b[1;32m      2\u001b[0m     \u001b[0;34m[\u001b[0m\u001b[0;36m1\u001b[0m\u001b[0;34m,\u001b[0m\u001b[0;36m2\u001b[0m\u001b[0;34m,\u001b[0m\u001b[0;36m3\u001b[0m\u001b[0;34m]\u001b[0m\u001b[0;34m:\u001b[0m\u001b[0;34m'list'\u001b[0m\u001b[0;34m\u001b[0m\u001b[0;34m\u001b[0m\u001b[0m\n\u001b[1;32m      3\u001b[0m     }\n\u001b[1;32m      4\u001b[0m \u001b[0mprint\u001b[0m\u001b[0;34m(\u001b[0m\u001b[0mexperiment\u001b[0m\u001b[0;34m)\u001b[0m\u001b[0;34m\u001b[0m\u001b[0;34m\u001b[0m\u001b[0m\n",
            "\u001b[0;31mTypeError\u001b[0m: unhashable type: 'list'"
          ]
        }
      ]
    },
    {
      "cell_type": "code",
      "source": [
        "experiment = {\n",
        "    {1,2,3}:'set'\n",
        "    }\n",
        "print(experiment)"
      ],
      "metadata": {
        "colab": {
          "base_uri": "https://localhost:8080/",
          "height": 223
        },
        "id": "B24iau-CLD4m",
        "outputId": "0a4fee47-40e8-41f9-e847-c7ed3eac045d"
      },
      "execution_count": null,
      "outputs": [
        {
          "output_type": "error",
          "ename": "TypeError",
          "evalue": "ignored",
          "traceback": [
            "\u001b[0;31m---------------------------------------------------------------------------\u001b[0m",
            "\u001b[0;31mTypeError\u001b[0m                                 Traceback (most recent call last)",
            "\u001b[0;32m<ipython-input-40-e16c20c89051>\u001b[0m in \u001b[0;36m<cell line: 2>\u001b[0;34m()\u001b[0m\n\u001b[0;32m----> 1\u001b[0;31m experiment = {\n\u001b[0m\u001b[1;32m      2\u001b[0m     \u001b[0;34m{\u001b[0m\u001b[0;36m1\u001b[0m\u001b[0;34m,\u001b[0m\u001b[0;36m2\u001b[0m\u001b[0;34m,\u001b[0m\u001b[0;36m3\u001b[0m\u001b[0;34m}\u001b[0m\u001b[0;34m:\u001b[0m\u001b[0;34m'set'\u001b[0m\u001b[0;34m\u001b[0m\u001b[0;34m\u001b[0m\u001b[0m\n\u001b[1;32m      3\u001b[0m     }\n\u001b[1;32m      4\u001b[0m \u001b[0mprint\u001b[0m\u001b[0;34m(\u001b[0m\u001b[0mexperiment\u001b[0m\u001b[0;34m)\u001b[0m\u001b[0;34m\u001b[0m\u001b[0;34m\u001b[0m\u001b[0m\n",
            "\u001b[0;31mTypeError\u001b[0m: unhashable type: 'set'"
          ]
        }
      ]
    },
    {
      "cell_type": "code",
      "source": [
        "experiment = {\n",
        "    {1:2}:'dict'\n",
        "    }\n",
        "print(experiment)"
      ],
      "metadata": {
        "colab": {
          "base_uri": "https://localhost:8080/",
          "height": 223
        },
        "id": "AK7JiKF_LHx2",
        "outputId": "03bd8a62-1063-4483-adf4-ea7bf73159b5"
      },
      "execution_count": null,
      "outputs": [
        {
          "output_type": "error",
          "ename": "TypeError",
          "evalue": "ignored",
          "traceback": [
            "\u001b[0;31m---------------------------------------------------------------------------\u001b[0m",
            "\u001b[0;31mTypeError\u001b[0m                                 Traceback (most recent call last)",
            "\u001b[0;32m<ipython-input-41-9585632c8bed>\u001b[0m in \u001b[0;36m<cell line: 2>\u001b[0;34m()\u001b[0m\n\u001b[0;32m----> 1\u001b[0;31m experiment = {\n\u001b[0m\u001b[1;32m      2\u001b[0m     \u001b[0;34m{\u001b[0m\u001b[0;36m1\u001b[0m\u001b[0;34m:\u001b[0m\u001b[0;36m2\u001b[0m\u001b[0;34m}\u001b[0m\u001b[0;34m:\u001b[0m\u001b[0;34m'dict'\u001b[0m\u001b[0;34m\u001b[0m\u001b[0;34m\u001b[0m\u001b[0m\n\u001b[1;32m      3\u001b[0m     }\n\u001b[1;32m      4\u001b[0m \u001b[0mprint\u001b[0m\u001b[0;34m(\u001b[0m\u001b[0mexperiment\u001b[0m\u001b[0;34m)\u001b[0m\u001b[0;34m\u001b[0m\u001b[0;34m\u001b[0m\u001b[0m\n",
            "\u001b[0;31mTypeError\u001b[0m: unhashable type: 'dict'"
          ]
        }
      ]
    },
    {
      "cell_type": "code",
      "source": [
        "# iterating over a python dict\n",
        "\n",
        "dct = {\n",
        "    'name':'Thor Odinson',\n",
        "    'weapons': ['hammer', 'axe'],\n",
        "    'strong':True,\n",
        "    'eyes': 1,\n",
        "    'hair':1.8\n",
        "}\n",
        "print(dct)\n",
        "\n",
        "# simple loop\n",
        "for i in dct:\n",
        "    print(i) # this only gives the keys"
      ],
      "metadata": {
        "colab": {
          "base_uri": "https://localhost:8080/"
        },
        "id": "RX-Zc_XzLK2e",
        "outputId": "20413a71-4f40-4ae8-aee8-fb1cad03f3a3"
      },
      "execution_count": null,
      "outputs": [
        {
          "output_type": "stream",
          "name": "stdout",
          "text": [
            "{'name': 'Thor Odinson', 'weapons': ['hammer', 'axe'], 'strong': True, 'eyes': 1, 'hair': 1.8}\n",
            "name\n",
            "weapons\n",
            "strong\n",
            "eyes\n",
            "hair\n"
          ]
        }
      ]
    },
    {
      "cell_type": "code",
      "source": [
        "# iterating over a python dict\n",
        "\n",
        "dct = {\n",
        "    'name':'Thor Odinson',\n",
        "    'weapons': ['hammer', 'axe'],\n",
        "    'strong':True,\n",
        "    'eyes': 1,\n",
        "    'hair':1.8\n",
        "}\n",
        "print(dct)\n",
        "\n",
        "# simple loop and get the values\n",
        "for i in dct:\n",
        "    print(i, dct[i]) # this only gives the keys, use key to get the value"
      ],
      "metadata": {
        "colab": {
          "base_uri": "https://localhost:8080/"
        },
        "id": "68m_g2b2QNXd",
        "outputId": "f9bfbb9d-add8-4f95-edbd-1ae7ef748332"
      },
      "execution_count": null,
      "outputs": [
        {
          "output_type": "stream",
          "name": "stdout",
          "text": [
            "{'name': 'Thor Odinson', 'weapons': ['hammer', 'axe'], 'strong': True, 'eyes': 1, 'hair': 1.8}\n",
            "name Thor Odinson\n",
            "weapons ['hammer', 'axe']\n",
            "strong True\n",
            "eyes 1\n",
            "hair 1.8\n"
          ]
        }
      ]
    },
    {
      "cell_type": "code",
      "source": [
        "# .keys()\n",
        "dct = {\n",
        "    'name':'Thor Odinson',\n",
        "    'weapons': ['hammer', 'axe'],\n",
        "    'strong':True,\n",
        "    'eyes': 1,\n",
        "    'hair':1.8\n",
        "}\n",
        "print(dct)\n",
        "print(dct.keys())\n",
        "print(list(dct.keys()))\n",
        "for key in dct.keys():\n",
        "    print(key)"
      ],
      "metadata": {
        "colab": {
          "base_uri": "https://localhost:8080/"
        },
        "id": "T84dprziQd6t",
        "outputId": "476ef4e9-ca7c-469a-f0c4-06d3ee1ee696"
      },
      "execution_count": null,
      "outputs": [
        {
          "output_type": "stream",
          "name": "stdout",
          "text": [
            "{'name': 'Thor Odinson', 'weapons': ['hammer', 'axe'], 'strong': True, 'eyes': 1, 'hair': 1.8}\n",
            "dict_keys(['name', 'weapons', 'strong', 'eyes', 'hair'])\n",
            "['name', 'weapons', 'strong', 'eyes', 'hair']\n",
            "name\n",
            "weapons\n",
            "strong\n",
            "eyes\n",
            "hair\n"
          ]
        }
      ]
    },
    {
      "cell_type": "code",
      "source": [
        "# .values()\n",
        "dct = {\n",
        "    'name':'Thor Odinson',\n",
        "    'weapons': ['hammer', 'axe'],\n",
        "    'strong':True,\n",
        "    'eyes': 1,\n",
        "    'hair':1.8\n",
        "}\n",
        "print(dct)\n",
        "print(dct.values())\n",
        "print(list(dct.values()))\n",
        "for value in dct.values():\n",
        "    print(value)"
      ],
      "metadata": {
        "colab": {
          "base_uri": "https://localhost:8080/"
        },
        "id": "hQByQqYTQs7-",
        "outputId": "a88e3013-ed48-40d5-d82f-a9d6351d62d3"
      },
      "execution_count": null,
      "outputs": [
        {
          "output_type": "stream",
          "name": "stdout",
          "text": [
            "{'name': 'Thor Odinson', 'weapons': ['hammer', 'axe'], 'strong': True, 'eyes': 1, 'hair': 1.8}\n",
            "dict_values(['Thor Odinson', ['hammer', 'axe'], True, 1, 1.8])\n",
            "['Thor Odinson', ['hammer', 'axe'], True, 1, 1.8]\n",
            "Thor Odinson\n",
            "['hammer', 'axe']\n",
            "True\n",
            "1\n",
            "1.8\n"
          ]
        }
      ]
    },
    {
      "cell_type": "code",
      "source": [
        "# .items()\n",
        "dct = {\n",
        "    'name':'Thor Odinson',\n",
        "    'weapons': ['hammer', 'axe'],\n",
        "    'strong':True,\n",
        "    'eyes': 1,\n",
        "    'hair':1.8\n",
        "}\n",
        "print(dct)\n",
        "print(dct.items())"
      ],
      "metadata": {
        "colab": {
          "base_uri": "https://localhost:8080/"
        },
        "id": "8T5KV8C8RDMg",
        "outputId": "befd338e-8768-4c9b-f795-a42d5947d12f"
      },
      "execution_count": null,
      "outputs": [
        {
          "output_type": "stream",
          "name": "stdout",
          "text": [
            "{'name': 'Thor Odinson', 'weapons': ['hammer', 'axe'], 'strong': True, 'eyes': 1, 'hair': 1.8}\n",
            "dict_items([('name', 'Thor Odinson'), ('weapons', ['hammer', 'axe']), ('strong', True), ('eyes', 1), ('hair', 1.8)])\n"
          ]
        }
      ]
    },
    {
      "cell_type": "code",
      "source": [
        "for myTuple in dct.items():\n",
        "    print(myTuple)"
      ],
      "metadata": {
        "colab": {
          "base_uri": "https://localhost:8080/"
        },
        "id": "uOK4XoyZRUHs",
        "outputId": "f3ea76eb-cf06-4441-c9a2-5e70a03d789b"
      },
      "execution_count": null,
      "outputs": [
        {
          "output_type": "stream",
          "name": "stdout",
          "text": [
            "('name', 'Thor Odinson')\n",
            "('weapons', ['hammer', 'axe'])\n",
            "('strong', True)\n",
            "('eyes', 1)\n",
            "('hair', 1.8)\n"
          ]
        }
      ]
    },
    {
      "cell_type": "code",
      "source": [
        "for key, value in dct.items():\n",
        "    print(key, value)"
      ],
      "metadata": {
        "colab": {
          "base_uri": "https://localhost:8080/"
        },
        "id": "t0uePMeCRh1F",
        "outputId": "71b42579-899f-47d7-fd20-b4e6c84e3704"
      },
      "execution_count": null,
      "outputs": [
        {
          "output_type": "stream",
          "name": "stdout",
          "text": [
            "name Thor Odinson\n",
            "weapons ['hammer', 'axe']\n",
            "strong True\n",
            "eyes 1\n",
            "hair 1.8\n"
          ]
        }
      ]
    },
    {
      "cell_type": "code",
      "source": [
        "dct = {\n",
        "    'name':'Thor Odinson',\n",
        "    'weapons': ['hammer', 'axe'],\n",
        "    'strong':True,\n",
        "    'eyes': 1,\n",
        "    'hair':1.8\n",
        "}\n",
        "print(dct)\n",
        "# search the keys\n",
        "print('name' in dct.keys())\n",
        "print('name' in dct)\n",
        "# search the values\n",
        "print('name' in dct.values())\n",
        "# search the pairs\n",
        "print(('eyes', 2) in dct.items())\n",
        "print(('eyes', 1) in dct.items())"
      ],
      "metadata": {
        "colab": {
          "base_uri": "https://localhost:8080/"
        },
        "id": "UapoakETRsKy",
        "outputId": "9bc02909-9d2a-4bac-9480-150e993a137c"
      },
      "execution_count": null,
      "outputs": [
        {
          "output_type": "stream",
          "name": "stdout",
          "text": [
            "{'name': 'Thor Odinson', 'weapons': ['hammer', 'axe'], 'strong': True, 'eyes': 1, 'hair': 1.8}\n",
            "True\n",
            "True\n",
            "False\n",
            "False\n",
            "True\n"
          ]
        }
      ]
    },
    {
      "cell_type": "markdown",
      "source": [
        "## **Question**\n",
        "* Take a string as input.\n",
        "* Create a dictionary according to the following criteria :-\n",
        "    * There will be one key value pair for each unique character\n",
        "    * Key will be character name and value will be the count of the character inside the string.\n",
        "\n",
        "> NOTE: DO NOT use `.count`\n",
        "\n",
        "**Example input**:\n",
        "```\n",
        "rrssstttt\n",
        "```\n",
        "\n",
        "**Example output**:\n",
        "```\n",
        "{\n",
        "    \"r\": 2,\n",
        "    \"s\": 3,\n",
        "    \"t\": 4\n",
        "}\n",
        "```"
      ],
      "metadata": {
        "id": "-7pgXSgISYZv"
      }
    },
    {
      "cell_type": "code",
      "source": [
        "# simplest way\n",
        "user_input = \"rrssstttt\"\n",
        "count_dict = {}\n",
        "for everyChar in user_input:\n",
        "    count_dict[everyChar] = user_input.count(everyChar)\n",
        "count_dict"
      ],
      "metadata": {
        "colab": {
          "base_uri": "https://localhost:8080/"
        },
        "id": "1StriTXiU_ye",
        "outputId": "149ec389-70d9-4dcf-fc26-1b9445016262"
      },
      "execution_count": null,
      "outputs": [
        {
          "output_type": "execute_result",
          "data": {
            "text/plain": [
              "{'r': 2, 's': 3, 't': 4}"
            ]
          },
          "metadata": {},
          "execution_count": 66
        }
      ]
    },
    {
      "cell_type": "code",
      "source": [
        "# simplest way but slightly efficient\n",
        "user_input = \"rrssstttt\"\n",
        "count_dict = {}\n",
        "for everyChar in user_input:\n",
        "    if everyChar not in count_dict:\n",
        "        count_dict[everyChar] = user_input.count(everyChar)\n",
        "count_dict"
      ],
      "metadata": {
        "colab": {
          "base_uri": "https://localhost:8080/"
        },
        "id": "VRPUtiyYVq9-",
        "outputId": "73354a7a-afcb-4cd9-ea30-7adb33171d3a"
      },
      "execution_count": null,
      "outputs": [
        {
          "output_type": "execute_result",
          "data": {
            "text/plain": [
              "{'r': 2, 's': 3, 't': 4}"
            ]
          },
          "metadata": {},
          "execution_count": 67
        }
      ]
    },
    {
      "cell_type": "code",
      "source": [
        "# most efficient\n",
        "user_input = \"rrssstttt\"\n",
        "# r 1+1\n",
        "# s 1+1+1\n",
        "# t 1+1+1+1\n",
        "count_dict = {}\n",
        "for everyChar in user_input:\n",
        "    # i am seeing this char for the first time\n",
        "    if everyChar not in count_dict:\n",
        "        count_dict[everyChar]=1\n",
        "    else: # i already saw and counted it\n",
        "        count_dict[everyChar]=count_dict[everyChar]+1\n",
        "count_dict"
      ],
      "metadata": {
        "colab": {
          "base_uri": "https://localhost:8080/"
        },
        "id": "4DSl8YPQWCZo",
        "outputId": "d3ab89d0-ae77-4157-e027-cb28653d4899"
      },
      "execution_count": null,
      "outputs": [
        {
          "output_type": "execute_result",
          "data": {
            "text/plain": [
              "{'r': 2, 's': 3, 't': 4}"
            ]
          },
          "metadata": {},
          "execution_count": 68
        }
      ]
    },
    {
      "cell_type": "code",
      "source": [
        "# most efficient and concise\n",
        "user_input = \"rrssstttt\"\n",
        "# r 1+1\n",
        "# s 1+1+1\n",
        "# t 1+1+1+1\n",
        "count_dict = {}\n",
        "for everyChar in user_input:\n",
        "    count_dict[everyChar]=count_dict.get(everyChar, 0)+1\n",
        "count_dict"
      ],
      "metadata": {
        "colab": {
          "base_uri": "https://localhost:8080/"
        },
        "id": "lSCVB2fSWvze",
        "outputId": "610dc879-7464-43a3-9552-6253d43fa818"
      },
      "execution_count": null,
      "outputs": [
        {
          "output_type": "execute_result",
          "data": {
            "text/plain": [
              "{'r': 2, 's': 3, 't': 4}"
            ]
          },
          "metadata": {},
          "execution_count": 70
        }
      ]
    },
    {
      "cell_type": "code",
      "source": [
        "# most efficient and concise\n",
        "user_input = [10,20,30,40,10,20,20,20,20,20,40]\n",
        "# r 1+1\n",
        "# s 1+1+1\n",
        "# t 1+1+1+1\n",
        "count_dict = {}\n",
        "for everyChar in user_input:\n",
        "    count_dict[everyChar]=count_dict.get(everyChar, 0)+1\n",
        "count_dict"
      ],
      "metadata": {
        "colab": {
          "base_uri": "https://localhost:8080/"
        },
        "id": "UVGX27PIXcV4",
        "outputId": "a663da29-fa6a-4d93-c720-8c4ef671a9be"
      },
      "execution_count": null,
      "outputs": [
        {
          "output_type": "execute_result",
          "data": {
            "text/plain": [
              "{10: 2, 20: 6, 30: 1, 40: 2}"
            ]
          },
          "metadata": {},
          "execution_count": 71
        }
      ]
    },
    {
      "cell_type": "code",
      "source": [
        "# most efficient and concise\n",
        "user_input = {10,20,30,40,10,20,20,20,20,20,40}\n",
        "# r 1+1\n",
        "# s 1+1+1\n",
        "# t 1+1+1+1\n",
        "count_dict = {}\n",
        "for everyChar in user_input:\n",
        "    count_dict[everyChar]=count_dict.get(everyChar, 0)+1\n",
        "count_dict"
      ],
      "metadata": {
        "colab": {
          "base_uri": "https://localhost:8080/"
        },
        "id": "aUhIcYe-Xf5f",
        "outputId": "2e8217e9-9398-4055-c2df-3acf26e536e4"
      },
      "execution_count": null,
      "outputs": [
        {
          "output_type": "execute_result",
          "data": {
            "text/plain": [
              "{40: 1, 10: 1, 20: 1, 30: 1}"
            ]
          },
          "metadata": {},
          "execution_count": 72
        }
      ]
    },
    {
      "cell_type": "code",
      "source": [],
      "metadata": {
        "id": "KlSqhwQZXsAd"
      },
      "execution_count": null,
      "outputs": []
    }
  ]
}