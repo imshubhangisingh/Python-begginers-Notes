{
  "nbformat": 4,
  "nbformat_minor": 0,
  "metadata": {
    "colab": {
      "provenance": [],
      "include_colab_link": true
    },
    "kernelspec": {
      "name": "python3",
      "display_name": "Python 3"
    },
    "language_info": {
      "name": "python"
    }
  },
  "cells": [
    {
      "cell_type": "markdown",
      "metadata": {
        "id": "view-in-github",
        "colab_type": "text"
      },
      "source": [
        "<a href=\"https://colab.research.google.com/github/imshubhangisingh/Python-begginers-Notes/blob/main/4)List_Slicing.ipynb\" target=\"_parent\"><img src=\"https://colab.research.google.com/assets/colab-badge.svg\" alt=\"Open In Colab\"/></a>"
      ]
    },
    {
      "cell_type": "markdown",
      "source": [
        "<center>\n",
        "\n",
        "# Beginner : List Slicing - 27th May 2023\n",
        "`DSML Feb23 Beginner Tue`\n",
        "\n",
        "![](https://images7.memedroid.com/images/UPLOADED870/633c84725a9a8.jpeg)\n",
        "\n",
        "</center>\n"
      ],
      "metadata": {
        "id": "TAZWHcaXzNrt"
      }
    },
    {
      "cell_type": "code",
      "execution_count": null,
      "metadata": {
        "id": "3XC38c78zMkW"
      },
      "outputs": [],
      "source": [
        "## python lists\n",
        "# [] 👈👈👈\n",
        "# allows duplicates\n",
        "# stores anything\n",
        "# maintains order >> indexing, sort\n",
        "# mutable/editable\n",
        "# 2 lists can be added, NOT *,/,-\n",
        "# list and an int can be * but NOT -,/,+"
      ]
    },
    {
      "cell_type": "code",
      "source": [
        "# for i in runs # this cover values\n",
        "# for i in range(len(runs))# 0,1,2,3.....len(runs)-1 # iterating over all the possible indeces in your list"
      ],
      "metadata": {
        "id": "ykfb9G0M592n"
      },
      "execution_count": null,
      "outputs": []
    },
    {
      "cell_type": "markdown",
      "source": [
        "##**Question-1**\n",
        "Given list of all runs by Virat, print runs made in odd matches (Even Indexes).\n",
        "```runs = [62, 85, 74, 10, 12, 101, 122, 99, 81, 55]```"
      ],
      "metadata": {
        "id": "TmJWcV-S70AB"
      }
    },
    {
      "cell_type": "code",
      "source": [
        "runs = [62, 85, 74, 10, 12, 101, 122, 99, 81, 55]\n",
        "for i in range(len(runs)):\n",
        "    if i%2==0:\n",
        "        # print(i, runs[i])\n",
        "        print(runs[i], end=\" \")"
      ],
      "metadata": {
        "colab": {
          "base_uri": "https://localhost:8080/"
        },
        "id": "A4seTpFm62iG",
        "outputId": "d13c0230-9818-475e-d37a-555d9a7be90a"
      },
      "execution_count": null,
      "outputs": [
        {
          "output_type": "stream",
          "name": "stdout",
          "text": [
            "62 74 12 122 81 "
          ]
        }
      ]
    },
    {
      "cell_type": "code",
      "source": [
        "runs = [62, 85, 74, 10, 12, 101, 122, 99, 81, 55]\n",
        "print(runs[0::2])"
      ],
      "metadata": {
        "colab": {
          "base_uri": "https://localhost:8080/"
        },
        "id": "SrFrP_iTWq9A",
        "outputId": "545df8e1-54db-4a54-bcb5-75f25cc79239"
      },
      "execution_count": null,
      "outputs": [
        {
          "output_type": "stream",
          "name": "stdout",
          "text": [
            "[62, 74, 12, 122, 81]\n"
          ]
        }
      ]
    },
    {
      "cell_type": "markdown",
      "source": [
        "## **Question-2**\n",
        "Given list of all runs by Virat, create a new list of runs made in odd matches (Even Indexes).\n",
        "```runs = [62, 85, 74, 10, 12, 101, 122, 99, 81, 55]```\n",
        "\n",
        "Create a function called `odd_runs`, that will take one argument, which is the `runs` list"
      ],
      "metadata": {
        "id": "qFyAOeZx9Gqc"
      }
    },
    {
      "cell_type": "code",
      "source": [
        "def odd_runs(runs):\n",
        "    res = []\n",
        "    for i in range(len(runs)):\n",
        "        if i%2==0:\n",
        "            # print(i, runs[i])\n",
        "            # print(runs[i], end=\" \")\n",
        "            res.append(runs[i])\n",
        "    return res\n",
        "\n",
        "runs = [62, 85, 74, 10, 12, 101, 122, 99, 81, 55]\n",
        "print(  odd_runs(runs)       )"
      ],
      "metadata": {
        "colab": {
          "base_uri": "https://localhost:8080/"
        },
        "id": "AfE7NS-c80oh",
        "outputId": "a335f8f1-ac9b-4207-c04b-bed727842b4d"
      },
      "execution_count": null,
      "outputs": [
        {
          "output_type": "stream",
          "name": "stdout",
          "text": [
            "[62, 74, 12, 122, 81]\n"
          ]
        }
      ]
    },
    {
      "cell_type": "code",
      "source": [
        "runs = [62, 85, 74, 10, 12, 101, 122, 99, 81, 55]\n",
        "print(runs[0::2])"
      ],
      "metadata": {
        "colab": {
          "base_uri": "https://localhost:8080/"
        },
        "id": "Nz5MS_6UWvyX",
        "outputId": "8a2dbfe1-f9a6-426d-bcc2-1d876e230c01"
      },
      "execution_count": null,
      "outputs": [
        {
          "output_type": "stream",
          "name": "stdout",
          "text": [
            "[62, 74, 12, 122, 81]\n"
          ]
        }
      ]
    },
    {
      "cell_type": "markdown",
      "source": [
        "## **Question-3**\n",
        "Given list of all runs by Virat, create a new list of runs made in last 5 matches.\n",
        "```runs = [62, 85, 74, 10, 12, 101, 122, 99, 81, 55]```\n",
        "\n",
        "Output should be: `[101, 122, 99, 81, 55]`"
      ],
      "metadata": {
        "id": "PxpUvFJC-QrD"
      }
    },
    {
      "cell_type": "code",
      "source": [
        "#                      *    *    *   *   *\n",
        "#[62, 85, 74, 10, 12, 101, 122, 99, 81, 55]\n",
        "# 0    1   2   3   4   5    6    7   8   9 <><><>range(len(runs))\n",
        "#                start=5(len(runs)-5)    end =9...len(runs)-1"
      ],
      "metadata": {
        "id": "9nU5M0QG_ED3"
      },
      "execution_count": null,
      "outputs": []
    },
    {
      "cell_type": "code",
      "source": [
        "def last5(runs):\n",
        "    res = []\n",
        "    for i in range(len(runs)-5, len(runs)):\n",
        "        res.append(runs[i])\n",
        "    return res\n",
        "runs = [62, 85, 74, 10, 12, 101, 122, 99, 81, 55]\n",
        "print(  last5(runs)       )"
      ],
      "metadata": {
        "colab": {
          "base_uri": "https://localhost:8080/"
        },
        "id": "vbDfI054-LSa",
        "outputId": "b52067b9-249e-4b9d-ab90-9064ef13062a"
      },
      "execution_count": null,
      "outputs": [
        {
          "output_type": "stream",
          "name": "stdout",
          "text": [
            "[101, 122, 99, 81, 55]\n"
          ]
        }
      ]
    },
    {
      "cell_type": "code",
      "source": [
        "runs = [62, 85, 74, 10, 12, 101, 122, 99, 81, 55]\n",
        "print(runs[-5:])"
      ],
      "metadata": {
        "colab": {
          "base_uri": "https://localhost:8080/"
        },
        "id": "EBDeFqAvWzAY",
        "outputId": "6aaa07d1-f950-405c-d31c-ff8f4c323ef9"
      },
      "execution_count": null,
      "outputs": [
        {
          "output_type": "stream",
          "name": "stdout",
          "text": [
            "[101, 122, 99, 81, 55]\n"
          ]
        }
      ]
    },
    {
      "cell_type": "markdown",
      "source": [
        "## **Question-4**\n",
        "Given list of all runs by Virat, create a new list of runs made in first 3 matches.\n",
        "```runs = [62, 85, 74, 10, 12, 101, 122, 99, 81, 55]```\n",
        "\n",
        "Output should be: `[62, 85, 74]`"
      ],
      "metadata": {
        "id": "w9fF33hhABzN"
      }
    },
    {
      "cell_type": "code",
      "source": [
        "def first3(runs):\n",
        "    res = []\n",
        "    if len(runs)<3:\n",
        "        return []\n",
        "    for i in range(0,3):\n",
        "        res.append(runs[i])\n",
        "    return res\n",
        "\n",
        "runs = [62, 85, 74, 10, 12, 101, 122, 99, 81, 55]\n",
        "print(  first3(runs)       )"
      ],
      "metadata": {
        "colab": {
          "base_uri": "https://localhost:8080/"
        },
        "id": "c9_VSYIi-zjC",
        "outputId": "0ecbe61f-2950-4a24-b6e7-eb3a32d718ff"
      },
      "execution_count": null,
      "outputs": [
        {
          "output_type": "stream",
          "name": "stdout",
          "text": [
            "[62, 85, 74]\n"
          ]
        }
      ]
    },
    {
      "cell_type": "code",
      "source": [
        "runs = [62, 85, 74, 10, 12, 101, 122, 99, 81, 55]\n",
        "print(runs[:3])"
      ],
      "metadata": {
        "colab": {
          "base_uri": "https://localhost:8080/"
        },
        "id": "-RMMgE3AW2Yz",
        "outputId": "6af0859c-d769-4b05-be77-de9c95c525d1"
      },
      "execution_count": null,
      "outputs": [
        {
          "output_type": "stream",
          "name": "stdout",
          "text": [
            "[62, 85, 74]\n"
          ]
        }
      ]
    },
    {
      "cell_type": "markdown",
      "source": [
        "## **Question-5**\n",
        "Given list of all runs by Virat, create a new list of runs made from the 3rd match to the 7th match.\n",
        "```runs = [62, 85, 74, 10, 12, 101, 122, 99, 81, 55]```\n",
        "\n",
        "Output should be: `[74, 10, 12, 101, 122]`\n",
        "\n",
        "You can assume that the list length will be valid"
      ],
      "metadata": {
        "id": "9e4isbCzBHzI"
      }
    },
    {
      "cell_type": "code",
      "source": [
        "def runs3to7(runs):\n",
        "    res = []\n",
        "    for i in range(2, 7):\n",
        "        res.append(runs[i])\n",
        "    return res\n",
        "\n",
        "runs = [62, 85, 74, 10, 12, 101, 122, 99, 81, 55]\n",
        "print(  runs3to7(runs)       )"
      ],
      "metadata": {
        "colab": {
          "base_uri": "https://localhost:8080/"
        },
        "id": "-LObcJtPBWbC",
        "outputId": "a7c10038-da87-4e6b-bf2f-6edeedc1b180"
      },
      "execution_count": null,
      "outputs": [
        {
          "output_type": "stream",
          "name": "stdout",
          "text": [
            "[74, 10, 12, 101, 122]\n"
          ]
        }
      ]
    },
    {
      "cell_type": "code",
      "source": [
        "runs = [62, 85, 74, 10, 12, 101, 122, 99, 81, 55]\n",
        "print(runs[2:7])"
      ],
      "metadata": {
        "colab": {
          "base_uri": "https://localhost:8080/"
        },
        "id": "ndS4I0IlW6eL",
        "outputId": "2ca5313e-c5e6-45d5-8880-6f004a3b892b"
      },
      "execution_count": null,
      "outputs": [
        {
          "output_type": "stream",
          "name": "stdout",
          "text": [
            "[74, 10, 12, 101, 122]\n"
          ]
        }
      ]
    },
    {
      "cell_type": "code",
      "source": [
        "# ask the user to enter an int list\n",
        "n = int(input(\"Hey user, how many numbers you want to enter??: \"))\n",
        "user_list = []\n",
        "for i in range(n):\n",
        "    num = int(input(\"Hey user enter the num: \"))\n",
        "    user_list.append(num)\n",
        "print(\"user_list: \", user_list)"
      ],
      "metadata": {
        "colab": {
          "base_uri": "https://localhost:8080/"
        },
        "id": "ZZFYvNtTB-DL",
        "outputId": "81687f15-e148-480b-b601-0fb542ecd264"
      },
      "execution_count": null,
      "outputs": [
        {
          "output_type": "stream",
          "name": "stdout",
          "text": [
            "Hey user, how many numbers you want to enter??: 5\n",
            "Hey user enter the num: 1\n",
            "Hey user enter the num: 4\n",
            "Hey user enter the num: 7\n",
            "Hey user enter the num: 8\n",
            "Hey user enter the num: 5\n",
            "user_list:  [1, 4, 7, 8, 5]\n"
          ]
        }
      ]
    },
    {
      "cell_type": "code",
      "source": [
        "# slice a python list>> output is ALWAYS a python list 👈👈👈👈👈👈👈👈👈👈"
      ],
      "metadata": {
        "id": "MaTP6q7iCW46"
      },
      "execution_count": null,
      "outputs": []
    },
    {
      "cell_type": "code",
      "source": [
        "#0/+ive ind    0          1      2      3        4\n",
        "avengers = ['iron-man', 'thor', 'cap', 'hulk', 'groot']\n",
        "# -ive ind    -5          -4      -3      -2        -1\n",
        "\n",
        "print(avengers[2])\n",
        "# python list slicing\n",
        "# python_list[2:] # start = 2, keep on going forever\n",
        "print(avengers[2:])"
      ],
      "metadata": {
        "colab": {
          "base_uri": "https://localhost:8080/"
        },
        "id": "VAunpxv-C345",
        "outputId": "4a1143f6-2934-4555-fed5-6c55baa8e918"
      },
      "execution_count": null,
      "outputs": [
        {
          "output_type": "stream",
          "name": "stdout",
          "text": [
            "cap\n",
            "['cap', 'hulk', 'groot']\n"
          ]
        }
      ]
    },
    {
      "cell_type": "code",
      "source": [
        "#0/+ive ind    0          1      2      3        4\n",
        "avengers = ['iron-man', 'thor', 'cap', 'hulk', 'groot']\n",
        "# -ive ind    -5          -4      -3      -2        -1\n",
        "\n",
        "# END is NOT included\n",
        "# list[start:end]>> values at indeces >> start, start+1.....end-1 # stop before end\n",
        "print(avengers[1:4])# >> 1,2,3\n",
        "\n",
        "# question\n",
        "print(avengers[0:2]) # 0,1"
      ],
      "metadata": {
        "colab": {
          "base_uri": "https://localhost:8080/"
        },
        "id": "NFypacLjF1SG",
        "outputId": "3cbfaeea-05d9-43ed-e7bd-dabbbb617de5"
      },
      "execution_count": null,
      "outputs": [
        {
          "output_type": "stream",
          "name": "stdout",
          "text": [
            "['thor', 'cap', 'hulk']\n",
            "['iron-man', 'thor']\n"
          ]
        }
      ]
    },
    {
      "cell_type": "code",
      "source": [
        "# default step is 1\n",
        "\n",
        "#0/+ive ind    0          1      2      3        4\n",
        "avengers = ['iron-man', 'thor', 'cap', 'hulk', 'groot']\n",
        "# -ive ind    -5          -4      -3      -2        -1\n",
        "\n",
        "# END is NOT included\n",
        "# list[start:end:step]>> values at indeces >> start, start+step.....till end\n",
        "# stop before end\n",
        "print(avengers[1:4])# default step is 1\n",
        "print(avengers[1:4:1])\n",
        "print(avengers[1:4:2]) # 1, 3\n",
        "\n",
        "# question\n",
        "print(avengers[0:3:2]) # 0,2\n",
        "print(avengers[-5:-2:2]) # -5, -3(-5+2)"
      ],
      "metadata": {
        "colab": {
          "base_uri": "https://localhost:8080/"
        },
        "id": "OmSd8wEcGSYj",
        "outputId": "97915a3e-d96c-45b5-c61c-7bd2d7fff41a"
      },
      "execution_count": null,
      "outputs": [
        {
          "output_type": "stream",
          "name": "stdout",
          "text": [
            "['thor', 'cap', 'hulk']\n",
            "['thor', 'cap', 'hulk']\n",
            "['thor', 'hulk']\n",
            "['iron-man', 'cap']\n",
            "['iron-man', 'cap']\n"
          ]
        }
      ]
    },
    {
      "cell_type": "markdown",
      "source": [
        "![](data:image/png;base64,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)"
      ],
      "metadata": {
        "id": "gKF4sLDvLAdc"
      }
    },
    {
      "cell_type": "code",
      "source": [
        "# start, end, step are optional\n",
        "# default step is 1\n",
        "\n",
        "# if your step is +ive, start will be left end, end will be right end\n",
        "#0/+ive ind    0          1      2      3        4\n",
        "avengers = ['iron-man', 'thor', 'cap', 'hulk', 'groot']\n",
        "# -ive ind    -5          -4      -3      -2        -1\n",
        "print(avengers[2:]) # step is 1, 1 is +ive, end will be the right end\n",
        "print(avengers[:4:2]) # step is 2, end =4, step 2 is +ive, start will be left end\n",
        "\n",
        "# if your step is -ive, start will be right end, end will be left end\n",
        "print(avengers[::-1]) # step -1, -1 is -ve, start will be right end, end will be left end\n",
        "# reverse a list\n",
        "print(avengers[4::-2]) # step = -2, -2 is -ve, start is 4, end will be left end\n",
        "print(avengers[:0:-3]) # step =-3, start will be right end, end = 0"
      ],
      "metadata": {
        "colab": {
          "base_uri": "https://localhost:8080/"
        },
        "id": "V7cHQ479IlLD",
        "outputId": "ee213616-fb4b-48b2-fb95-4f36b8a686fc"
      },
      "execution_count": null,
      "outputs": [
        {
          "output_type": "stream",
          "name": "stdout",
          "text": [
            "['cap', 'hulk', 'groot']\n",
            "['iron-man', 'cap']\n",
            "['groot', 'hulk', 'cap', 'thor', 'iron-man']\n",
            "['groot', 'cap', 'iron-man']\n",
            "['groot', 'thor']\n"
          ]
        }
      ]
    },
    {
      "cell_type": "code",
      "source": [
        "#0/+ive ind    0          1      2      3        4\n",
        "avengers = ['iron-man', 'thor', 'cap', 'hulk', 'groot']\n",
        "# -ive ind    -5          -4      -3      -2        -1\n",
        "print(avengers[4:0:2])\n",
        "print(avengers[1:1000:2])# start = 1, end=1000, step =2\n",
        "print(avengers[3])\n",
        "print(avengers[3:3+1])\n",
        "print(avengers[1000:1000+1])\n",
        "\n",
        "print(avengers[4 : : -2]) # start = 4, end=left side, step =-2 (-ive)"
      ],
      "metadata": {
        "colab": {
          "base_uri": "https://localhost:8080/"
        },
        "id": "wrMy7k8yLIu2",
        "outputId": "95403f7a-bdfa-4d39-da23-7f06c175ccfe"
      },
      "execution_count": null,
      "outputs": [
        {
          "output_type": "stream",
          "name": "stdout",
          "text": [
            "[]\n",
            "['thor', 'hulk']\n",
            "hulk\n",
            "['hulk']\n",
            "[]\n",
            "['groot', 'cap', 'iron-man']\n"
          ]
        }
      ]
    },
    {
      "cell_type": "code",
      "source": [
        "print(\"i love python\".split(\"o\"))\n",
        "print(\"i love python\".split()) # default split is on white space"
      ],
      "metadata": {
        "colab": {
          "base_uri": "https://localhost:8080/"
        },
        "id": "ZekjlqgkPVZO",
        "outputId": "6af55a7b-b92c-45c3-f097-e458ae7c4968"
      },
      "execution_count": null,
      "outputs": [
        {
          "output_type": "stream",
          "name": "stdout",
          "text": [
            "['i l', 've pyth', 'n']\n",
            "['i', 'love', 'python']\n"
          ]
        }
      ]
    },
    {
      "cell_type": "code",
      "source": [
        "user_input = input(\"User enter your space seperated integers: \") # storing as a str\n",
        "print(\"user_input before split: \", user_input)\n",
        "user_input = user_input.split() # list of str, each element is a number in str form\n",
        "print(\"user_input after split: \", user_input)\n",
        "for i in range(len(user_input)):\n",
        "    user_input[i] = int(user_input[i])\n",
        "print(\"The user eneterd: \", user_input)"
      ],
      "metadata": {
        "colab": {
          "base_uri": "https://localhost:8080/"
        },
        "id": "wyyrknDZO8LB",
        "outputId": "16b40863-6a77-4c96-9e19-976c924e9031"
      },
      "execution_count": null,
      "outputs": [
        {
          "output_type": "stream",
          "name": "stdout",
          "text": [
            "User enter your space seperated integers: 1 10 -20 456\n",
            "user_input before split:  1 10 -20 456\n",
            "user_input after split:  ['1', '10', '-20', '456']\n",
            "The user eneterd:  [1, 10, -20, 456]\n"
          ]
        }
      ]
    },
    {
      "cell_type": "code",
      "source": [
        "## practice question 1\n",
        "#     0  1    2   3   4   5   6   7   8   9\n",
        "a = [10, 20, 30, 40, 50, 60, 70, 80, 90, 100]\n",
        "#    -10 -9  -8  -7  -6  -5  -4  -3  -2   -1\n",
        "print(a[:-5])# step =1 (+ive), start: is left side, end -5\n",
        "print(a[:5])"
      ],
      "metadata": {
        "colab": {
          "base_uri": "https://localhost:8080/"
        },
        "id": "N3Xm4KrxP-Rt",
        "outputId": "2c382718-5dbd-4863-d0eb-294697c5050d"
      },
      "execution_count": null,
      "outputs": [
        {
          "output_type": "stream",
          "name": "stdout",
          "text": [
            "[10, 20, 30, 40, 50]\n",
            "[10, 20, 30, 40, 50]\n"
          ]
        }
      ]
    },
    {
      "cell_type": "code",
      "source": [
        "## practice question 2\n",
        "#     0  1    2   3   4   5   6   7   8   9\n",
        "a = [10, 20, 30, 40, 50, 60, 70, 80, 90, 100]\n",
        "#    -10 -9  -8  -7  -6  -5  -4  -3  -2   -1\n",
        "print(a[-9:5])# step =1, start = -9, end=5\n",
        "print(a[1:5])\n",
        "print(a[-9:-5])\n",
        "print(a[1:-5])"
      ],
      "metadata": {
        "colab": {
          "base_uri": "https://localhost:8080/"
        },
        "id": "hsBs0SACRQpv",
        "outputId": "c3ba3629-cf9d-4d8f-e703-cc54afb8742a"
      },
      "execution_count": null,
      "outputs": [
        {
          "output_type": "stream",
          "name": "stdout",
          "text": [
            "[20, 30, 40, 50]\n",
            "[20, 30, 40, 50]\n",
            "[20, 30, 40, 50]\n",
            "[20, 30, 40, 50]\n"
          ]
        }
      ]
    },
    {
      "cell_type": "code",
      "source": [
        "# Quick fire questions\n",
        "##             0   1  2    3   4   5   6   7   8   9   10\n",
        "python_list = [0, 10, 20, 30, 40, 50, 60, 70, 80, 90, 100]\n",
        "##            -11 -10 -9  -8  -7  -6  -5  -4  -3  -2   -1"
      ],
      "metadata": {
        "id": "qCPqQIS4RpkZ"
      },
      "execution_count": null,
      "outputs": []
    },
    {
      "cell_type": "code",
      "source": [
        "print(\"Quick-Question: 10\",      python_list[-8:5:-1])"
      ],
      "metadata": {
        "colab": {
          "base_uri": "https://localhost:8080/"
        },
        "id": "TOcBee2PVoS5",
        "outputId": "c3414200-86b0-47f6-d7ba-81e50dc7262d"
      },
      "execution_count": null,
      "outputs": [
        {
          "output_type": "stream",
          "name": "stdout",
          "text": [
            "Quick-Question: 10 []\n"
          ]
        }
      ]
    },
    {
      "cell_type": "code",
      "source": [
        "print(\"Quick-Question: 9\",       python_list[-8:5])"
      ],
      "metadata": {
        "colab": {
          "base_uri": "https://localhost:8080/"
        },
        "id": "-NA8q0GoVUbp",
        "outputId": "23a2fedd-8a54-4990-bf8b-1d3847de68f5"
      },
      "execution_count": null,
      "outputs": [
        {
          "output_type": "stream",
          "name": "stdout",
          "text": [
            "Quick-Question: 9 [30, 40]\n"
          ]
        }
      ]
    },
    {
      "cell_type": "code",
      "source": [
        "print(\"Quick-Question: 8\",       python_list[-2:])"
      ],
      "metadata": {
        "colab": {
          "base_uri": "https://localhost:8080/"
        },
        "id": "yIfeCJ1tUvFr",
        "outputId": "a9a657c4-fc30-44f1-e56f-2b3121634aba"
      },
      "execution_count": null,
      "outputs": [
        {
          "output_type": "stream",
          "name": "stdout",
          "text": [
            "Quick-Question: 8 [90, 100]\n"
          ]
        }
      ]
    },
    {
      "cell_type": "code",
      "source": [
        "print(\"Quick-Question: 7\",       python_list[:-5])"
      ],
      "metadata": {
        "colab": {
          "base_uri": "https://localhost:8080/"
        },
        "id": "tOToPj9QUWTu",
        "outputId": "c043a052-5a9b-43b0-8108-e7f697a64691"
      },
      "execution_count": null,
      "outputs": [
        {
          "output_type": "stream",
          "name": "stdout",
          "text": [
            "Quick-Question: 7 [0, 10, 20, 30, 40, 50]\n"
          ]
        }
      ]
    },
    {
      "cell_type": "code",
      "source": [
        "print(\"Quick-Question: 6\",       python_list[-2:-7])\n",
        "print(\"Quick-Question: 6\",       python_list[9 : 4])"
      ],
      "metadata": {
        "colab": {
          "base_uri": "https://localhost:8080/"
        },
        "id": "v_OIWr0TTyOg",
        "outputId": "0fbda3e2-314c-43ab-92d2-a00b66ae1e10"
      },
      "execution_count": null,
      "outputs": [
        {
          "output_type": "stream",
          "name": "stdout",
          "text": [
            "Quick-Question: 6 []\n",
            "Quick-Question: 6 []\n"
          ]
        }
      ]
    },
    {
      "cell_type": "code",
      "source": [
        "print(\"Quick-Question: 5\",       python_list[-2:-5:-1])"
      ],
      "metadata": {
        "colab": {
          "base_uri": "https://localhost:8080/"
        },
        "id": "hD_ONQtZTYNd",
        "outputId": "6085508d-75b6-49f9-9172-0fb462254722"
      },
      "execution_count": null,
      "outputs": [
        {
          "output_type": "stream",
          "name": "stdout",
          "text": [
            "Quick-Question: 5 [90, 80, 70]\n"
          ]
        }
      ]
    },
    {
      "cell_type": "code",
      "source": [
        "print(\"Quick-Question: 4\",       python_list[7:])"
      ],
      "metadata": {
        "colab": {
          "base_uri": "https://localhost:8080/"
        },
        "id": "Aac_1GfTS9Sj",
        "outputId": "38954ee4-5f0c-4c3f-aa76-8ef1ad088a8e"
      },
      "execution_count": null,
      "outputs": [
        {
          "output_type": "stream",
          "name": "stdout",
          "text": [
            "Quick-Question: 4 [70, 80, 90, 100]\n"
          ]
        }
      ]
    },
    {
      "cell_type": "code",
      "source": [
        "print(\"Quick-Question: 3\",       python_list[:])"
      ],
      "metadata": {
        "colab": {
          "base_uri": "https://localhost:8080/"
        },
        "id": "pUoNNP4SSssP",
        "outputId": "ecebd471-495c-422b-c3a2-3453236a772b"
      },
      "execution_count": null,
      "outputs": [
        {
          "output_type": "stream",
          "name": "stdout",
          "text": [
            "Quick-Question: 3 [0, 10, 20, 30, 40, 50, 60, 70, 80, 90, 100]\n"
          ]
        }
      ]
    },
    {
      "cell_type": "code",
      "source": [
        "print(\"Quick-Question: 2\",       python_list[:8])"
      ],
      "metadata": {
        "colab": {
          "base_uri": "https://localhost:8080/"
        },
        "id": "nS14RnjoSaBF",
        "outputId": "5fc328f5-d0a4-4305-9afd-325297d39157"
      },
      "execution_count": null,
      "outputs": [
        {
          "output_type": "stream",
          "name": "stdout",
          "text": [
            "Quick-Question: 2 [0, 10, 20, 30, 40, 50, 60, 70]\n"
          ]
        }
      ]
    },
    {
      "cell_type": "code",
      "source": [
        "print(\"Quick-Question: 1\",       python_list[3:5])"
      ],
      "metadata": {
        "colab": {
          "base_uri": "https://localhost:8080/"
        },
        "id": "Q8jaNpz7SOqf",
        "outputId": "30e92390-7601-427f-9953-7c0cc5dd5711"
      },
      "execution_count": null,
      "outputs": [
        {
          "output_type": "stream",
          "name": "stdout",
          "text": [
            "Quick-Question: 1 [30, 40]\n"
          ]
        }
      ]
    }
  ]
}