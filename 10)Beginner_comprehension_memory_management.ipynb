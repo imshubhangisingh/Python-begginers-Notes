{
  "nbformat": 4,
  "nbformat_minor": 0,
  "metadata": {
    "colab": {
      "provenance": [],
      "include_colab_link": true
    },
    "kernelspec": {
      "name": "python3",
      "display_name": "Python 3"
    },
    "language_info": {
      "name": "python"
    }
  },
  "cells": [
    {
      "cell_type": "markdown",
      "metadata": {
        "id": "view-in-github",
        "colab_type": "text"
      },
      "source": [
        "<a href=\"https://colab.research.google.com/github/imshubhangisingh/Python-begginers-Notes/blob/main/10)Beginner_comprehension_memory_management.ipynb\" target=\"_parent\"><img src=\"https://colab.research.google.com/assets/colab-badge.svg\" alt=\"Open In Colab\"/></a>"
      ]
    },
    {
      "cell_type": "markdown",
      "source": [
        "<center>\n",
        "\n",
        "# Beginner : Comprehension & Memory Management - 13th June 2023\n",
        "\n",
        "\n",
        "![](https://pbs.twimg.com/media/EVpIVrhU0AEVa9y.jpg)\n",
        "\n",
        "Meme of the day\n",
        "\n",
        "</center>"
      ],
      "metadata": {
        "id": "gCnn146cXK8S"
      }
    },
    {
      "cell_type": "code",
      "execution_count": null,
      "metadata": {
        "id": "6E3e8_4ZXIk-"
      },
      "outputs": [],
      "source": [
        "# RECAP\n",
        "# id()\n",
        "# comprehension >> list, dict"
      ]
    },
    {
      "cell_type": "code",
      "source": [
        "# 😲😲😲RECAP😲😲😲"
      ],
      "metadata": {
        "id": "c3JB4aLFbEXb"
      },
      "execution_count": null,
      "outputs": []
    },
    {
      "cell_type": "code",
      "source": [
        "## primitive DS\n",
        "### int, str, float, None, bool\n",
        "#### immutable, single value at a time"
      ],
      "metadata": {
        "id": "uq7kOsg5bCri"
      },
      "execution_count": null,
      "outputs": []
    },
    {
      "cell_type": "code",
      "source": [
        "#### Non-primitve DS\n",
        "## list, tuple, set, dict"
      ],
      "metadata": {
        "id": "aiJr_jtvbZHv"
      },
      "execution_count": null,
      "outputs": []
    },
    {
      "cell_type": "code",
      "source": [
        "## list 📃\n",
        "# []\n",
        "# can store any data type\n",
        "# duplicate data is allowed\n",
        "# ordered >> you can use indexing, sort, etc\n",
        "# mutable/ editable"
      ],
      "metadata": {
        "id": "QznKN3tBbh39"
      },
      "execution_count": null,
      "outputs": []
    },
    {
      "cell_type": "code",
      "source": [
        "## tuple 👀\n",
        "# ()\n",
        "# can store any data type\n",
        "# duplicates are allowed\n",
        "# maintains order >> index, ❌sorting❌\n",
        "# immutable/ non-editable"
      ],
      "metadata": {
        "id": "h23ofdO3byTi"
      },
      "execution_count": null,
      "outputs": []
    },
    {
      "cell_type": "code",
      "source": [
        "## set 📐\n",
        "# emptySet = set()\n",
        "# {e1, e2, e3....}\n",
        "# can store any data type that is immutable, NO mutable DS are allowed\n",
        "# no duplicates\n",
        "# unordered >> no index, no sorting\n",
        "# mutable/editable\n",
        "\n",
        "# quick search is VERY VERY VERY FAST\n",
        "\"groot\" in {'iron-man', 'cap', 'hulk'}"
      ],
      "metadata": {
        "colab": {
          "base_uri": "https://localhost:8080/"
        },
        "id": "mlJa7sNicTdb",
        "outputId": "37ee2cb6-c5f1-4253-f3ce-e11af891324e"
      },
      "execution_count": null,
      "outputs": [
        {
          "output_type": "execute_result",
          "data": {
            "text/plain": [
              "False"
            ]
          },
          "metadata": {},
          "execution_count": 2
        }
      ]
    },
    {
      "cell_type": "code",
      "source": [
        "## dict 📖\n",
        "# key:value pairs\n",
        "# >>> key to dict, output value, VERY FAST\n",
        "# {}\n",
        "# {k1:v1, k2:v2,....}\n",
        "# # keys in a python dict have to be unique as well as immutable\n",
        "# # values in a python dict can be of any data type\n",
        "# keys should be unique, values can have duplicates\n",
        "# unordered >> no index, no sorting\n",
        "# mutable/editable"
      ],
      "metadata": {
        "id": "Yz9GV01PdN1f"
      },
      "execution_count": null,
      "outputs": []
    },
    {
      "cell_type": "code",
      "source": [
        "# 😲😲😲RECAP ENDS😲😲😲"
      ],
      "metadata": {
        "id": "Fwt-wMJBeqjM"
      },
      "execution_count": null,
      "outputs": []
    },
    {
      "cell_type": "code",
      "source": [
        "# mutable and immutable\n",
        "# id function"
      ],
      "metadata": {
        "id": "IxL7BbLwetDE"
      },
      "execution_count": null,
      "outputs": []
    },
    {
      "cell_type": "code",
      "source": [
        "a = 2\n",
        "print(a, id(a), sep = \"------\")"
      ],
      "metadata": {
        "colab": {
          "base_uri": "https://localhost:8080/"
        },
        "id": "3KPg9dunf-m4",
        "outputId": "83bd7d87-94c1-4586-a1e0-484a26b43c5d"
      },
      "execution_count": null,
      "outputs": [
        {
          "output_type": "stream",
          "name": "stdout",
          "text": [
            "2------139795091882256\n"
          ]
        }
      ]
    },
    {
      "cell_type": "code",
      "source": [
        "a = 2\n",
        "a = a + 5\n",
        "print(a, id(a), sep = \"------\")"
      ],
      "metadata": {
        "colab": {
          "base_uri": "https://localhost:8080/"
        },
        "id": "qeXhjpHNgApD",
        "outputId": "f079891f-337d-4b1a-c378-37578485680c"
      },
      "execution_count": null,
      "outputs": [
        {
          "output_type": "stream",
          "name": "stdout",
          "text": [
            "7------139795091882416\n"
          ]
        }
      ]
    },
    {
      "cell_type": "code",
      "source": [
        "b = [1,2,3,4,5]\n",
        "print(b, id(b), sep = \"------\")\n",
        "b [2] = 100\n",
        "print(b, id(b), sep = \"------\")"
      ],
      "metadata": {
        "colab": {
          "base_uri": "https://localhost:8080/"
        },
        "id": "p5dqaelfgkUG",
        "outputId": "9d9bea1b-997c-44be-d1bc-b1cd5def9a2a"
      },
      "execution_count": null,
      "outputs": [
        {
          "output_type": "stream",
          "name": "stdout",
          "text": [
            "[1, 2, 3, 4, 5]------139793842798848\n",
            "[1, 2, 100, 4, 5]------139793842798848\n"
          ]
        }
      ]
    },
    {
      "cell_type": "code",
      "source": [
        "## 😎😎😎 comprehension 😎😎😎"
      ],
      "metadata": {
        "id": "SoV9UVImhEas"
      },
      "execution_count": null,
      "outputs": []
    },
    {
      "cell_type": "code",
      "source": [
        "# standard programming\n",
        "sqr_list = []\n",
        "for num in range(1,6):\n",
        "    sqr_list.append(num**2)\n",
        "print(sqr_list)"
      ],
      "metadata": {
        "colab": {
          "base_uri": "https://localhost:8080/"
        },
        "id": "RZ0md4FAhLHk",
        "outputId": "1ee4e8c8-2c77-4af2-f897-d03dbaca2487"
      },
      "execution_count": null,
      "outputs": [
        {
          "output_type": "stream",
          "name": "stdout",
          "text": [
            "[1, 4, 9, 16, 25]\n"
          ]
        }
      ]
    },
    {
      "cell_type": "code",
      "source": [
        "# store the square of the num for all the nums in range(1,6)\n",
        "# is list comprehension\n",
        "\n",
        "# [<what to store>  <for loop>]\n",
        "[num**2 for num in range(1,6)]"
      ],
      "metadata": {
        "colab": {
          "base_uri": "https://localhost:8080/"
        },
        "id": "tSSblTFYhgqF",
        "outputId": "6ad7383e-0030-4e9f-a61b-52d0c5745d14"
      },
      "execution_count": null,
      "outputs": [
        {
          "output_type": "execute_result",
          "data": {
            "text/plain": [
              "[1, 4, 9, 16, 25]"
            ]
          },
          "metadata": {},
          "execution_count": 10
        }
      ]
    },
    {
      "cell_type": "code",
      "source": [
        "sqr_list = [num**2 for num in range(1,6)]\n",
        "print(sqr_list)"
      ],
      "metadata": {
        "colab": {
          "base_uri": "https://localhost:8080/"
        },
        "id": "vgiqVkelipcP",
        "outputId": "946733ea-3fde-49b0-effd-e34777066d60"
      },
      "execution_count": null,
      "outputs": [
        {
          "output_type": "stream",
          "name": "stdout",
          "text": [
            "[1, 4, 9, 16, 25]\n"
          ]
        }
      ]
    },
    {
      "cell_type": "code",
      "source": [
        "# not faster or memory efficient then the standard programming, it is the SAME\n",
        "# it is concise and more readable though for a human 👦"
      ],
      "metadata": {
        "id": "YGDtJW37l4Ba"
      },
      "execution_count": null,
      "outputs": []
    },
    {
      "cell_type": "code",
      "source": [
        "# use list comprehension and the range(1,6)\n",
        "# Exercise: print [100, 200, 300, 400, 500]\n",
        "print([num for num in range(1,6)])\n",
        "# [<what to store>  <for loop>]\n",
        "print([num*100 for num in range(1,6)])"
      ],
      "metadata": {
        "colab": {
          "base_uri": "https://localhost:8080/"
        },
        "id": "x-55HZ1diyfz",
        "outputId": "54c29ad3-61b5-46ca-ffe4-83858d25621b"
      },
      "execution_count": null,
      "outputs": [
        {
          "output_type": "stream",
          "name": "stdout",
          "text": [
            "[1, 2, 3, 4, 5]\n",
            "[100, 200, 300, 400, 500]\n"
          ]
        }
      ]
    },
    {
      "cell_type": "code",
      "source": [
        "print([f'I like {num}' for num in range(1,6)])\n",
        "#     [<what to store>  <for loop>]"
      ],
      "metadata": {
        "colab": {
          "base_uri": "https://localhost:8080/"
        },
        "id": "Io9pytQSjTyi",
        "outputId": "fb63bc9c-16c2-47cc-b97c-16946ca92ad1"
      },
      "execution_count": null,
      "outputs": [
        {
          "output_type": "stream",
          "name": "stdout",
          "text": [
            "['I like 1', 'I like 2', 'I like 3', 'I like 4', 'I like 5']\n"
          ]
        }
      ]
    },
    {
      "cell_type": "code",
      "source": [
        "#     [<what to store>  <for loop>]\n",
        "print([0 for num in range(10)])"
      ],
      "metadata": {
        "colab": {
          "base_uri": "https://localhost:8080/"
        },
        "id": "Kgw4lI1Njgob",
        "outputId": "2fd4e81e-c971-4c93-cdf2-85de9bf3507e"
      },
      "execution_count": null,
      "outputs": [
        {
          "output_type": "stream",
          "name": "stdout",
          "text": [
            "[0, 0, 0, 0, 0, 0, 0, 0, 0, 0]\n"
          ]
        }
      ]
    },
    {
      "cell_type": "code",
      "source": [
        "# standard programming\n",
        "even_list = []\n",
        "for num in range(1,15):\n",
        "    if num%2==0:\n",
        "        even_list.append(num)\n",
        "print(even_list)"
      ],
      "metadata": {
        "colab": {
          "base_uri": "https://localhost:8080/"
        },
        "id": "dlEBTylWjvNL",
        "outputId": "aec4e3a6-f171-429a-f7eb-2a4c6a848ca0"
      },
      "execution_count": null,
      "outputs": [
        {
          "output_type": "stream",
          "name": "stdout",
          "text": [
            "[2, 4, 6, 8, 10, 12, 14]\n"
          ]
        }
      ]
    },
    {
      "cell_type": "code",
      "source": [
        "# store the num for num in range of 1 to 15 only if the num is even\n",
        "#[<what to store>  <for loop> <when to store>]\n",
        "[num    for num in range(1,15)   if num%2==0]"
      ],
      "metadata": {
        "colab": {
          "base_uri": "https://localhost:8080/"
        },
        "id": "rc9BFHgLkRAU",
        "outputId": "f1dcfb14-a91c-433d-9e11-ab8b07176038"
      },
      "execution_count": null,
      "outputs": [
        {
          "output_type": "execute_result",
          "data": {
            "text/plain": [
              "[2, 4, 6, 8, 10, 12, 14]"
            ]
          },
          "metadata": {},
          "execution_count": 18
        }
      ]
    },
    {
      "cell_type": "code",
      "source": [
        "# using list comprehension\n",
        "# Exercise: printing multiples of 4 in the range 1 to 15\n",
        "# [4,8,12]\n",
        "print([num for num in range(1,15) if num%4==0])"
      ],
      "metadata": {
        "colab": {
          "base_uri": "https://localhost:8080/"
        },
        "id": "IaO5b8o1k0i1",
        "outputId": "bb20ce13-4d93-4395-ad90-e98cc80c6222"
      },
      "execution_count": null,
      "outputs": [
        {
          "output_type": "stream",
          "name": "stdout",
          "text": [
            "[4, 8, 12]\n"
          ]
        }
      ]
    },
    {
      "cell_type": "code",
      "source": [
        "# ask the user for their age in years\n",
        "# and tell them whether they can vote or not\n",
        "# assume people with age>=18 can vote\n",
        "\n",
        "age = int(input(\"Hey friend, don't be angry, but what is your age: \"))\n",
        "if age>=18:\n",
        "    print('GO vote')\n",
        "else:\n",
        "    print(\"You cannot vote\")"
      ],
      "metadata": {
        "colab": {
          "base_uri": "https://localhost:8080/"
        },
        "id": "ILdIuvnaldPs",
        "outputId": "a7b4c1ef-1249-48ec-d476-d235160eaa91"
      },
      "execution_count": null,
      "outputs": [
        {
          "output_type": "stream",
          "name": "stdout",
          "text": [
            "Hey friend, don't be angry, but what is your age: 25\n",
            "GO vote\n"
          ]
        }
      ]
    },
    {
      "cell_type": "code",
      "source": [
        "# go vote if age>=18 else you cant vote\n",
        "age = 25\n",
        "print('GO vote' if age>=18 else \"You cannot vote\")"
      ],
      "metadata": {
        "colab": {
          "base_uri": "https://localhost:8080/"
        },
        "id": "kdcZDwKom6-U",
        "outputId": "5b385c4d-eb80-4a57-8f02-48ea905a6feb"
      },
      "execution_count": null,
      "outputs": [
        {
          "output_type": "stream",
          "name": "stdout",
          "text": [
            "GO vote\n"
          ]
        }
      ]
    },
    {
      "cell_type": "code",
      "source": [
        "age = 5\n",
        "# <the value if condition is True> if <condition> else <the value if condition is False>\n",
        "print('GO vote' if age>=18 else \"You cannot vote\")"
      ],
      "metadata": {
        "colab": {
          "base_uri": "https://localhost:8080/"
        },
        "id": "1XW2yqcJnPGW",
        "outputId": "4b2cf842-ceb2-4d82-9626-b2600d2fd2e6"
      },
      "execution_count": null,
      "outputs": [
        {
          "output_type": "stream",
          "name": "stdout",
          "text": [
            "You cannot vote\n"
          ]
        }
      ]
    },
    {
      "cell_type": "code",
      "source": [
        "age = 5\n",
        "# <the value if condition is True> if <condition> else <the value if condition is False>\n",
        "my_decision = 'GO vote' if age>=18 else \"You cannot vote\"\n",
        "print(my_decision)"
      ],
      "metadata": {
        "colab": {
          "base_uri": "https://localhost:8080/"
        },
        "id": "Wn3xo1linP57",
        "outputId": "e392ff15-4b84-4bf6-80a4-1e41e777deb0"
      },
      "execution_count": null,
      "outputs": [
        {
          "output_type": "stream",
          "name": "stdout",
          "text": [
            "You cannot vote\n"
          ]
        }
      ]
    },
    {
      "cell_type": "code",
      "source": [
        "age = 5\n",
        "# <the value if condition is True> if <condition> else <the value if condition is False>\n",
        "my_decision = 'GO vote' if age>=18\n",
        "print(my_decision)"
      ],
      "metadata": {
        "colab": {
          "base_uri": "https://localhost:8080/",
          "height": 132
        },
        "id": "f6eoezopnpv1",
        "outputId": "1f4321aa-fa60-4568-a6c0-12aa21e348f3"
      },
      "execution_count": null,
      "outputs": [
        {
          "output_type": "error",
          "ename": "SyntaxError",
          "evalue": "ignored",
          "traceback": [
            "\u001b[0;36m  File \u001b[0;32m\"<ipython-input-26-e18c9f0de531>\"\u001b[0;36m, line \u001b[0;32m3\u001b[0m\n\u001b[0;31m    my_decision = 'GO vote' if age>=18\u001b[0m\n\u001b[0m                  ^\u001b[0m\n\u001b[0;31mSyntaxError\u001b[0m\u001b[0;31m:\u001b[0m expected 'else' after 'if' expression\n"
          ]
        }
      ]
    },
    {
      "cell_type": "code",
      "source": [
        "# ask the user for a number(int), with a single line if-else\n",
        "# tell if the number is even OR odd\n",
        "num = int(input())\n",
        "# <the value if condition is True> if <condition> else <the value if condition is False>\n",
        "print('even' if num%2==0 else 'odd')"
      ],
      "metadata": {
        "colab": {
          "base_uri": "https://localhost:8080/"
        },
        "id": "OWOnuuLvnywx",
        "outputId": "ce8ff2b2-8803-4b78-eb87-5a06bf747f9d"
      },
      "execution_count": null,
      "outputs": [
        {
          "output_type": "stream",
          "name": "stdout",
          "text": [
            "100\n",
            "even\n"
          ]
        }
      ]
    },
    {
      "cell_type": "code",
      "source": [
        "num = int(input())\n",
        "# <the value if condition is True> if <condition> else <the value if condition is False>\n",
        "print(f'{num} is even' if num%2==0 else f'{num} is odd')"
      ],
      "metadata": {
        "colab": {
          "base_uri": "https://localhost:8080/"
        },
        "id": "Nsd5rcKao1zb",
        "outputId": "afb323d2-55ab-47dd-a9e0-59b6f5595b81"
      },
      "execution_count": null,
      "outputs": [
        {
          "output_type": "stream",
          "name": "stdout",
          "text": [
            "50\n",
            "50 is even\n"
          ]
        }
      ]
    },
    {
      "cell_type": "code",
      "source": [
        "# go from 1 to 20 and for all multiples of 3 print(odd, even)\n",
        "# ['3 is odd', '6 is even', '9 is odd', '12 is even', '15 is odd', '18 is even']\n",
        "# only using list comprehension and single line if-else statements\n",
        "\n",
        "## STEPS\n",
        "# 1 just go over the range\n",
        "#[<what to store>  <for loop> <when to store>]\n",
        "print([num for num in range(1,20)])\n",
        "# 2 make sure the output happens for only multiples of 3\n",
        "print([num for num in range(1,20) if num%3==0])\n",
        "# 3 instead of the num as output, give if it is even or odd\n",
        "print([f'{num} is even' if num%2==0 else f'{num} is odd' for num in range(1,20) if num%3==0])"
      ],
      "metadata": {
        "colab": {
          "base_uri": "https://localhost:8080/"
        },
        "id": "Q5OhUtSopR_6",
        "outputId": "31a8db65-f820-425c-859d-2807be82bf65"
      },
      "execution_count": null,
      "outputs": [
        {
          "output_type": "stream",
          "name": "stdout",
          "text": [
            "[1, 2, 3, 4, 5, 6, 7, 8, 9, 10, 11, 12, 13, 14, 15, 16, 17, 18, 19]\n",
            "[3, 6, 9, 12, 15, 18]\n",
            "['3 is odd', '6 is even', '9 is odd', '12 is even', '15 is odd', '18 is even']\n"
          ]
        }
      ]
    },
    {
      "cell_type": "code",
      "source": [
        "# sets comprehension\n",
        "print({f'{num} is even' if num%2==0 else f'{num} is odd' for num in range(1,20) if num%3==0})"
      ],
      "metadata": {
        "colab": {
          "base_uri": "https://localhost:8080/"
        },
        "id": "uVZCFSteq8mL",
        "outputId": "91026e11-e66d-4334-889f-adb9f3220bbb"
      },
      "execution_count": null,
      "outputs": [
        {
          "output_type": "stream",
          "name": "stdout",
          "text": [
            "{'15 is odd', '6 is even', '3 is odd', '18 is even', '12 is even', '9 is odd'}\n"
          ]
        }
      ]
    },
    {
      "cell_type": "code",
      "source": [
        "# tuple comprehension, not really\n",
        "print(tuple(f'{num} is even' if num%2==0 else f'{num} is odd' for num in range(1,20) if num%3==0))"
      ],
      "metadata": {
        "colab": {
          "base_uri": "https://localhost:8080/"
        },
        "id": "6orOZzP8u8hr",
        "outputId": "71e1c35b-b43c-4513-a477-2648b3eaae00"
      },
      "execution_count": null,
      "outputs": [
        {
          "output_type": "stream",
          "name": "stdout",
          "text": [
            "('3 is odd', '6 is even', '9 is odd', '12 is even', '15 is odd', '18 is even')\n"
          ]
        }
      ]
    },
    {
      "cell_type": "code",
      "source": [
        "# dict comprehension\n",
        "output = {f'{num} is even' if num%2==0 else f'{num} is odd' for num in range(1,20) if num%3==0}\n",
        "print(type(output))"
      ],
      "metadata": {
        "colab": {
          "base_uri": "https://localhost:8080/"
        },
        "id": "BDLWm10uvS7S",
        "outputId": "bd510d90-d201-4713-dfd8-4dbc197e68c9"
      },
      "execution_count": null,
      "outputs": [
        {
          "output_type": "stream",
          "name": "stdout",
          "text": [
            "<class 'set'>\n"
          ]
        }
      ]
    },
    {
      "cell_type": "code",
      "source": [
        "# dict comprehension >> dict\n",
        "#{<what to store>> key:value>  <for loop> <when to store>}"
      ],
      "metadata": {
        "id": "b9pxi-Ibvuqa"
      },
      "execution_count": null,
      "outputs": []
    },
    {
      "cell_type": "code",
      "source": [
        "sqr_list = [num**2 for num in range(1,6)]\n",
        "print(sqr_list)"
      ],
      "metadata": {
        "colab": {
          "base_uri": "https://localhost:8080/"
        },
        "id": "ck-RoXUOwFmD",
        "outputId": "8a7628b5-4367-4fee-954f-f3d66ddaded9"
      },
      "execution_count": null,
      "outputs": [
        {
          "output_type": "stream",
          "name": "stdout",
          "text": [
            "[1, 4, 9, 16, 25]\n"
          ]
        }
      ]
    },
    {
      "cell_type": "code",
      "source": [
        "sqr_dict = {num:num**2 for num in range(1,6)}\n",
        "print(sqr_dict)"
      ],
      "metadata": {
        "colab": {
          "base_uri": "https://localhost:8080/"
        },
        "id": "btyI63FhwG1z",
        "outputId": "b7bdef81-4484-4bd3-d0ad-482983f7afda"
      },
      "execution_count": null,
      "outputs": [
        {
          "output_type": "stream",
          "name": "stdout",
          "text": [
            "{1: 1, 2: 4, 3: 9, 4: 16, 5: 25}\n"
          ]
        }
      ]
    },
    {
      "cell_type": "code",
      "source": [
        "sqr_dict = {num**2:num for num in range(1,6)}\n",
        "print(sqr_dict)"
      ],
      "metadata": {
        "colab": {
          "base_uri": "https://localhost:8080/"
        },
        "id": "x3fcMWh4wOM7",
        "outputId": "fdcdf893-17f3-4247-dfe0-52fb9e9a511a"
      },
      "execution_count": null,
      "outputs": [
        {
          "output_type": "stream",
          "name": "stdout",
          "text": [
            "{1: 1, 4: 2, 9: 3, 16: 4, 25: 5}\n"
          ]
        }
      ]
    },
    {
      "cell_type": "code",
      "source": [
        "# exercise: create a dictionary for weight in grams, key will be weight in kgs\n",
        "# dictionary comprehension ONLY\n",
        "wt_kgs = [80,87,89,31,97]\n",
        "# {80:80000, 87:87000...}\n",
        "print([wt for wt in wt_kgs])\n",
        "print([wt*1000 for wt in wt_kgs])\n",
        "print({wt:wt*1000 for wt in wt_kgs})"
      ],
      "metadata": {
        "colab": {
          "base_uri": "https://localhost:8080/"
        },
        "id": "lemkzIWzwP_i",
        "outputId": "6f3d693d-be8b-49ac-9746-58814467ab48"
      },
      "execution_count": null,
      "outputs": [
        {
          "output_type": "stream",
          "name": "stdout",
          "text": [
            "[80, 87, 89, 31, 97]\n",
            "[80000, 87000, 89000, 31000, 97000]\n",
            "{80: 80000, 87: 87000, 89: 89000, 31: 31000, 97: 97000}\n"
          ]
        }
      ]
    },
    {
      "cell_type": "code",
      "source": [
        "# type\n",
        "# print\n",
        "# tuple\n",
        "# input\n",
        "# list\n",
        "# int\n",
        "# float\n",
        "# str\n",
        "# range\n",
        "# set\n",
        "# ord\n",
        "# chr\n",
        "# bool\n",
        "# len"
      ],
      "metadata": {
        "id": "_aVlI2fIxrQS"
      },
      "execution_count": null,
      "outputs": []
    },
    {
      "cell_type": "code",
      "source": [
        "# Exercise\n",
        "# dictionary comprehension ONLY\n",
        "# groceries >> 'item':price(in dollars)\n",
        "groceries = {'milk':3, 'apples':5.5, 'bread':4}\n",
        "# get output as price in rupees [1 dollar = 80 rupees]\n",
        "# HINT: don't target solution directly but go step by step\n",
        "print([item for item in groceries])\n",
        "print([groceries[item]*80 for item in groceries])\n",
        "print({item:groceries[item]*80  for item in groceries})"
      ],
      "metadata": {
        "colab": {
          "base_uri": "https://localhost:8080/"
        },
        "id": "PtiTja7iyhJP",
        "outputId": "e6ee240b-3989-4677-a2bb-4a807c4cd370"
      },
      "execution_count": null,
      "outputs": [
        {
          "output_type": "stream",
          "name": "stdout",
          "text": [
            "['milk', 'apples', 'bread']\n",
            "[240, 440.0, 320]\n",
            "{'milk': 240, 'apples': 440.0, 'bread': 320}\n"
          ]
        }
      ]
    },
    {
      "cell_type": "code",
      "source": [
        "print({key:value*80 for key,value in groceries.items()})"
      ],
      "metadata": {
        "colab": {
          "base_uri": "https://localhost:8080/"
        },
        "id": "84I5uEcH0enj",
        "outputId": "534a5300-148e-415f-e1d0-c25721a38026"
      },
      "execution_count": null,
      "outputs": [
        {
          "output_type": "stream",
          "name": "stdout",
          "text": [
            "{'milk': 240, 'apples': 440.0, 'bread': 320}\n"
          ]
        }
      ]
    },
    {
      "cell_type": "code",
      "source": [
        "# get the groceries list if only things starting with vowel(\"aeiou\") can be bought\n",
        "# >> {'apples': 5.5}\n",
        "groceries = {'milk':3, 'apples':5.5, 'bread':4}\n",
        "\n",
        "#    {<what to store>> key:value>  <for loop> <when to store>}\n",
        "print({key:value for key, value in groceries.items()})"
      ],
      "metadata": {
        "colab": {
          "base_uri": "https://localhost:8080/"
        },
        "id": "mzM5UGcR1Nhy",
        "outputId": "414cca77-ba87-4d2e-d396-8cc51020b585"
      },
      "execution_count": null,
      "outputs": [
        {
          "output_type": "stream",
          "name": "stdout",
          "text": [
            "{'milk': 3, 'apples': 5.5, 'bread': 4}\n"
          ]
        }
      ]
    },
    {
      "cell_type": "code",
      "source": [
        "print({key:value for key, value in groceries.items() if key[0] in \"aeiou\"})"
      ],
      "metadata": {
        "colab": {
          "base_uri": "https://localhost:8080/"
        },
        "id": "uOEpu0vo3ObZ",
        "outputId": "66bc7911-3391-4c60-fc1c-3cae0ca4e05f"
      },
      "execution_count": null,
      "outputs": [
        {
          "output_type": "stream",
          "name": "stdout",
          "text": [
            "{'apples': 5.5}\n"
          ]
        }
      ]
    },
    {
      "cell_type": "code",
      "source": [
        "item = \"milk\"\n",
        "item[0] in \"aeiou\""
      ],
      "metadata": {
        "colab": {
          "base_uri": "https://localhost:8080/"
        },
        "id": "xt9eOFn32yCS",
        "outputId": "8e82e3e5-62e0-405b-a86e-7bedd8fa958f"
      },
      "execution_count": null,
      "outputs": [
        {
          "output_type": "execute_result",
          "data": {
            "text/plain": [
              "False"
            ]
          },
          "metadata": {},
          "execution_count": 52
        }
      ]
    },
    {
      "cell_type": "code",
      "source": [
        "item = \"apples\"\n",
        "item[0] in \"aeiou\""
      ],
      "metadata": {
        "colab": {
          "base_uri": "https://localhost:8080/"
        },
        "id": "QfOB-odP3JSh",
        "outputId": "3ff091a3-6192-4a16-eec0-bd19ead1d828"
      },
      "execution_count": null,
      "outputs": [
        {
          "output_type": "execute_result",
          "data": {
            "text/plain": [
              "True"
            ]
          },
          "metadata": {},
          "execution_count": 53
        }
      ]
    }
  ]
}