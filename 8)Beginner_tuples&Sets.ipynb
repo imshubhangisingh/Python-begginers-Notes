{
  "nbformat": 4,
  "nbformat_minor": 0,
  "metadata": {
    "colab": {
      "provenance": [],
      "include_colab_link": true
    },
    "kernelspec": {
      "name": "python3",
      "display_name": "Python 3"
    },
    "language_info": {
      "name": "python"
    }
  },
  "cells": [
    {
      "cell_type": "markdown",
      "metadata": {
        "id": "view-in-github",
        "colab_type": "text"
      },
      "source": [
        "<a href=\"https://colab.research.google.com/github/imshubhangisingh/Python-begginers-Notes/blob/main/8)Beginner_tuples%26Sets.ipynb\" target=\"_parent\"><img src=\"https://colab.research.google.com/assets/colab-badge.svg\" alt=\"Open In Colab\"/></a>"
      ]
    },
    {
      "cell_type": "markdown",
      "source": [
        "# Beginner : Tuples + Sets  - 8 th June 2023"
      ],
      "metadata": {
        "id": "sGg2YXjgoEEL"
      }
    },
    {
      "cell_type": "code",
      "execution_count": null,
      "metadata": {
        "id": "WM4g2Ezin_nv"
      },
      "outputs": [],
      "source": [
        "## Data types / Data Structures (primitive DS)\n",
        "# str, None, int, float, bool"
      ]
    },
    {
      "cell_type": "code",
      "source": [
        "## Data Structures\n",
        "# list :\n",
        "    # []\n",
        "    # mutable/ editable\n",
        "    # can store any data type\n",
        "    # maintains order/ sequential\n",
        "    # allows duplicates\n",
        "# tuple :\n",
        "    # ()\n",
        "    # immutable/ non-editable\n",
        "    # can store any data type\n",
        "    # maintains order/ sequential\n",
        "    # allows duplicates"
      ],
      "metadata": {
        "id": "bw8ZZDRAq8Mo"
      },
      "execution_count": null,
      "outputs": []
    },
    {
      "cell_type": "code",
      "source": [
        "# ISRO 👉 Indian Space Research Org.\n",
        "planets = [\"mercury\", \"venus\", \"earth\", 'Mars', 'Jupiter', 'Saturn', 'Uranus', 'Neptune']\n",
        "print(planets, type(planets))\n",
        "planets.remove('Mars')\n",
        "print(planets, type(planets))\n",
        "planets.pop(-1)\n",
        "print(planets, type(planets))\n",
        "planets[2] = \"Amazing Place\"\n",
        "print(planets, type(planets))\n",
        "planets.append('Pluto')\n",
        "print(planets, type(planets))"
      ],
      "metadata": {
        "colab": {
          "base_uri": "https://localhost:8080/"
        },
        "id": "mJn5ByILrUwq",
        "outputId": "60f767a6-4b71-431f-9b00-299d3b331cbd"
      },
      "execution_count": null,
      "outputs": [
        {
          "output_type": "stream",
          "name": "stdout",
          "text": [
            "['mercury', 'venus', 'earth', 'Mars', 'Jupiter', 'Saturn', 'Uranus', 'Neptune'] <class 'list'>\n",
            "['mercury', 'venus', 'earth', 'Jupiter', 'Saturn', 'Uranus', 'Neptune'] <class 'list'>\n",
            "['mercury', 'venus', 'earth', 'Jupiter', 'Saturn', 'Uranus'] <class 'list'>\n",
            "['mercury', 'venus', 'Amazing Place', 'Jupiter', 'Saturn', 'Uranus'] <class 'list'>\n",
            "['mercury', 'venus', 'Amazing Place', 'Jupiter', 'Saturn', 'Uranus', 'Pluto'] <class 'list'>\n"
          ]
        }
      ]
    },
    {
      "cell_type": "code",
      "source": [
        "# tuple\n",
        "planets = (\"mercury\", \"venus\", \"earth\", 'Mars', 'Jupiter', 'Saturn', 'Uranus', 'Neptune')\n",
        "print(planets, type(planets))\n",
        "print(planets[1])"
      ],
      "metadata": {
        "colab": {
          "base_uri": "https://localhost:8080/"
        },
        "id": "ipRWaZqGr-vX",
        "outputId": "fcb7f9a0-17b9-4b6a-87ea-443aa98e0731"
      },
      "execution_count": null,
      "outputs": [
        {
          "output_type": "stream",
          "name": "stdout",
          "text": [
            "('mercury', 'venus', 'earth', 'Mars', 'Jupiter', 'Saturn', 'Uranus', 'Neptune') <class 'tuple'>\n",
            "venus\n"
          ]
        }
      ]
    },
    {
      "cell_type": "code",
      "source": [
        "planets[1] = \"No a planet\""
      ],
      "metadata": {
        "colab": {
          "base_uri": "https://localhost:8080/",
          "height": 166
        },
        "id": "uAS-trgUtKmu",
        "outputId": "0f15b877-a88c-4e8b-afaa-891b2c80334a"
      },
      "execution_count": null,
      "outputs": [
        {
          "output_type": "error",
          "ename": "TypeError",
          "evalue": "ignored",
          "traceback": [
            "\u001b[0;31m---------------------------------------------------------------------------\u001b[0m",
            "\u001b[0;31mTypeError\u001b[0m                                 Traceback (most recent call last)",
            "\u001b[0;32m<ipython-input-5-76f1490b97f6>\u001b[0m in \u001b[0;36m<cell line: 1>\u001b[0;34m()\u001b[0m\n\u001b[0;32m----> 1\u001b[0;31m \u001b[0mplanets\u001b[0m\u001b[0;34m[\u001b[0m\u001b[0;36m1\u001b[0m\u001b[0;34m]\u001b[0m \u001b[0;34m=\u001b[0m \u001b[0;34m\"No a planet\"\u001b[0m\u001b[0;34m\u001b[0m\u001b[0;34m\u001b[0m\u001b[0m\n\u001b[0m",
            "\u001b[0;31mTypeError\u001b[0m: 'tuple' object does not support item assignment"
          ]
        }
      ]
    },
    {
      "cell_type": "code",
      "source": [
        "# tuple v/s list\n",
        "# tuple is created using () and list is created using []\n",
        "# tuples are immutable\n",
        "    # cannot chnage values\n",
        "    # cannot change order\n",
        "    # cannot add/remove values"
      ],
      "metadata": {
        "id": "A8Wi6AHgtWmV"
      },
      "execution_count": null,
      "outputs": []
    },
    {
      "cell_type": "code",
      "source": [
        "a= [1,2,3,4,5,6]\n",
        "print(a)\n",
        "print(a[2:5])\n",
        "print(a)"
      ],
      "metadata": {
        "colab": {
          "base_uri": "https://localhost:8080/"
        },
        "id": "VUubJmdItx2F",
        "outputId": "8c5a0bf0-5ab2-4bd6-b136-d1feb3c909a6"
      },
      "execution_count": null,
      "outputs": [
        {
          "output_type": "stream",
          "name": "stdout",
          "text": [
            "[1, 2, 3, 4, 5, 6]\n",
            "[3, 4, 5]\n",
            "[1, 2, 3, 4, 5, 6]\n"
          ]
        }
      ]
    },
    {
      "cell_type": "code",
      "source": [
        "a= (1,2,3,4,5,6)\n",
        "a.sort()\n",
        "print(a)"
      ],
      "metadata": {
        "colab": {
          "base_uri": "https://localhost:8080/",
          "height": 201
        },
        "id": "f0d-r5rCGf5m",
        "outputId": "7c8d4891-8b71-4830-f45e-db1751db4e2e"
      },
      "execution_count": null,
      "outputs": [
        {
          "output_type": "error",
          "ename": "AttributeError",
          "evalue": "ignored",
          "traceback": [
            "\u001b[0;31m---------------------------------------------------------------------------\u001b[0m",
            "\u001b[0;31mAttributeError\u001b[0m                            Traceback (most recent call last)",
            "\u001b[0;32m<ipython-input-74-97425253da95>\u001b[0m in \u001b[0;36m<cell line: 2>\u001b[0;34m()\u001b[0m\n\u001b[1;32m      1\u001b[0m \u001b[0ma\u001b[0m\u001b[0;34m=\u001b[0m \u001b[0;34m(\u001b[0m\u001b[0;36m1\u001b[0m\u001b[0;34m,\u001b[0m\u001b[0;36m2\u001b[0m\u001b[0;34m,\u001b[0m\u001b[0;36m3\u001b[0m\u001b[0;34m,\u001b[0m\u001b[0;36m4\u001b[0m\u001b[0;34m,\u001b[0m\u001b[0;36m5\u001b[0m\u001b[0;34m,\u001b[0m\u001b[0;36m6\u001b[0m\u001b[0;34m)\u001b[0m\u001b[0;34m\u001b[0m\u001b[0;34m\u001b[0m\u001b[0m\n\u001b[0;32m----> 2\u001b[0;31m \u001b[0ma\u001b[0m\u001b[0;34m.\u001b[0m\u001b[0msort\u001b[0m\u001b[0;34m(\u001b[0m\u001b[0;34m)\u001b[0m\u001b[0;34m\u001b[0m\u001b[0;34m\u001b[0m\u001b[0m\n\u001b[0m\u001b[1;32m      3\u001b[0m \u001b[0mprint\u001b[0m\u001b[0;34m(\u001b[0m\u001b[0ma\u001b[0m\u001b[0;34m)\u001b[0m\u001b[0;34m\u001b[0m\u001b[0;34m\u001b[0m\u001b[0m\n",
            "\u001b[0;31mAttributeError\u001b[0m: 'tuple' object has no attribute 'sort'"
          ]
        }
      ]
    },
    {
      "cell_type": "code",
      "source": [
        "a= (1,2,3,4,5,6)\n",
        "print(a)\n",
        "print(a[2:5])\n",
        "print(a)"
      ],
      "metadata": {
        "colab": {
          "base_uri": "https://localhost:8080/"
        },
        "id": "Ms4-ubZat0z3",
        "outputId": "510fd1bf-eed0-416e-f12d-2f43b65cc610"
      },
      "execution_count": null,
      "outputs": [
        {
          "output_type": "stream",
          "name": "stdout",
          "text": [
            "(1, 2, 3, 4, 5, 6)\n",
            "(3, 4, 5)\n",
            "(1, 2, 3, 4, 5, 6)\n"
          ]
        }
      ]
    },
    {
      "cell_type": "code",
      "source": [
        "a= (1,[2,3,4],5,6)\n",
        "print(a)\n",
        "a[1][1]=1000\n",
        "print(a)"
      ],
      "metadata": {
        "colab": {
          "base_uri": "https://localhost:8080/"
        },
        "id": "xnwci6OAuf8K",
        "outputId": "59e86b7a-26d5-4940-aa38-43d248158859"
      },
      "execution_count": null,
      "outputs": [
        {
          "output_type": "stream",
          "name": "stdout",
          "text": [
            "(1, [2, 3, 4], 5, 6)\n",
            "(1, [2, 1000, 4], 5, 6)\n"
          ]
        }
      ]
    },
    {
      "cell_type": "code",
      "source": [
        "a= (1,[2,3,4],5,6)\n",
        "print(a)\n",
        "a[1].append(100)\n",
        "print(a)"
      ],
      "metadata": {
        "colab": {
          "base_uri": "https://localhost:8080/"
        },
        "id": "DV4sZ3qgvxjL",
        "outputId": "b66a2024-1231-4822-c9c6-6731675efc2e"
      },
      "execution_count": null,
      "outputs": [
        {
          "output_type": "stream",
          "name": "stdout",
          "text": [
            "(1, [2, 3, 4], 5, 6)\n",
            "(1, [2, 3, 4, 100], 5, 6)\n"
          ]
        }
      ]
    },
    {
      "cell_type": "code",
      "source": [
        "a= (1,[2,3,4],5,6)\n",
        "print(a)\n",
        "a[1]=[10,11,12]\n",
        "print(a)"
      ],
      "metadata": {
        "colab": {
          "base_uri": "https://localhost:8080/",
          "height": 236
        },
        "id": "t-4Hmw9ZyHmI",
        "outputId": "3735e8b0-23d6-4563-d8c6-85a0bdb76fdf"
      },
      "execution_count": null,
      "outputs": [
        {
          "output_type": "stream",
          "name": "stdout",
          "text": [
            "(1, [2, 3, 4], 5, 6)\n"
          ]
        },
        {
          "output_type": "error",
          "ename": "TypeError",
          "evalue": "ignored",
          "traceback": [
            "\u001b[0;31m---------------------------------------------------------------------------\u001b[0m",
            "\u001b[0;31mTypeError\u001b[0m                                 Traceback (most recent call last)",
            "\u001b[0;32m<ipython-input-15-2227241218b1>\u001b[0m in \u001b[0;36m<cell line: 3>\u001b[0;34m()\u001b[0m\n\u001b[1;32m      1\u001b[0m \u001b[0ma\u001b[0m\u001b[0;34m=\u001b[0m \u001b[0;34m(\u001b[0m\u001b[0;36m1\u001b[0m\u001b[0;34m,\u001b[0m\u001b[0;34m[\u001b[0m\u001b[0;36m2\u001b[0m\u001b[0;34m,\u001b[0m\u001b[0;36m3\u001b[0m\u001b[0;34m,\u001b[0m\u001b[0;36m4\u001b[0m\u001b[0;34m]\u001b[0m\u001b[0;34m,\u001b[0m\u001b[0;36m5\u001b[0m\u001b[0;34m,\u001b[0m\u001b[0;36m6\u001b[0m\u001b[0;34m)\u001b[0m\u001b[0;34m\u001b[0m\u001b[0;34m\u001b[0m\u001b[0m\n\u001b[1;32m      2\u001b[0m \u001b[0mprint\u001b[0m\u001b[0;34m(\u001b[0m\u001b[0ma\u001b[0m\u001b[0;34m)\u001b[0m\u001b[0;34m\u001b[0m\u001b[0;34m\u001b[0m\u001b[0m\n\u001b[0;32m----> 3\u001b[0;31m \u001b[0ma\u001b[0m\u001b[0;34m[\u001b[0m\u001b[0;36m1\u001b[0m\u001b[0;34m]\u001b[0m\u001b[0;34m=\u001b[0m\u001b[0;34m[\u001b[0m\u001b[0;36m10\u001b[0m\u001b[0;34m,\u001b[0m\u001b[0;36m11\u001b[0m\u001b[0;34m,\u001b[0m\u001b[0;36m12\u001b[0m\u001b[0;34m]\u001b[0m\u001b[0;34m\u001b[0m\u001b[0;34m\u001b[0m\u001b[0m\n\u001b[0m\u001b[1;32m      4\u001b[0m \u001b[0mprint\u001b[0m\u001b[0;34m(\u001b[0m\u001b[0ma\u001b[0m\u001b[0;34m)\u001b[0m\u001b[0;34m\u001b[0m\u001b[0;34m\u001b[0m\u001b[0m\n",
            "\u001b[0;31mTypeError\u001b[0m: 'tuple' object does not support item assignment"
          ]
        }
      ]
    },
    {
      "cell_type": "code",
      "source": [
        "a= (1,[2,3,4],5,6)\n",
        "print(a)\n",
        "a[1]=2\n",
        "print(a)"
      ],
      "metadata": {
        "id": "Qux4xgTBumFu"
      },
      "execution_count": null,
      "outputs": []
    },
    {
      "cell_type": "code",
      "source": [
        "a= [1,2,3,10,11,-100]\n",
        "print(a, type(a))\n",
        "b = tuple(a)\n",
        "print(b, type(b))\n",
        "c = list(b)\n",
        "print(c, type(c))"
      ],
      "metadata": {
        "colab": {
          "base_uri": "https://localhost:8080/"
        },
        "id": "B2A_9Pcjypq6",
        "outputId": "d6352e7d-2e10-4a03-f46c-948a56867d02"
      },
      "execution_count": null,
      "outputs": [
        {
          "output_type": "stream",
          "name": "stdout",
          "text": [
            "[1, 2, 3, 10, 11, -100] <class 'list'>\n",
            "(1, 2, 3, 10, 11, -100) <class 'tuple'>\n",
            "[1, 2, 3, 10, 11, -100] <class 'list'>\n"
          ]
        }
      ]
    },
    {
      "cell_type": "code",
      "source": [
        "c=(1, 2, 3, 10, 11, -100)\n",
        "c = list(c)\n",
        "print(c, type(c))"
      ],
      "metadata": {
        "id": "KCTWFEESzF9w"
      },
      "execution_count": null,
      "outputs": []
    },
    {
      "cell_type": "code",
      "source": [
        "a= 5\n",
        "a=\"CR7\"\n",
        "print(a)"
      ],
      "metadata": {
        "colab": {
          "base_uri": "https://localhost:8080/"
        },
        "id": "RVY_ITglzYtH",
        "outputId": "39b93fd2-0b00-4f6b-de86-f9f5397614e9"
      },
      "execution_count": null,
      "outputs": [
        {
          "output_type": "stream",
          "name": "stdout",
          "text": [
            "6\n"
          ]
        }
      ]
    },
    {
      "cell_type": "code",
      "source": [
        "a = [1,2,3]\n",
        "a.append(5)\n",
        "print(a)"
      ],
      "metadata": {
        "colab": {
          "base_uri": "https://localhost:8080/"
        },
        "id": "dqMSbzZfzbdG",
        "outputId": "f8e3849c-1c3b-4dd4-bd82-6cc26770a5cf"
      },
      "execution_count": null,
      "outputs": [
        {
          "output_type": "stream",
          "name": "stdout",
          "text": [
            "[1, 2, 3, 5]\n"
          ]
        }
      ]
    },
    {
      "cell_type": "code",
      "source": [
        "a= (1,5,3,4,5,6)\n",
        "print(a)\n",
        "print(a.index(5))\n",
        "print(a.count(5))\n",
        "print(a)\n",
        "print(len(a))\n",
        "print(10 in a)\n",
        "print(5 in a)"
      ],
      "metadata": {
        "colab": {
          "base_uri": "https://localhost:8080/"
        },
        "id": "VmXifkgY0tE1",
        "outputId": "cedf0a77-ec82-4992-f05f-fecc4537135c"
      },
      "execution_count": null,
      "outputs": [
        {
          "output_type": "stream",
          "name": "stdout",
          "text": [
            "(1, 5, 3, 4, 5, 6)\n",
            "1\n",
            "2\n",
            "(1, 5, 3, 4, 5, 6)\n",
            "6\n",
            "False\n",
            "True\n"
          ]
        }
      ]
    },
    {
      "cell_type": "code",
      "source": [
        "# packing and unpacking\n",
        "flavours = ('salty', 'sweet', 'sour', 'tangy') # packing the values\n",
        "f1, f2, f3, f4 = flavours # unpacking\n",
        "print(f1, f2, f3, f4)"
      ],
      "metadata": {
        "colab": {
          "base_uri": "https://localhost:8080/"
        },
        "id": "LiiENLes0fY-",
        "outputId": "f1d2557f-f172-4b94-d459-3f97f264c4a0"
      },
      "execution_count": null,
      "outputs": [
        {
          "output_type": "stream",
          "name": "stdout",
          "text": [
            "salty sweet sour tangy\n"
          ]
        }
      ]
    },
    {
      "cell_type": "code",
      "source": [
        "# packing and unpacking\n",
        "flavours = ['salty', 'sweet', 'sour', 'tangy'] # packing the values\n",
        "f1, f2, f3, f4 = flavours # unpacking\n",
        "print(f1, f2, f3, f4)"
      ],
      "metadata": {
        "colab": {
          "base_uri": "https://localhost:8080/"
        },
        "id": "y3o-Qhyz2Q5W",
        "outputId": "48ffc0ac-bd59-48be-e57d-fcc55a1d86a8"
      },
      "execution_count": null,
      "outputs": [
        {
          "output_type": "stream",
          "name": "stdout",
          "text": [
            "salty sweet sour tangy\n"
          ]
        }
      ]
    },
    {
      "cell_type": "code",
      "source": [
        "# packing and unpacking\n",
        "flavours = ('salty', 'sweet', 'sour', 'tangy') # packing the values\n",
        "f1, f2, f3 = flavours # unpacking\n"
      ],
      "metadata": {
        "colab": {
          "base_uri": "https://localhost:8080/",
          "height": 201
        },
        "id": "oVs3iMdY2VQt",
        "outputId": "4d1a948a-d7f9-49ed-a186-b7afd7fce7aa"
      },
      "execution_count": null,
      "outputs": [
        {
          "output_type": "error",
          "ename": "ValueError",
          "evalue": "ignored",
          "traceback": [
            "\u001b[0;31m---------------------------------------------------------------------------\u001b[0m",
            "\u001b[0;31mValueError\u001b[0m                                Traceback (most recent call last)",
            "\u001b[0;32m<ipython-input-27-d0f3a9ce8329>\u001b[0m in \u001b[0;36m<cell line: 3>\u001b[0;34m()\u001b[0m\n\u001b[1;32m      1\u001b[0m \u001b[0;31m# packing and unpacking\u001b[0m\u001b[0;34m\u001b[0m\u001b[0;34m\u001b[0m\u001b[0m\n\u001b[1;32m      2\u001b[0m \u001b[0mflavours\u001b[0m \u001b[0;34m=\u001b[0m \u001b[0;34m(\u001b[0m\u001b[0;34m'salty'\u001b[0m\u001b[0;34m,\u001b[0m \u001b[0;34m'sweet'\u001b[0m\u001b[0;34m,\u001b[0m \u001b[0;34m'sour'\u001b[0m\u001b[0;34m,\u001b[0m \u001b[0;34m'tangy'\u001b[0m\u001b[0;34m)\u001b[0m \u001b[0;31m# packing the values\u001b[0m\u001b[0;34m\u001b[0m\u001b[0;34m\u001b[0m\u001b[0m\n\u001b[0;32m----> 3\u001b[0;31m \u001b[0mf1\u001b[0m\u001b[0;34m,\u001b[0m \u001b[0mf2\u001b[0m\u001b[0;34m,\u001b[0m \u001b[0mf3\u001b[0m \u001b[0;34m=\u001b[0m \u001b[0mflavours\u001b[0m \u001b[0;31m# unpacking\u001b[0m\u001b[0;34m\u001b[0m\u001b[0;34m\u001b[0m\u001b[0m\n\u001b[0m",
            "\u001b[0;31mValueError\u001b[0m: too many values to unpack (expected 3)"
          ]
        }
      ]
    },
    {
      "cell_type": "code",
      "source": [
        "# packing and unpacking\n",
        "flavours = ('salty', 'sweet', 'sour', 'tangy') # packing the values\n",
        "f1, f2, f3, f4, f5 = flavours # unpacking"
      ],
      "metadata": {
        "colab": {
          "base_uri": "https://localhost:8080/",
          "height": 201
        },
        "id": "eXrjZcfm2es8",
        "outputId": "f00a8490-0e40-4f6e-929b-6f88fd42452f"
      },
      "execution_count": null,
      "outputs": [
        {
          "output_type": "error",
          "ename": "ValueError",
          "evalue": "ignored",
          "traceback": [
            "\u001b[0;31m---------------------------------------------------------------------------\u001b[0m",
            "\u001b[0;31mValueError\u001b[0m                                Traceback (most recent call last)",
            "\u001b[0;32m<ipython-input-28-79a2c0badaa9>\u001b[0m in \u001b[0;36m<cell line: 3>\u001b[0;34m()\u001b[0m\n\u001b[1;32m      1\u001b[0m \u001b[0;31m# packing and unpacking\u001b[0m\u001b[0;34m\u001b[0m\u001b[0;34m\u001b[0m\u001b[0m\n\u001b[1;32m      2\u001b[0m \u001b[0mflavours\u001b[0m \u001b[0;34m=\u001b[0m \u001b[0;34m(\u001b[0m\u001b[0;34m'salty'\u001b[0m\u001b[0;34m,\u001b[0m \u001b[0;34m'sweet'\u001b[0m\u001b[0;34m,\u001b[0m \u001b[0;34m'sour'\u001b[0m\u001b[0;34m,\u001b[0m \u001b[0;34m'tangy'\u001b[0m\u001b[0;34m)\u001b[0m \u001b[0;31m# packing the values\u001b[0m\u001b[0;34m\u001b[0m\u001b[0;34m\u001b[0m\u001b[0m\n\u001b[0;32m----> 3\u001b[0;31m \u001b[0mf1\u001b[0m\u001b[0;34m,\u001b[0m \u001b[0mf2\u001b[0m\u001b[0;34m,\u001b[0m \u001b[0mf3\u001b[0m\u001b[0;34m,\u001b[0m \u001b[0mf4\u001b[0m\u001b[0;34m,\u001b[0m \u001b[0mf5\u001b[0m \u001b[0;34m=\u001b[0m \u001b[0mflavours\u001b[0m \u001b[0;31m# unpacking\u001b[0m\u001b[0;34m\u001b[0m\u001b[0;34m\u001b[0m\u001b[0m\n\u001b[0m",
            "\u001b[0;31mValueError\u001b[0m: not enough values to unpack (expected 5, got 4)"
          ]
        }
      ]
    },
    {
      "cell_type": "code",
      "source": [
        "# packing and unpacking\n",
        "flavours = ['salty', 'sweet', 'sour', 'tangy'] # packing the values\n",
        "f1, f2, f3, f4 = flavours # unpacking\n",
        "print(f1, f2, f3, f4)\n",
        "print([f1, f2, f3, f4])"
      ],
      "metadata": {
        "colab": {
          "base_uri": "https://localhost:8080/"
        },
        "id": "8lZdlLB43KRL",
        "outputId": "9053ea40-2193-4b2c-99b8-3d5846d4d722"
      },
      "execution_count": null,
      "outputs": [
        {
          "output_type": "stream",
          "name": "stdout",
          "text": [
            "salty sweet sour tangy\n",
            "['salty', 'sweet', 'sour', 'tangy']\n"
          ]
        }
      ]
    },
    {
      "cell_type": "code",
      "source": [
        "def brand_year_and_model():\n",
        "    return 'Honda', 1991, 'City'\n",
        "function_returns = brand_year_and_model()\n",
        "print(function_returns)"
      ],
      "metadata": {
        "colab": {
          "base_uri": "https://localhost:8080/"
        },
        "id": "TCWlnwu_3USm",
        "outputId": "ea86c192-ee9a-4279-cda3-4f299286de8d"
      },
      "execution_count": null,
      "outputs": [
        {
          "output_type": "stream",
          "name": "stdout",
          "text": [
            "('Honda', 1991, 'City')\n"
          ]
        }
      ]
    },
    {
      "cell_type": "code",
      "source": [
        "def brand_year_and_model():\n",
        "    return 'Honda', 1991, 'City'\n",
        "brand, year, model = brand_year_and_model()\n",
        "print(brand, year, model)"
      ],
      "metadata": {
        "colab": {
          "base_uri": "https://localhost:8080/"
        },
        "id": "X-mygTE13tt4",
        "outputId": "b24b8c08-6564-4aa4-ade8-90f9539b7237"
      },
      "execution_count": null,
      "outputs": [
        {
          "output_type": "stream",
          "name": "stdout",
          "text": [
            "Honda 1991 City\n"
          ]
        }
      ]
    },
    {
      "cell_type": "code",
      "source": [
        "def brand_year_and_model():\n",
        "    return ['Honda', 1991, 'City']\n",
        "brand, year, model = brand_year_and_model()\n",
        "print(brand, year, model)"
      ],
      "metadata": {
        "colab": {
          "base_uri": "https://localhost:8080/"
        },
        "id": "k31up8-g4Bs6",
        "outputId": "55bc6679-7c7e-4587-f49f-28cca0a561f2"
      },
      "execution_count": null,
      "outputs": [
        {
          "output_type": "stream",
          "name": "stdout",
          "text": [
            "Honda 1991 City\n"
          ]
        }
      ]
    },
    {
      "cell_type": "code",
      "source": [
        "groccery_list = [('apples', 1.5), ('brooms', 2), ('paneer', '500 gm'), ('lays', ['blue','green'])]\n",
        "for myTuples in groccery_list:\n",
        "    print(myTuples)"
      ],
      "metadata": {
        "colab": {
          "base_uri": "https://localhost:8080/"
        },
        "id": "TLYJjIjq4CoF",
        "outputId": "49a870d5-9fbd-40d2-8e84-1e682db4a809"
      },
      "execution_count": null,
      "outputs": [
        {
          "output_type": "stream",
          "name": "stdout",
          "text": [
            "('apples', 1.5)\n",
            "('brooms', 2)\n",
            "('paneer', '500 gm')\n",
            "('lays', ['blue', 'green'])\n"
          ]
        }
      ]
    },
    {
      "cell_type": "code",
      "source": [
        "groccery_list = [('apples', 1.5), ('brooms', 2), ('paneer', '500 gm'), ('lays', ['blue','green'])]\n",
        "for myTuples in groccery_list:\n",
        "    print(myTuples, len(myTuples))"
      ],
      "metadata": {
        "colab": {
          "base_uri": "https://localhost:8080/"
        },
        "id": "D0pSCN_b4tFo",
        "outputId": "5fbce695-198d-4a2f-a3be-1b587b8424e8"
      },
      "execution_count": null,
      "outputs": [
        {
          "output_type": "stream",
          "name": "stdout",
          "text": [
            "('apples', 1.5) 2\n",
            "('brooms', 2) 2\n",
            "('paneer', '500 gm') 2\n",
            "('lays', ['blue', 'green']) 2\n"
          ]
        }
      ]
    },
    {
      "cell_type": "code",
      "source": [
        "groccery_list = [('apples', 1.5), ('brooms', 2), ('paneer', '500 gm'), ('lays💀', ['blue','green'])]\n",
        "for item, qty in groccery_list:\n",
        "    print(item, qty)"
      ],
      "metadata": {
        "colab": {
          "base_uri": "https://localhost:8080/"
        },
        "id": "5hsKqzoZ4uwe",
        "outputId": "c2f57e27-f028-4f5e-f947-2d9703a8f9da"
      },
      "execution_count": null,
      "outputs": [
        {
          "output_type": "stream",
          "name": "stdout",
          "text": [
            "apples 1.5\n",
            "brooms 2\n",
            "paneer 500 gm\n",
            "lays💀 ['blue', 'green']\n"
          ]
        }
      ]
    },
    {
      "cell_type": "code",
      "source": [
        "groccery_list = [('apples', 1.5), ('brooms', 2), ('paneer', '500 gm'), ('lays💀', ['blue','green'])]\n",
        "for item, qty in groccery_list:\n",
        "    output = f\"Buy {qty} of {item}\"\n",
        "    print(output)"
      ],
      "metadata": {
        "colab": {
          "base_uri": "https://localhost:8080/"
        },
        "id": "R_o07dkE40bN",
        "outputId": "936c8293-b30d-4cbe-850c-f7114778fde7"
      },
      "execution_count": null,
      "outputs": [
        {
          "output_type": "stream",
          "name": "stdout",
          "text": [
            "Buy 1.5 of apples\n",
            "Buy 2 of brooms\n",
            "Buy 500 gm of paneer\n",
            "Buy ['blue', 'green'] of lays💀\n"
          ]
        }
      ]
    },
    {
      "cell_type": "code",
      "source": [
        "## sets\n",
        "# sets store unique values\n",
        "# {ele1, ele2, ele3,... }\n",
        "# no order is maintained\n",
        "# set is mutable/editable"
      ],
      "metadata": {
        "id": "MIK-Bh0O5F0l"
      },
      "execution_count": null,
      "outputs": []
    },
    {
      "cell_type": "code",
      "source": [
        "colors = {'red', 'white', 'red', 'black', 'Red', 'green', 'red'}\n",
        "print(colors, type(colors))"
      ],
      "metadata": {
        "colab": {
          "base_uri": "https://localhost:8080/"
        },
        "id": "P-7BPrPo8Rtj",
        "outputId": "6b818489-6124-4d4c-fa28-4562d1e897f1"
      },
      "execution_count": null,
      "outputs": [
        {
          "output_type": "stream",
          "name": "stdout",
          "text": [
            "{'black', 'green', 'red', 'Red', 'white'} <class 'set'>\n"
          ]
        }
      ]
    },
    {
      "cell_type": "code",
      "source": [
        "'red'== 'Red'"
      ],
      "metadata": {
        "colab": {
          "base_uri": "https://localhost:8080/"
        },
        "id": "V86VCSse8eG0",
        "outputId": "620ebb3a-f427-4991-e28b-792ef6657ed9"
      },
      "execution_count": null,
      "outputs": [
        {
          "output_type": "execute_result",
          "data": {
            "text/plain": [
              "False"
            ]
          },
          "metadata": {},
          "execution_count": 40
        }
      ]
    },
    {
      "cell_type": "code",
      "source": [
        "colors = {'red', 'white', 'red', 'black', 'Red', 'green', 'red'}\n",
        "print(colors, type(colors))\n",
        "colors[2]# no order is maintained"
      ],
      "metadata": {
        "colab": {
          "base_uri": "https://localhost:8080/",
          "height": 219
        },
        "id": "f3RwirAk8sJk",
        "outputId": "b7bc85bc-850e-4ea4-f15f-7f1c03d97415"
      },
      "execution_count": null,
      "outputs": [
        {
          "output_type": "stream",
          "name": "stdout",
          "text": [
            "{'black', 'green', 'red', 'Red', 'white'} <class 'set'>\n"
          ]
        },
        {
          "output_type": "error",
          "ename": "TypeError",
          "evalue": "ignored",
          "traceback": [
            "\u001b[0;31m---------------------------------------------------------------------------\u001b[0m",
            "\u001b[0;31mTypeError\u001b[0m                                 Traceback (most recent call last)",
            "\u001b[0;32m<ipython-input-41-050833d577d7>\u001b[0m in \u001b[0;36m<cell line: 3>\u001b[0;34m()\u001b[0m\n\u001b[1;32m      1\u001b[0m \u001b[0mcolors\u001b[0m \u001b[0;34m=\u001b[0m \u001b[0;34m{\u001b[0m\u001b[0;34m'red'\u001b[0m\u001b[0;34m,\u001b[0m \u001b[0;34m'white'\u001b[0m\u001b[0;34m,\u001b[0m \u001b[0;34m'red'\u001b[0m\u001b[0;34m,\u001b[0m \u001b[0;34m'black'\u001b[0m\u001b[0;34m,\u001b[0m \u001b[0;34m'Red'\u001b[0m\u001b[0;34m,\u001b[0m \u001b[0;34m'green'\u001b[0m\u001b[0;34m,\u001b[0m \u001b[0;34m'red'\u001b[0m\u001b[0;34m}\u001b[0m\u001b[0;34m\u001b[0m\u001b[0;34m\u001b[0m\u001b[0m\n\u001b[1;32m      2\u001b[0m \u001b[0mprint\u001b[0m\u001b[0;34m(\u001b[0m\u001b[0mcolors\u001b[0m\u001b[0;34m,\u001b[0m \u001b[0mtype\u001b[0m\u001b[0;34m(\u001b[0m\u001b[0mcolors\u001b[0m\u001b[0;34m)\u001b[0m\u001b[0;34m)\u001b[0m\u001b[0;34m\u001b[0m\u001b[0;34m\u001b[0m\u001b[0m\n\u001b[0;32m----> 3\u001b[0;31m \u001b[0mcolors\u001b[0m\u001b[0;34m[\u001b[0m\u001b[0;36m2\u001b[0m\u001b[0;34m]\u001b[0m\u001b[0;34m\u001b[0m\u001b[0;34m\u001b[0m\u001b[0m\n\u001b[0m",
            "\u001b[0;31mTypeError\u001b[0m: 'set' object is not subscriptable"
          ]
        }
      ]
    },
    {
      "cell_type": "code",
      "source": [
        "colors = {'red', 'white', 'red', 'black', 'Red', 'green', 'red'}\n",
        "print(colors, type(colors))\n",
        "colors.sort()# no order is maintained"
      ],
      "metadata": {
        "colab": {
          "base_uri": "https://localhost:8080/",
          "height": 219
        },
        "id": "7PRPJr4783xU",
        "outputId": "098c9c62-9f87-4743-bcac-a684d7d07b7b"
      },
      "execution_count": null,
      "outputs": [
        {
          "output_type": "stream",
          "name": "stdout",
          "text": [
            "{'black', 'green', 'red', 'Red', 'white'} <class 'set'>\n"
          ]
        },
        {
          "output_type": "error",
          "ename": "AttributeError",
          "evalue": "ignored",
          "traceback": [
            "\u001b[0;31m---------------------------------------------------------------------------\u001b[0m",
            "\u001b[0;31mAttributeError\u001b[0m                            Traceback (most recent call last)",
            "\u001b[0;32m<ipython-input-42-807307f4cdf5>\u001b[0m in \u001b[0;36m<cell line: 3>\u001b[0;34m()\u001b[0m\n\u001b[1;32m      1\u001b[0m \u001b[0mcolors\u001b[0m \u001b[0;34m=\u001b[0m \u001b[0;34m{\u001b[0m\u001b[0;34m'red'\u001b[0m\u001b[0;34m,\u001b[0m \u001b[0;34m'white'\u001b[0m\u001b[0;34m,\u001b[0m \u001b[0;34m'red'\u001b[0m\u001b[0;34m,\u001b[0m \u001b[0;34m'black'\u001b[0m\u001b[0;34m,\u001b[0m \u001b[0;34m'Red'\u001b[0m\u001b[0;34m,\u001b[0m \u001b[0;34m'green'\u001b[0m\u001b[0;34m,\u001b[0m \u001b[0;34m'red'\u001b[0m\u001b[0;34m}\u001b[0m\u001b[0;34m\u001b[0m\u001b[0;34m\u001b[0m\u001b[0m\n\u001b[1;32m      2\u001b[0m \u001b[0mprint\u001b[0m\u001b[0;34m(\u001b[0m\u001b[0mcolors\u001b[0m\u001b[0;34m,\u001b[0m \u001b[0mtype\u001b[0m\u001b[0;34m(\u001b[0m\u001b[0mcolors\u001b[0m\u001b[0;34m)\u001b[0m\u001b[0;34m)\u001b[0m\u001b[0;34m\u001b[0m\u001b[0;34m\u001b[0m\u001b[0m\n\u001b[0;32m----> 3\u001b[0;31m \u001b[0mcolors\u001b[0m\u001b[0;34m.\u001b[0m\u001b[0msort\u001b[0m\u001b[0;34m(\u001b[0m\u001b[0;34m)\u001b[0m\u001b[0;31m# no order is maintained\u001b[0m\u001b[0;34m\u001b[0m\u001b[0;34m\u001b[0m\u001b[0m\n\u001b[0m",
            "\u001b[0;31mAttributeError\u001b[0m: 'set' object has no attribute 'sort'"
          ]
        }
      ]
    },
    {
      "cell_type": "code",
      "source": [
        "mySet =  set()          # ❌{} only for empty sets\n",
        "print(mySet, type(mySet))\n",
        "mySet.add(1)\n",
        "mySet.add(2)\n",
        "mySet.add(3)\n",
        "print(mySet, type(mySet))\n",
        "mySet.remove(3)\n",
        "print(mySet, type(mySet))\n",
        "mySet.add(1)\n",
        "mySet.add(1)\n",
        "mySet.add(1)\n",
        "mySet.add(1)\n",
        "mySet.add(1)\n",
        "print(mySet, type(mySet))\n"
      ],
      "metadata": {
        "colab": {
          "base_uri": "https://localhost:8080/"
        },
        "id": "N5rpCkTI89bU",
        "outputId": "bb2fd003-69b3-40ae-9fd4-bd1feadfc500"
      },
      "execution_count": null,
      "outputs": [
        {
          "output_type": "stream",
          "name": "stdout",
          "text": [
            "set() <class 'set'>\n",
            "{1, 2, 3} <class 'set'>\n",
            "{1, 2} <class 'set'>\n",
            "{1, 2} <class 'set'>\n"
          ]
        }
      ]
    },
    {
      "cell_type": "code",
      "source": [
        "print(mySet, type(mySet))\n",
        "mySet.remove(1)\n",
        "print(mySet, type(mySet))"
      ],
      "metadata": {
        "colab": {
          "base_uri": "https://localhost:8080/"
        },
        "id": "yt37OzIc9nrY",
        "outputId": "75022d49-4d39-4e50-c486-6dfa0053f281"
      },
      "execution_count": null,
      "outputs": [
        {
          "output_type": "stream",
          "name": "stdout",
          "text": [
            "{1, 2} <class 'set'>\n",
            "{2} <class 'set'>\n"
          ]
        }
      ]
    },
    {
      "cell_type": "code",
      "source": [
        "print(mySet, type(mySet))\n",
        "mySet.remove(1)\n",
        "print(mySet, type(mySet))"
      ],
      "metadata": {
        "colab": {
          "base_uri": "https://localhost:8080/",
          "height": 219
        },
        "id": "bZzM5QIi9t5w",
        "outputId": "58954a09-ea27-4d5c-faea-f32213c45685"
      },
      "execution_count": null,
      "outputs": [
        {
          "output_type": "stream",
          "name": "stdout",
          "text": [
            "{2} <class 'set'>\n"
          ]
        },
        {
          "output_type": "error",
          "ename": "KeyError",
          "evalue": "ignored",
          "traceback": [
            "\u001b[0;31m---------------------------------------------------------------------------\u001b[0m",
            "\u001b[0;31mKeyError\u001b[0m                                  Traceback (most recent call last)",
            "\u001b[0;32m<ipython-input-47-0878ef291667>\u001b[0m in \u001b[0;36m<cell line: 2>\u001b[0;34m()\u001b[0m\n\u001b[1;32m      1\u001b[0m \u001b[0mprint\u001b[0m\u001b[0;34m(\u001b[0m\u001b[0mmySet\u001b[0m\u001b[0;34m,\u001b[0m \u001b[0mtype\u001b[0m\u001b[0;34m(\u001b[0m\u001b[0mmySet\u001b[0m\u001b[0;34m)\u001b[0m\u001b[0;34m)\u001b[0m\u001b[0;34m\u001b[0m\u001b[0;34m\u001b[0m\u001b[0m\n\u001b[0;32m----> 2\u001b[0;31m \u001b[0mmySet\u001b[0m\u001b[0;34m.\u001b[0m\u001b[0mremove\u001b[0m\u001b[0;34m(\u001b[0m\u001b[0;36m1\u001b[0m\u001b[0;34m)\u001b[0m\u001b[0;34m\u001b[0m\u001b[0;34m\u001b[0m\u001b[0m\n\u001b[0m\u001b[1;32m      3\u001b[0m \u001b[0mprint\u001b[0m\u001b[0;34m(\u001b[0m\u001b[0mmySet\u001b[0m\u001b[0;34m,\u001b[0m \u001b[0mtype\u001b[0m\u001b[0;34m(\u001b[0m\u001b[0mmySet\u001b[0m\u001b[0;34m)\u001b[0m\u001b[0;34m)\u001b[0m\u001b[0;34m\u001b[0m\u001b[0;34m\u001b[0m\u001b[0m\n",
            "\u001b[0;31mKeyError\u001b[0m: 1"
          ]
        }
      ]
    },
    {
      "cell_type": "code",
      "source": [
        "print(mySet, type(mySet))\n",
        "if 1 in mySet:\n",
        "    mySet.remove(1)\n",
        "print(mySet, type(mySet))"
      ],
      "metadata": {
        "colab": {
          "base_uri": "https://localhost:8080/"
        },
        "id": "VwsRFr859xcD",
        "outputId": "c9c5b99f-81f9-43db-e160-ea4af8ed3ef3"
      },
      "execution_count": null,
      "outputs": [
        {
          "output_type": "stream",
          "name": "stdout",
          "text": [
            "{2} <class 'set'>\n",
            "{2} <class 'set'>\n"
          ]
        }
      ]
    },
    {
      "cell_type": "code",
      "source": [
        "if 1 in mySet: # quick search in sets is SUPER DUPER FAST compared to list/tuples\n",
        "    mySet.remove(1)"
      ],
      "metadata": {
        "id": "cKeYXceQ-JJs"
      },
      "execution_count": null,
      "outputs": []
    },
    {
      "cell_type": "code",
      "source": [
        "colors = {'red', 'white', 'red', 'black', 'Red', 'green', 'red'}\n",
        "print(colors, type(colors))\n",
        "colors.remove('green')\n",
        "colors.add('purple')\n",
        "print(colors, type(colors))"
      ],
      "metadata": {
        "colab": {
          "base_uri": "https://localhost:8080/"
        },
        "id": "WXhXEn4O-nIR",
        "outputId": "f9457105-bade-4d5a-9bb2-be1640ca57b0"
      },
      "execution_count": null,
      "outputs": [
        {
          "output_type": "stream",
          "name": "stdout",
          "text": [
            "{'black', 'green', 'red', 'Red', 'white'} <class 'set'>\n",
            "{'black', 'red', 'Red', 'purple', 'white'} <class 'set'>\n"
          ]
        }
      ]
    },
    {
      "cell_type": "code",
      "source": [
        "colors = {'red', 'white', 'red', 'black', 'Red', 'green', 'red'}\n",
        "print(colors, type(colors))\n",
        "removed = colors.pop()\n",
        "print(removed)\n",
        "colors.add('purple')\n",
        "print(colors, type(colors))"
      ],
      "metadata": {
        "colab": {
          "base_uri": "https://localhost:8080/"
        },
        "id": "-8HLEEL--0oN",
        "outputId": "daa4fabd-a570-461f-86a8-fb63fb86ef40"
      },
      "execution_count": null,
      "outputs": [
        {
          "output_type": "stream",
          "name": "stdout",
          "text": [
            "{'black', 'green', 'red', 'Red', 'white'} <class 'set'>\n",
            "black\n",
            "{'green', 'red', 'Red', 'purple', 'white'} <class 'set'>\n"
          ]
        }
      ]
    },
    {
      "cell_type": "code",
      "source": [
        "colors = {'red', 'white', 'red', 'black', 'Red', 'green', 'red'}\n",
        "print(colors, type(colors))\n",
        "list(colors)"
      ],
      "metadata": {
        "colab": {
          "base_uri": "https://localhost:8080/"
        },
        "id": "QvhP23dH_TPf",
        "outputId": "f3602748-58a8-4437-94b5-cf3979040c66"
      },
      "execution_count": null,
      "outputs": [
        {
          "output_type": "stream",
          "name": "stdout",
          "text": [
            "{'black', 'green', 'red', 'Red', 'white'} <class 'set'>\n"
          ]
        },
        {
          "output_type": "execute_result",
          "data": {
            "text/plain": [
              "['black', 'green', 'red', 'Red', 'white']"
            ]
          },
          "metadata": {},
          "execution_count": 52
        }
      ]
    },
    {
      "cell_type": "code",
      "source": [
        "colors = {'red', 'white', 'red', 'black', 'Red', 'green', 'red'}\n",
        "print(colors, type(colors))\n",
        "tuple(colors)"
      ],
      "metadata": {
        "colab": {
          "base_uri": "https://localhost:8080/"
        },
        "id": "kbP4-uAV_XFK",
        "outputId": "5be72ee1-df8e-4a79-e76a-92ddcb2d1963"
      },
      "execution_count": null,
      "outputs": [
        {
          "output_type": "stream",
          "name": "stdout",
          "text": [
            "{'black', 'green', 'red', 'Red', 'white'} <class 'set'>\n"
          ]
        },
        {
          "output_type": "execute_result",
          "data": {
            "text/plain": [
              "('black', 'green', 'red', 'Red', 'white')"
            ]
          },
          "metadata": {},
          "execution_count": 53
        }
      ]
    },
    {
      "cell_type": "code",
      "source": [
        "setA = {1,2,3,4,5}\n",
        "setB = {6,7,8,4,5}\n",
        "print(setA.union(setB))# both of them combined\n",
        "print(setA|setB) # anything present in a or b"
      ],
      "metadata": {
        "colab": {
          "base_uri": "https://localhost:8080/"
        },
        "id": "MyYaqLif_X6d",
        "outputId": "fbae19ec-d90a-4477-e242-c44a6a6332c7"
      },
      "execution_count": null,
      "outputs": [
        {
          "output_type": "stream",
          "name": "stdout",
          "text": [
            "{1, 2, 3, 4, 5, 6, 7, 8}\n",
            "{1, 2, 3, 4, 5, 6, 7, 8}\n"
          ]
        }
      ]
    },
    {
      "cell_type": "code",
      "source": [
        "setA = {1,2,3,4,5}\n",
        "setB = {6,7,8,4,5}\n",
        "print(setA.intersection(setB))# finds the common elements\n",
        "print(setA&setB) # anything present in a & b"
      ],
      "metadata": {
        "colab": {
          "base_uri": "https://localhost:8080/"
        },
        "id": "CAcxnFFZ_qbN",
        "outputId": "fe43f100-a906-4b6a-b71e-1337305f93f6"
      },
      "execution_count": null,
      "outputs": [
        {
          "output_type": "stream",
          "name": "stdout",
          "text": [
            "{4, 5}\n",
            "{4, 5}\n"
          ]
        }
      ]
    },
    {
      "cell_type": "code",
      "source": [
        "setA = {1,2,3,4,5}\n",
        "setB = {6,7,8,4,5}\n",
        "print(setA.difference(setB))# setA-setB>> elements of setA not in setB\n",
        "print(setA-setB)"
      ],
      "metadata": {
        "colab": {
          "base_uri": "https://localhost:8080/"
        },
        "id": "gMEYKIENAAgl",
        "outputId": "ce15c95e-c8f2-4c85-e3b0-ec384d862b8f"
      },
      "execution_count": null,
      "outputs": [
        {
          "output_type": "stream",
          "name": "stdout",
          "text": [
            "{1, 2, 3}\n",
            "{1, 2, 3}\n"
          ]
        }
      ]
    },
    {
      "cell_type": "code",
      "source": [
        "setA = {1,2,3,4,5}\n",
        "setB = {6,7,8,4,5}\n",
        "print(setA.symmetric_difference(setB))# find all the elements except the common ones\n",
        "print(setA^setB)"
      ],
      "metadata": {
        "colab": {
          "base_uri": "https://localhost:8080/"
        },
        "id": "qZd-Bum-ANFO",
        "outputId": "ed147ede-d5b7-4a99-fc2b-2d4eeb6321d0"
      },
      "execution_count": null,
      "outputs": [
        {
          "output_type": "stream",
          "name": "stdout",
          "text": [
            "{1, 2, 3, 6, 7, 8}\n",
            "{1, 2, 3, 6, 7, 8}\n"
          ]
        }
      ]
    },
    {
      "cell_type": "code",
      "source": [
        "for ele in {1,2,3,4,5}:\n",
        "    print(ele, end=\" \")"
      ],
      "metadata": {
        "colab": {
          "base_uri": "https://localhost:8080/"
        },
        "id": "LhQyGrxaA598",
        "outputId": "d154f22b-0734-4f91-fb4b-6ec72cc70e8d"
      },
      "execution_count": null,
      "outputs": [
        {
          "output_type": "stream",
          "name": "stdout",
          "text": [
            "1 2 3 4 5 "
          ]
        }
      ]
    },
    {
      "cell_type": "markdown",
      "source": [
        "What will be the output of the following code snippet?\n",
        "```python\n",
        "x = (1, 2, 3)\n",
        "y = (4, 5, 6)\n",
        "z = x + y\n",
        "print(len(z))\n",
        "```\n",
        "A. 3\n",
        "\n",
        "B. 6 <<<<<<<<<<<<<<<<\n",
        "\n",
        "C. 9\n",
        "\n",
        "D. Error"
      ],
      "metadata": {
        "id": "Q2LTfkgeBrfE"
      }
    },
    {
      "cell_type": "code",
      "source": [
        "x = (1, 2, 3)\n",
        "y = (4, 5, 6)\n",
        "z = x + y\n",
        "print(len(z))"
      ],
      "metadata": {
        "colab": {
          "base_uri": "https://localhost:8080/"
        },
        "id": "z9dVI8JOBRXN",
        "outputId": "bb388f33-25c8-4d41-f924-e4f7d0eb64b5"
      },
      "execution_count": null,
      "outputs": [
        {
          "output_type": "stream",
          "name": "stdout",
          "text": [
            "6\n"
          ]
        }
      ]
    },
    {
      "cell_type": "markdown",
      "source": [
        "What will be the output of the following code snippet?\n",
        "```python\n",
        "set1 = {1, 2, 3, 4, 5}\n",
        "set2 = {4, 5, 6, 7, 8}\n",
        "set3 = set1.intersection(set2)\n",
        "print(len(set3))\n",
        "```\n",
        "A. 0\n",
        "\n",
        "B. 2<<<<<<<<<<<<<<<\n",
        "\n",
        "C. 3\n",
        "\n",
        "D. Error"
      ],
      "metadata": {
        "id": "ArWDsFnJCLeL"
      }
    },
    {
      "cell_type": "code",
      "source": [
        "set1 = {1, 2, 3, 4, 5}\n",
        "set2 = {4, 5, 6, 7, 8}\n",
        "set3 = set1.intersection(set2)\n",
        "print(len(set3))"
      ],
      "metadata": {
        "colab": {
          "base_uri": "https://localhost:8080/"
        },
        "id": "74Igv_cUCLy1",
        "outputId": "c1362d9d-fc68-47b4-88f8-813349ad714f"
      },
      "execution_count": null,
      "outputs": [
        {
          "output_type": "stream",
          "name": "stdout",
          "text": [
            "2\n"
          ]
        }
      ]
    },
    {
      "cell_type": "code",
      "source": [
        "# update in set\n",
        "setA = {1,2}\n",
        "print(setA)\n",
        "setA.update([3,4,5])\n",
        "print(setA)\n",
        "setA.update((6,7,8))\n",
        "print(setA)\n",
        "setA.update({9,10,11})\n",
        "print(setA)\n",
        "setA.update('Ronaldo')\n",
        "print(setA)"
      ],
      "metadata": {
        "colab": {
          "base_uri": "https://localhost:8080/"
        },
        "id": "w15ecnvxCiQ4",
        "outputId": "18036ae2-2431-4086-e9b1-01ea089e0737"
      },
      "execution_count": null,
      "outputs": [
        {
          "output_type": "stream",
          "name": "stdout",
          "text": [
            "{1, 2}\n",
            "{1, 2, 3, 4, 5}\n",
            "{1, 2, 3, 4, 5, 6, 7, 8}\n",
            "{1, 2, 3, 4, 5, 6, 7, 8, 9, 10, 11}\n",
            "{'a', 1, 2, 3, 4, 5, 6, 7, 8, 9, 10, 11, 'n', 'd', 'R', 'o', 'l'}\n"
          ]
        }
      ]
    },
    {
      "cell_type": "code",
      "source": [
        "print(setA)\n",
        "print(setA)\n",
        "print(setA)\n",
        "print(setA)\n",
        "print(setA)\n",
        "print(setA)\n",
        "print(setA)\n",
        "print(setA)\n",
        "print(setA)\n",
        "print(setA)"
      ],
      "metadata": {
        "colab": {
          "base_uri": "https://localhost:8080/"
        },
        "id": "CaPxNZOnC0OT",
        "outputId": "b8a36647-10f5-40e6-bfc0-e3605cbb270b"
      },
      "execution_count": null,
      "outputs": [
        {
          "output_type": "stream",
          "name": "stdout",
          "text": [
            "{'a', 1, 2, 3, 4, 5, 6, 7, 8, 9, 10, 11, 'n', 'd', 'R', 'o', 'l'}\n",
            "{'a', 1, 2, 3, 4, 5, 6, 7, 8, 9, 10, 11, 'n', 'd', 'R', 'o', 'l'}\n",
            "{'a', 1, 2, 3, 4, 5, 6, 7, 8, 9, 10, 11, 'n', 'd', 'R', 'o', 'l'}\n",
            "{'a', 1, 2, 3, 4, 5, 6, 7, 8, 9, 10, 11, 'n', 'd', 'R', 'o', 'l'}\n",
            "{'a', 1, 2, 3, 4, 5, 6, 7, 8, 9, 10, 11, 'n', 'd', 'R', 'o', 'l'}\n",
            "{'a', 1, 2, 3, 4, 5, 6, 7, 8, 9, 10, 11, 'n', 'd', 'R', 'o', 'l'}\n",
            "{'a', 1, 2, 3, 4, 5, 6, 7, 8, 9, 10, 11, 'n', 'd', 'R', 'o', 'l'}\n",
            "{'a', 1, 2, 3, 4, 5, 6, 7, 8, 9, 10, 11, 'n', 'd', 'R', 'o', 'l'}\n",
            "{'a', 1, 2, 3, 4, 5, 6, 7, 8, 9, 10, 11, 'n', 'd', 'R', 'o', 'l'}\n",
            "{'a', 1, 2, 3, 4, 5, 6, 7, 8, 9, 10, 11, 'n', 'd', 'R', 'o', 'l'}\n"
          ]
        }
      ]
    },
    {
      "cell_type": "markdown",
      "source": [
        "What will be the output of the following code snippet?\n",
        "```python\n",
        "fruits = {\"apple\", \"banana\", \"cherry\"}\n",
        "fruits.add(\"orange\")\n",
        "fruits.update([\"mango\", \"grape\"])\n",
        "print(len(fruits))\n",
        "```\n",
        "\n",
        "A. 4\n",
        "\n",
        "B. 5\n",
        "\n",
        "C. 6<<<<<<<<<<<<<<\n",
        "\n",
        "D. Error"
      ],
      "metadata": {
        "id": "Wve_Qg6IDYFd"
      }
    },
    {
      "cell_type": "code",
      "source": [
        "fruits = {\"apple\", \"banana\", \"cherry\"}\n",
        "fruits.add(\"orange\")\n",
        "fruits.update([\"mango\", \"grape\"])\n",
        "print(len(fruits))"
      ],
      "metadata": {
        "colab": {
          "base_uri": "https://localhost:8080/"
        },
        "id": "tp2B8BMWDZY0",
        "outputId": "7f35a440-4051-49a1-f490-8bda3b059bd1"
      },
      "execution_count": null,
      "outputs": [
        {
          "output_type": "stream",
          "name": "stdout",
          "text": [
            "6\n"
          ]
        }
      ]
    },
    {
      "cell_type": "markdown",
      "source": [
        "What will be the output of the following code snippet?\n",
        "\n",
        "```python\n",
        "set1 = {1, 2, 3, 4, 5}\n",
        "set2 = {4, 5, 6, 7, 8}\n",
        "set3 = set1.symmetric_difference(set2)\n",
        "print(set3)\n",
        "```\n",
        "\n",
        "A. `{1, 2, 3, 6, 7, 8}`<<<<<<<<<<<<\n",
        "\n",
        "B. `{1, 2, 3, 8}`\n",
        "\n",
        "C. `{1, 2, 3, 4, 5}`\n",
        "\n",
        "D. `{4, 5, 6, 7, 8}`"
      ],
      "metadata": {
        "id": "w8-_pHvbD3cw"
      }
    },
    {
      "cell_type": "markdown",
      "source": [
        "![](https://datascienceparichay.com/wp-content/uploads/2021/12/python-set-symmetric-difference.png.webp)"
      ],
      "metadata": {
        "id": "fgL3aPWzFlm5"
      }
    },
    {
      "cell_type": "code",
      "source": [
        "set1 = {1, 2, 3, 4, 5}\n",
        "set2 = {4, 5, 6, 7, 8}\n",
        "set3 = set1.symmetric_difference(set2)\n",
        "print(set3)"
      ],
      "metadata": {
        "colab": {
          "base_uri": "https://localhost:8080/"
        },
        "id": "qadm3K-bD3-0",
        "outputId": "93fd5e24-37ae-491a-99b6-6931c95d2fc4"
      },
      "execution_count": null,
      "outputs": [
        {
          "output_type": "stream",
          "name": "stdout",
          "text": [
            "{1, 2, 3, 6, 7, 8}\n"
          ]
        }
      ]
    },
    {
      "cell_type": "markdown",
      "source": [
        "What will be the output of the following code snippet?\n",
        "```python\n",
        "set1 = {1, 2, 3, 4, 5}\n",
        "set2 = {4, 5, 6, 7, 8}\n",
        "set3 = set1.union(set2)\n",
        "print(set3)\n",
        "```\n",
        "A. `{4, 5}`\n",
        "\n",
        "B. `{1, 2, 3}`\n",
        "\n",
        "C. `{{1, 2, 3, 6, 7, 8}}`\n",
        "\n",
        "D. `{1, 2, 3, 4, 5, 6, 7, 8}`<<<<<<"
      ],
      "metadata": {
        "id": "NhxIa6vuENNn"
      }
    },
    {
      "cell_type": "code",
      "source": [
        "set1 = {1, 2, 3, 4, 5}\n",
        "set2 = {4, 5, 6, 7, 8}\n",
        "set3 = set1.union(set2)\n",
        "print(set3)"
      ],
      "metadata": {
        "colab": {
          "base_uri": "https://localhost:8080/"
        },
        "id": "NVjSAHAgENj0",
        "outputId": "d212fabe-1e21-47b1-b54c-22459d33215d"
      },
      "execution_count": null,
      "outputs": [
        {
          "output_type": "stream",
          "name": "stdout",
          "text": [
            "{1, 2, 3, 4, 5, 6, 7, 8}\n"
          ]
        }
      ]
    },
    {
      "cell_type": "code",
      "source": [
        "# 🏠🏡 💪💪\n",
        "# Home Work\n",
        "#  we know 8 different DS\n",
        "# 1 str\n",
        "# 2 int\n",
        "# 3 float\n",
        "# 4 bool\n",
        "# 5 None\n",
        "# 6 list\n",
        "# 7 tuple\n",
        "# 8 set\n",
        "\n",
        "# create 8 different sets and find what was possible and what was NOT possible"
      ],
      "metadata": {
        "id": "bBDKf9t7EoBu"
      },
      "execution_count": null,
      "outputs": []
    },
    {
      "cell_type": "markdown",
      "source": [
        "![](https://encrypted-tbn0.gstatic.com/images?q=tbn:ANd9GcT8Qr1K_tGHm_Go6eObYg1O36kDafVLwJec1faFT46y&s)"
      ],
      "metadata": {
        "id": "faRUrwvEFO0J"
      }
    },
    {
      "cell_type": "code",
      "source": [],
      "metadata": {
        "id": "tpvrg1-JFQ95"
      },
      "execution_count": null,
      "outputs": []
    },
    {
      "cell_type": "code",
      "source": [
        "if 1 in mySet: # quick search in sets is SUPER DUPER FAST compared to list/tuples\n",
        "    mySet.remove(1)\n"
      ],
      "metadata": {
        "id": "DPiqvS07FP7c"
      },
      "execution_count": null,
      "outputs": []
    },
    {
      "cell_type": "code",
      "source": [
        "python_list =list( range(0,1000000))\n",
        "python_set =set( range(0,1000000))"
      ],
      "metadata": {
        "id": "4tvvkTm3HNbq"
      },
      "execution_count": null,
      "outputs": []
    },
    {
      "cell_type": "code",
      "source": [
        "%%time\n",
        "-1 in python_list # 8.06*1000=8060µs"
      ],
      "metadata": {
        "colab": {
          "base_uri": "https://localhost:8080/"
        },
        "id": "DF75DHvQHVL8",
        "outputId": "ea969656-e570-479f-977f-1e9cfee58e7b"
      },
      "execution_count": null,
      "outputs": [
        {
          "output_type": "stream",
          "name": "stdout",
          "text": [
            "CPU times: user 7.76 ms, sys: 0 ns, total: 7.76 ms\n",
            "Wall time: 8.06 ms\n"
          ]
        },
        {
          "output_type": "execute_result",
          "data": {
            "text/plain": [
              "False"
            ]
          },
          "metadata": {},
          "execution_count": 76
        }
      ]
    },
    {
      "cell_type": "code",
      "source": [
        "%%time\n",
        "-1 in python_set"
      ],
      "metadata": {
        "colab": {
          "base_uri": "https://localhost:8080/"
        },
        "id": "V_E6dT2wHZsE",
        "outputId": "c35673a5-1527-431c-95aa-dd03ced62435"
      },
      "execution_count": null,
      "outputs": [
        {
          "output_type": "stream",
          "name": "stdout",
          "text": [
            "CPU times: user 4 µs, sys: 1e+03 ns, total: 5 µs\n",
            "Wall time: 6.68 µs\n"
          ]
        },
        {
          "output_type": "execute_result",
          "data": {
            "text/plain": [
              "False"
            ]
          },
          "metadata": {},
          "execution_count": 77
        }
      ]
    }
  ]
}